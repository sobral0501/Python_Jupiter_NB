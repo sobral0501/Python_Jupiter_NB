{
 "cells": [
  {
   "cell_type": "markdown",
   "id": "b664ea39",
   "metadata": {},
   "source": [
    "### Accessing Elements in a LIST"
   ]
  },
  {
   "cell_type": "code",
   "execution_count": 2,
   "id": "1d39baa2",
   "metadata": {},
   "outputs": [],
   "source": [
    "weeks = ['Sunday','Monday','Tuesday','Wednsday','Thursday','Friday','Saturday']\n",
    "my_name = ['djair','sobral']"
   ]
  },
  {
   "cell_type": "code",
   "execution_count": 3,
   "id": "0b692e26",
   "metadata": {},
   "outputs": [
    {
     "name": "stdout",
     "output_type": "stream",
     "text": [
      "['Sunday', 'Monday', 'Tuesday', 'Wednsday', 'Thursday', 'Friday', 'Saturday']\n",
      "['djair', 'sobral']\n"
     ]
    }
   ],
   "source": [
    "print(weeks)\n",
    "print(my_name)"
   ]
  },
  {
   "cell_type": "code",
   "execution_count": 12,
   "id": "d1be52df",
   "metadata": {},
   "outputs": [
    {
     "name": "stdout",
     "output_type": "stream",
     "text": [
      "Djair\n"
     ]
    }
   ],
   "source": [
    "print(my_name[0].title())"
   ]
  },
  {
   "cell_type": "code",
   "execution_count": 14,
   "id": "b58e7616",
   "metadata": {},
   "outputs": [
    {
     "name": "stdout",
     "output_type": "stream",
     "text": [
      "Djair\n",
      "Sobral\n"
     ]
    }
   ],
   "source": [
    "print(my_name[0].title())\n",
    "print(my_name[-1].title())"
   ]
  },
  {
   "cell_type": "code",
   "execution_count": 6,
   "id": "a17a8166",
   "metadata": {},
   "outputs": [
    {
     "name": "stdout",
     "output_type": "stream",
     "text": [
      "My full name is Djair Sobral.\n",
      "My full name is djair sobral\n"
     ]
    }
   ],
   "source": [
    "message_1 = f\"My full name is {my_name[0].title()} {my_name[1].title()}.\"\n",
    "message_2= \"My full name is {} {}\".format(my_name[0],my_name[1])\n",
    "print(message_1)\n",
    "print(message_2)"
   ]
  },
  {
   "cell_type": "markdown",
   "id": "903e8c4a",
   "metadata": {},
   "source": [
    "### Changing, Adding, and Removing Elements"
   ]
  },
  {
   "cell_type": "code",
   "execution_count": 22,
   "id": "5d63c4d2",
   "metadata": {},
   "outputs": [
    {
     "name": "stdout",
     "output_type": "stream",
     "text": [
      "['butter', 'milk', 'sugar', 'meat']\n",
      "['butter', 'milk', 'sugar', 'chiken']\n"
     ]
    }
   ],
   "source": [
    "groce_list = ['butter','milk','sugar','meat']\n",
    "print(groce_list)          # original list\n",
    "groce_list[3] = 'chiken'   # changing meat for chiken\n",
    "print(groce_list)          # modified list"
   ]
  },
  {
   "cell_type": "code",
   "execution_count": 23,
   "id": "f239ea77",
   "metadata": {},
   "outputs": [
    {
     "name": "stdout",
     "output_type": "stream",
     "text": [
      "['butter', 'milk', 'sugar', 'chiken', 'rice', 'tooth paste']\n"
     ]
    }
   ],
   "source": [
    "groce_list.append('rice')          # adding a new element to the list.\n",
    "groce_list.append('tooth paste')   # element is added at the end of the list.\n",
    "print(groce_list)"
   ]
  },
  {
   "cell_type": "code",
   "execution_count": 25,
   "id": "53ac004e",
   "metadata": {},
   "outputs": [
    {
     "name": "stdout",
     "output_type": "stream",
     "text": [
      "['bread', 'butter', 'milk', 'sugar', 'chiken', 'rice', 'tooth paste']\n"
     ]
    }
   ],
   "source": [
    "groce_list.insert(0, 'bread')   # inserting new element in the initial position.\n",
    "print(groce_list)"
   ]
  },
  {
   "cell_type": "code",
   "execution_count": 26,
   "id": "e2c38158",
   "metadata": {},
   "outputs": [
    {
     "name": "stdout",
     "output_type": "stream",
     "text": [
      "['bread', 'butter', 'milk', 'sugar', 'chiken', 'tooth paste']\n"
     ]
    }
   ],
   "source": [
    "del groce_list[5]      # removing an item \" rice \"\n",
    "print(groce_list)"
   ]
  },
  {
   "cell_type": "code",
   "execution_count": 27,
   "id": "ea6b8a9a",
   "metadata": {},
   "outputs": [
    {
     "name": "stdout",
     "output_type": "stream",
     "text": [
      "['bread', 'butter', 'milk', 'sugar', 'chiken']\n"
     ]
    }
   ],
   "source": [
    "groce_list.pop()     # The pop() method removes the last item in a list\n",
    "print(groce_list)"
   ]
  },
  {
   "cell_type": "code",
   "execution_count": 28,
   "id": "32e0d748",
   "metadata": {},
   "outputs": [
    {
     "name": "stdout",
     "output_type": "stream",
     "text": [
      "['bread', 'butter', 'milk', 'sugar']\n",
      "chiken\n"
     ]
    }
   ],
   "source": [
    "# we can use the pop() method to print a statement about the last item added to the list or if in order of date, the oldest.\n",
    "last_in_my_list = groce_list.pop()\n",
    "print(groce_list)\n",
    "print(last_in_my_list )"
   ]
  },
  {
   "cell_type": "code",
   "execution_count": 30,
   "id": "80cc7955",
   "metadata": {},
   "outputs": [
    {
     "name": "stdout",
     "output_type": "stream",
     "text": [
      "['honda', 'yamaha', 'suzuki', 'ducati']\n",
      "The last motocycle I owned was a Ducati\n",
      "['honda', 'yamaha', 'suzuki']\n",
      "The first motocycle I owned was a Honda\n",
      "['yamaha', 'suzuki']\n"
     ]
    }
   ],
   "source": [
    "motocycles = ['honda','yamaha','suzuki','ducati']\n",
    "print(motocycles)\n",
    "last_owned = motocycles.pop()\n",
    "print(f\"The last motocycle I owned was a {last_owned.title()}\")  # removing the last/oldest item\n",
    "print(motocycles)\n",
    "first_owned = motocycles.pop(0)\n",
    "print(f\"The first motocycle I owned was a {first_owned.title()}\")  # poping item from any position in a list\n",
    "print(motocycles)"
   ]
  },
  {
   "cell_type": "markdown",
   "id": "f40e3038",
   "metadata": {},
   "source": [
    "**when you want to delete an item from a list and not use that item in any way, use the del statement; if you want to use an\n",
    "item as you remove it, use the pop() method.**"
   ]
  },
  {
   "cell_type": "code",
   "execution_count": 31,
   "id": "043f9ace",
   "metadata": {},
   "outputs": [
    {
     "name": "stdout",
     "output_type": "stream",
     "text": [
      "['honda', 'yamaha', 'suzuki', 'ducati']\n",
      "['honda', 'yamaha', 'ducati']\n"
     ]
    }
   ],
   "source": [
    "motocycles = ['honda','yamaha','suzuki','ducati']\n",
    "# Removing by value\n",
    "print(motocycles)\n",
    "motocycles.remove('suzuki')   # removing only ' suzuki '\n",
    "print(motocycles)"
   ]
  },
  {
   "cell_type": "markdown",
   "id": "35b8ac71",
   "metadata": {},
   "source": [
    "**The remove() method deletes only the first occurrence of the value you specify. If there’s\n",
    "a possibility the value appears more than once in the list, you’ll need to use a loop\n",
    "to make sure all occurrences of the value are removed.**"
   ]
  },
  {
   "cell_type": "code",
   "execution_count": 32,
   "id": "1644f57f",
   "metadata": {},
   "outputs": [
    {
     "name": "stdout",
     "output_type": "stream",
     "text": [
      "['audi', 'bmw', 'ford', 'nissan', 'subaru', 'toyota']\n"
     ]
    }
   ],
   "source": [
    "# Sorting a List Permanently with the sort() Method\n",
    "cars = ['bmw','audi','toyota','nissan','subaru','ford']\n",
    "cars.sort()\n",
    "print(cars)"
   ]
  },
  {
   "cell_type": "code",
   "execution_count": 33,
   "id": "d1e10e9a",
   "metadata": {},
   "outputs": [
    {
     "name": "stdout",
     "output_type": "stream",
     "text": [
      "['toyota', 'subaru', 'nissan', 'ford', 'bmw', 'audi']\n"
     ]
    }
   ],
   "source": [
    "# sort this list in reverse alphabetical order by passing the argument reverse=True to the sort() method.\n",
    "cars.sort(reverse=True)\n",
    "print(cars)"
   ]
  },
  {
   "cell_type": "code",
   "execution_count": 36,
   "id": "c0b3715c",
   "metadata": {},
   "outputs": [
    {
     "name": "stdout",
     "output_type": "stream",
     "text": [
      "The original list:\n",
      "['bmw', 'audi', 'toyota', 'nissan', 'subaru', 'ford']\n",
      "\n",
      " Here is the sorted list:\n",
      "['audi', 'bmw', 'ford', 'nissan', 'subaru', 'toyota']\n",
      "\n",
      " Here is the original list again:\n",
      "['bmw', 'audi', 'toyota', 'nissan', 'subaru', 'ford']\n"
     ]
    }
   ],
   "source": [
    "# Sorting a List Temporarily with the sorted() Function\n",
    "cars = ['bmw','audi','toyota','nissan','subaru','ford']\n",
    "print('The original list:')\n",
    "print(cars)\n",
    "print('\\n Here is the sorted list:')\n",
    "print(sorted(cars))\n",
    "print('\\n Here is the original list again:')\n",
    "print(cars)"
   ]
  },
  {
   "cell_type": "code",
   "execution_count": 37,
   "id": "f905966a",
   "metadata": {},
   "outputs": [
    {
     "name": "stdout",
     "output_type": "stream",
     "text": [
      "['bmw', 'audi', 'toyota', 'nissan', 'subaru', 'ford']\n",
      "['ford', 'subaru', 'nissan', 'toyota', 'audi', 'bmw']\n"
     ]
    }
   ],
   "source": [
    "# Printing a List in Reverse Order\n",
    "print(cars)\n",
    "cars.reverse()\n",
    "print(cars)"
   ]
  },
  {
   "cell_type": "code",
   "execution_count": 38,
   "id": "bdc5affa",
   "metadata": {},
   "outputs": [],
   "source": [
    "# >>> Notice that reverse() doesn’t sort backward alphabetically; it simply reverses the order of the list.\n",
    "# >>> The reverse() method changes the order of a list permanently, but you can revert to the original order anytime by applying\n",
    "#     reverse() to the same list a second time."
   ]
  },
  {
   "cell_type": "code",
   "execution_count": 39,
   "id": "9043a904",
   "metadata": {},
   "outputs": [
    {
     "name": "stdout",
     "output_type": "stream",
     "text": [
      "['ford', 'subaru', 'nissan', 'toyota', 'audi', 'bmw']\n",
      "The list has 6 cars\n"
     ]
    }
   ],
   "source": [
    "# Finding the Length of a List with len() function.\n",
    "print(cars)\n",
    "number_of_cars = len(cars)\n",
    "print(f\"The list has {number_of_cars} cars\")"
   ]
  },
  {
   "cell_type": "code",
   "execution_count": 8,
   "id": "2b44ab4c",
   "metadata": {},
   "outputs": [
    {
     "name": "stdout",
     "output_type": "stream",
     "text": [
      "5\n"
     ]
    }
   ],
   "source": [
    "Nested_list = [1,2,3,[4,5,6]]\n",
    "print(Nested_list[3][1])       # That's how to index a nested list. If I need to get 5 out of the list, this is how."
   ]
  },
  {
   "cell_type": "markdown",
   "id": "c9b2a8b9",
   "metadata": {},
   "source": [
    "**LOOPING THROUGH AN ENTIRE LIST**"
   ]
  },
  {
   "cell_type": "code",
   "execution_count": 1,
   "id": "3ef9e1bb",
   "metadata": {},
   "outputs": [
    {
     "name": "stdout",
     "output_type": "stream",
     "text": [
      "Jane\n",
      "Djair\n",
      "Jennifer\n",
      "Caroline\n",
      "Saulo\n"
     ]
    }
   ],
   "source": [
    "myguest_list = ['Jane','Djair','Jennifer','Caroline','Saulo']\n",
    "for each_item in myguest_list:\n",
    "    print(each_item)"
   ]
  },
  {
   "cell_type": "code",
   "execution_count": 2,
   "id": "0ec6392b",
   "metadata": {},
   "outputs": [
    {
     "name": "stdout",
     "output_type": "stream",
     "text": [
      "JANE writting in all capital\n",
      "DJAIR writting in all capital\n",
      "JENNIFER writting in all capital\n",
      "CAROLINE writting in all capital\n",
      "SAULO writting in all capital\n"
     ]
    }
   ],
   "source": [
    "for name in myguest_list:\n",
    "    print(f\"{name.upper()} writting in all capital\")"
   ]
  },
  {
   "cell_type": "markdown",
   "id": "d845e80b",
   "metadata": {},
   "source": [
    "**Using the range() Function**"
   ]
  },
  {
   "cell_type": "code",
   "execution_count": 3,
   "id": "ed3ba70a",
   "metadata": {},
   "outputs": [
    {
     "name": "stdout",
     "output_type": "stream",
     "text": [
      "1\n",
      "2\n",
      "3\n",
      "4\n"
     ]
    }
   ],
   "source": [
    "for number in range(1,5):\n",
    "    print(number)"
   ]
  },
  {
   "cell_type": "markdown",
   "id": "35d90fcd",
   "metadata": {},
   "source": [
    "**Using range() to Make a List of Numbers**"
   ]
  },
  {
   "cell_type": "code",
   "execution_count": 4,
   "id": "30292f45",
   "metadata": {},
   "outputs": [
    {
     "name": "stdout",
     "output_type": "stream",
     "text": [
      "[1, 2, 3, 4, 5]\n"
     ]
    }
   ],
   "source": [
    "numbers = list(range(1,6))\n",
    "print(numbers)"
   ]
  },
  {
   "cell_type": "code",
   "execution_count": 5,
   "id": "c4e3f12d",
   "metadata": {},
   "outputs": [
    {
     "name": "stdout",
     "output_type": "stream",
     "text": [
      "[2, 4, 6, 8, 10]\n"
     ]
    }
   ],
   "source": [
    "# Listing Even numbers from 1 to 10\n",
    "even_num = list(range(2,11,2))\n",
    "print(even_num)"
   ]
  },
  {
   "cell_type": "code",
   "execution_count": 8,
   "id": "9dfd5234",
   "metadata": {},
   "outputs": [
    {
     "name": "stdout",
     "output_type": "stream",
     "text": [
      "[1, 4, 9, 16, 25, 36, 49, 64, 81, 100]\n"
     ]
    }
   ],
   "source": [
    "power_of_two=[]\n",
    "for value in range(1,11):\n",
    "    calculation = value**2\n",
    "    power_of_two.append(calculation)\n",
    "print(power_of_two)"
   ]
  },
  {
   "cell_type": "code",
   "execution_count": 21,
   "id": "fe50a574",
   "metadata": {},
   "outputs": [
    {
     "name": "stdout",
     "output_type": "stream",
     "text": [
      "[1, 2, 4, 8, 16, 32, 64, 128, 256, 512, 1024]\n"
     ]
    }
   ],
   "source": [
    "# -------------------------------\n",
    "#     BASE 2 CALCULATION\n",
    "#--------------------------------\n",
    "\n",
    "base_two=[]\n",
    "calculation=0\n",
    "for value in range(0,11):\n",
    "    calculation = calculation*2\n",
    "    if calculation <= 0:\n",
    "        calculation = 1\n",
    "    base_two.append(calculation)\n",
    "print(base_two)"
   ]
  },
  {
   "cell_type": "markdown",
   "id": "5fd2cef1",
   "metadata": {},
   "source": [
    "**Simple Statistics with a List of Numbers**"
   ]
  },
  {
   "cell_type": "code",
   "execution_count": 22,
   "id": "d0a0ecb9",
   "metadata": {},
   "outputs": [
    {
     "name": "stdout",
     "output_type": "stream",
     "text": [
      "1\n",
      "10\n",
      "55\n"
     ]
    }
   ],
   "source": [
    "digits = [1,2,3,4,5,6,7,8,9,10]\n",
    "print(min(digits))    # Minimum\n",
    "print(max(digits))    # Maximum\n",
    "print(sum(digits))    # Sum"
   ]
  },
  {
   "cell_type": "code",
   "execution_count": 23,
   "id": "d57483b3",
   "metadata": {},
   "outputs": [
    {
     "name": "stdout",
     "output_type": "stream",
     "text": [
      "Please enter a dot decimal IP Address: 192.168.50.4\n",
      "['192', '168', '50', '4']\n",
      "The IP Address in base 10 is:  [192, 168, 50, 4]\n"
     ]
    }
   ],
   "source": [
    "ip_address = input(\"Please enter a dot decimal IP Address: \")\n",
    "\n",
    "#splits the user entered IP address on the dot\n",
    "ListA = ip_address.split(\".\")\n",
    "print(ListA)\n",
    "# change to int the characters of the list\n",
    "ListA = list(map(int, ListA)) \n",
    "print(\"The IP Address in base 10 is: \" , ListA)"
   ]
  },
  {
   "cell_type": "code",
   "execution_count": 40,
   "id": "6d42b3ca",
   "metadata": {},
   "outputs": [
    {
     "name": "stdout",
     "output_type": "stream",
     "text": [
      "Enter IP number:183\n",
      "10110111\n"
     ]
    }
   ],
   "source": [
    "comput = int(input(\"Enter IP number:\"))\n",
    "binList = []\n",
    "result_1=\"\"\n",
    "decList = [128,64,32,16,8,4,2,1]\n",
    "for i in decList:\n",
    "    comput = (comput-i)\n",
    "    if comput >=0:\n",
    "        binList.append(1)\n",
    "    elif comput < 0:\n",
    "        comput = (comput+i)\n",
    "        binList.append(0)\n",
    "result = list(map(str,binList))\n",
    "for i in result:\n",
    "    result_1 = result_1+i\n",
    "print(result_1)"
   ]
  },
  {
   "cell_type": "code",
   "execution_count": 75,
   "id": "aef84432",
   "metadata": {},
   "outputs": [],
   "source": [
    "def bin_num():\n",
    "    global comput\n",
    "    binList = []\n",
    "    result_1=\"\"\n",
    "    decList = [128,64,32,16,8,4,2,1]\n",
    "    for i in decList:\n",
    "        comput = (comput-i)\n",
    "        if comput >=0:\n",
    "            binList.append(1)\n",
    "        elif comput < 0:\n",
    "            comput = (comput+i)\n",
    "            binList.append(0)\n",
    "            \n",
    "    result = list(map(str,binList))\n",
    "    \n",
    "    for i in result:\n",
    "        result_1 = result_1+i\n",
    "    return result_1\n",
    "#    print(result_1)"
   ]
  },
  {
   "cell_type": "code",
   "execution_count": 79,
   "id": "11e17ebb",
   "metadata": {},
   "outputs": [
    {
     "name": "stdout",
     "output_type": "stream",
     "text": [
      "Enter IP number:183\n",
      "10110111\n"
     ]
    }
   ],
   "source": [
    "comput = int(input(\"Enter IP number:\"))\n",
    "print(bin_num())"
   ]
  },
  {
   "cell_type": "code",
   "execution_count": 81,
   "id": "629f9369",
   "metadata": {},
   "outputs": [
    {
     "name": "stdout",
     "output_type": "stream",
     "text": [
      "Please enter a dot decimal IP Address: 192.168.183.10\n",
      "Here is the binary values:  11000000.10101000.10110111.00001010.\n"
     ]
    }
   ],
   "source": [
    "ip_address = input(\"Please enter a dot decimal IP Address: \")\n",
    "bin_list=[]\n",
    "bin_list_2=\"\"\n",
    "#splits the user entered IP address on the dot\n",
    "ListA = ip_address.split(\".\")\n",
    "# change to int the characters of the list\n",
    "ListA = list(map(int, ListA))\n",
    "for item in ListA:\n",
    "    comput = item\n",
    "#    bin_num()\n",
    "    bin_list.append(bin_num())\n",
    "#------------------------------------\n",
    "#result = list(map(str,binList))\n",
    "\n",
    "for i in bin_list:\n",
    "        bin_list_2 = bin_list_2+i+'.'\n",
    "\n",
    "#-----------------------------------\n",
    "print(\"Here is the binary values: \",bin_list_2)"
   ]
  },
  {
   "cell_type": "code",
   "execution_count": null,
   "id": "d73298f1",
   "metadata": {},
   "outputs": [],
   "source": []
  }
 ],
 "metadata": {
  "kernelspec": {
   "display_name": "Python 3",
   "language": "python",
   "name": "python3"
  },
  "language_info": {
   "codemirror_mode": {
    "name": "ipython",
    "version": 3
   },
   "file_extension": ".py",
   "mimetype": "text/x-python",
   "name": "python",
   "nbconvert_exporter": "python",
   "pygments_lexer": "ipython3",
   "version": "3.8.8"
  }
 },
 "nbformat": 4,
 "nbformat_minor": 5
}

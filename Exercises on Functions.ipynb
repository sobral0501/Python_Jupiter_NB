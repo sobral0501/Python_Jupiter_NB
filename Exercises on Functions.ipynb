{
 "cells": [
  {
   "cell_type": "markdown",
   "id": "379e7c22",
   "metadata": {},
   "source": [
    "**1 - Cities:**\n",
    "Write a function called describe_city() that accepts the name of a city and its country. The function should print a simple\n",
    "sentence, such as Reykjavik is in Iceland. Give the parameter for the country a default value.\n",
    "Call your function for three different cities, at least one of which is not in the default country."
   ]
  },
  {
   "cell_type": "code",
   "execution_count": 7,
   "id": "b678cb33",
   "metadata": {},
   "outputs": [],
   "source": [
    "def describe_city(city_name,country='USA'):\n",
    "    msg = (f\"{city_name.title()} is in {country.upper()}\")\n",
    "    print(msg)"
   ]
  },
  {
   "cell_type": "code",
   "execution_count": 9,
   "id": "2bbdbd53",
   "metadata": {},
   "outputs": [
    {
     "name": "stdout",
     "output_type": "stream",
     "text": [
      "Recife is in BRAZIL\n",
      "Dallas is in USA\n"
     ]
    }
   ],
   "source": [
    "describe_city('recife','brazil')\n",
    "describe_city('dallas')"
   ]
  },
  {
   "cell_type": "markdown",
   "id": "12217a28",
   "metadata": {},
   "source": [
    "**2 - City Names:** Write a function called city_country() that takes in the name of a city and its country.\n",
    "The function should return a string formatted like this: \"Santiago, Chile\".\n",
    "Call your function with at least three city-country pairs, and print the values that are returned."
   ]
  },
  {
   "cell_type": "code",
   "execution_count": 10,
   "id": "f7cb61a2",
   "metadata": {},
   "outputs": [],
   "source": [
    "def city_country(city,country):\n",
    "    cc_pairs = f\"{city.title()}, {country.title()}\"\n",
    "    print(cc_pairs)"
   ]
  },
  {
   "cell_type": "code",
   "execution_count": 12,
   "id": "b9417314",
   "metadata": {},
   "outputs": [
    {
     "name": "stdout",
     "output_type": "stream",
     "text": [
      "Recife, Brazil\n",
      "Dallas, Usa\n",
      "Santiago, Chile\n"
     ]
    }
   ],
   "source": [
    "city_country('recife','brazil')\n",
    "city_country('Dallas','USA')\n",
    "city_country('Santiago','chile')"
   ]
  },
  {
   "cell_type": "markdown",
   "id": "a1dd2041",
   "metadata": {},
   "source": [
    "**3 - Album:** Write a function called make_album() that builds a dictionary describing a music album. The function should take in an artist name and an album title, and it should return a dictionary containing these two pieces of information. Use the function to make three dictionaries representing different albums. Print each return value to show that the dictionaries are storing the album information correctly. \n",
    "Use None to add an optional parameter to make_album() that allows you to\n",
    "store the number of songs on an album. If the calling line includes a value for\n",
    "the number of songs, add that value to the album’s dictionary. Make at least\n",
    "one new function call that includes the number of songs on an album."
   ]
  },
  {
   "cell_type": "code",
   "execution_count": 16,
   "id": "ee174db8",
   "metadata": {},
   "outputs": [],
   "source": [
    "def make_album(artist_name,album_name,num_songs=None):\n",
    "    if num_songs:\n",
    "         album = {\"Artist:\":artist_name,'Album:':album_name,'Num_Songs:':num_songs}\n",
    "    else:\n",
    "         album = {\"Artist:\":artist_name,'Album:':album_name}\n",
    "    print(album)    "
   ]
  },
  {
   "cell_type": "code",
   "execution_count": 17,
   "id": "d6633e59",
   "metadata": {},
   "outputs": [
    {
     "name": "stdout",
     "output_type": "stream",
     "text": [
      "{'Artist:': 'Fredy Mercury', 'Album:': 'We are the champions'}\n",
      "{'Artist:': 'Elton John', 'Album:': 'Boiola Britanico', 'Num_Songs:': '12 songs'}\n",
      "{'Artist:': 'Beatles', 'Album:': 'England Wing', 'Num_Songs:': '13 songs'}\n"
     ]
    }
   ],
   "source": [
    "make_album('Fredy Mercury','We are the champions')\n",
    "make_album('Elton John','Boiola Britanico','12 songs')\n",
    "make_album('Beatles','England Wing','13 songs')"
   ]
  },
  {
   "cell_type": "markdown",
   "id": "9d6233f8",
   "metadata": {},
   "source": [
    "**4 - User Albums:** Start with your program from Exercise 3. Write a while\n",
    "loop that allows users to enter an album’s artist and title. Once you have that\n",
    "information, call make_album() with the user’s input and print the dictionary\n",
    "that’s created. Be sure to include a quit value in the while loop."
   ]
  },
  {
   "cell_type": "code",
   "execution_count": 19,
   "id": "12f0a1d2",
   "metadata": {},
   "outputs": [
    {
     "name": "stdout",
     "output_type": "stream",
     "text": [
      "Enter 'q' to quit\n",
      "Enter Artist Name:fredy Mercury\n",
      "Album Name:Made in Heaven\n",
      "Number of Songs:11\n",
      "{'Artist:': 'fredy Mercury', 'Album:': 'Made in Heaven', 'Num_Songs:': '11'}\n",
      "Enter 'q' to quit\n",
      "Enter Artist Name:Elton John\n",
      "Album Name:England\n",
      "Number of Songs:\n",
      "{'Artist:': 'Elton John', 'Album:': 'England'}\n",
      "Enter 'q' to quitq\n"
     ]
    }
   ],
   "source": [
    "while True:\n",
    "    exit = input(\"Enter 'q' to quit\")\n",
    "    if exit == 'q':\n",
    "        break\n",
    "    else:\n",
    "        artist_name = input('Enter Artist Name:')\n",
    "        album_name  = input('Album Name:')\n",
    "        num_songs   = input('Number of Songs:')\n",
    "        make_album(artist_name,album_name,num_songs)"
   ]
  },
  {
   "cell_type": "markdown",
   "id": "0fdbbfe9",
   "metadata": {},
   "source": [
    "**5 - Messages:**  Make a list containing a series of short text messages. Pass the list to a function called show_messages(), which prints each text message."
   ]
  },
  {
   "cell_type": "code",
   "execution_count": 5,
   "id": "e97ba559",
   "metadata": {},
   "outputs": [],
   "source": [
    "def show_messages(messages):\n",
    "    \n",
    "    for message in messages:\n",
    "        print('- '+message)       "
   ]
  },
  {
   "cell_type": "code",
   "execution_count": 7,
   "id": "7a983ecb",
   "metadata": {},
   "outputs": [
    {
     "name": "stdout",
     "output_type": "stream",
     "text": [
      "- Hello Mike, good morning\n",
      "- I will be there on time - around 7am\n",
      "- See you tomorow\n"
     ]
    }
   ],
   "source": [
    "messages = ['Hello Mike, good morning','I will be there on time - around 7am','See you tomorow']\n",
    "\n",
    "show_messages(messages)"
   ]
  },
  {
   "cell_type": "markdown",
   "id": "d423f40b",
   "metadata": {},
   "source": [
    "**6 - Sending Messages:** Start with a copy of your program from Exercise 5. Write a function called send_messages() \n",
    "that prints each text message and moves each message to a new list called sent_messages as it’s printed. After\n",
    "calling the function, print both of your lists to make sure the messages were moved correctly."
   ]
  },
  {
   "cell_type": "code",
   "execution_count": 10,
   "id": "3d6bc5ca",
   "metadata": {},
   "outputs": [],
   "source": [
    "def send_messages(messages,sent_messages):\n",
    "    for message in messages:\n",
    "        print(f\"Sending message: {message}\")\n",
    "        sent_messages.append(message)"
   ]
  },
  {
   "cell_type": "code",
   "execution_count": 11,
   "id": "10b62924",
   "metadata": {},
   "outputs": [
    {
     "name": "stdout",
     "output_type": "stream",
     "text": [
      "Sending message: Hello Mike, good morning\n",
      "Sending message: I will be there on time - around 7am\n",
      "Sending message: See you tomorow\n"
     ]
    }
   ],
   "source": [
    "messages = ['Hello Mike, good morning','I will be there on time - around 7am','See you tomorow']\n",
    "sent_messages = []\n",
    "\n",
    "send_messages(messages,sent_messages)"
   ]
  },
  {
   "cell_type": "code",
   "execution_count": 14,
   "id": "23e174c3",
   "metadata": {},
   "outputs": [
    {
     "name": "stdout",
     "output_type": "stream",
     "text": [
      "Messages:\n",
      "['Hello Mike, good morning', 'I will be there on time - around 7am', 'See you tomorow']\n",
      "Sent messages:\n",
      "['Hello Mike, good morning', 'I will be there on time - around 7am', 'See you tomorow']\n"
     ]
    }
   ],
   "source": [
    "print('Messages:')\n",
    "print(messages)\n",
    "print('Sent messages:')\n",
    "print(sent_messages)"
   ]
  },
  {
   "cell_type": "code",
   "execution_count": null,
   "id": "c77dd768",
   "metadata": {},
   "outputs": [],
   "source": []
  }
 ],
 "metadata": {
  "kernelspec": {
   "display_name": "Python 3",
   "language": "python",
   "name": "python3"
  },
  "language_info": {
   "codemirror_mode": {
    "name": "ipython",
    "version": 3
   },
   "file_extension": ".py",
   "mimetype": "text/x-python",
   "name": "python",
   "nbconvert_exporter": "python",
   "pygments_lexer": "ipython3",
   "version": "3.8.8"
  }
 },
 "nbformat": 4,
 "nbformat_minor": 5
}

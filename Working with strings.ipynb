{
 "cells": [
  {
   "cell_type": "code",
   "execution_count": 1,
   "id": "b7d8b4ec",
   "metadata": {},
   "outputs": [
    {
     "data": {
      "text/plain": [
       "25"
      ]
     },
     "execution_count": 1,
     "metadata": {},
     "output_type": "execute_result"
    }
   ],
   "source": [
    "5*5 # press: Shift + Enter to run the program"
   ]
  },
  {
   "cell_type": "code",
   "execution_count": 1,
   "id": "17677fa1",
   "metadata": {},
   "outputs": [
    {
     "data": {
      "text/plain": [
       "-0.5"
      ]
     },
     "execution_count": 1,
     "metadata": {},
     "output_type": "execute_result"
    }
   ],
   "source": [
    "2.5-3"
   ]
  },
  {
   "cell_type": "code",
   "execution_count": 11,
   "id": "e1c30ec5",
   "metadata": {},
   "outputs": [
    {
     "name": "stdout",
     "output_type": "stream",
     "text": [
      "Hello Hello File's Name\n"
     ]
    }
   ],
   "source": [
    "a='Hello '\n",
    "b=\"Hello \"\n",
    "c=\"File's Name\"\n",
    "print(a+b+c)"
   ]
  },
  {
   "cell_type": "code",
   "execution_count": 2,
   "id": "898815cd",
   "metadata": {},
   "outputs": [
    {
     "name": "stdout",
     "output_type": "stream",
     "text": [
      "Please enter a dot decimal IP Address: 192.168.10.2\n",
      "The IP Address in base 10 is:  [192, 168, 10, 2]\n"
     ]
    }
   ],
   "source": [
    "ip_address = input(\"Please enter a dot decimal IP Address: \")\n",
    "\n",
    "#splits the user entered IP address on the dot\n",
    "ListA = ip_address.split(\".\")\n",
    "ListA = list(map(int, ListA)) # change to int the characters of the list\n",
    "\n",
    "#ListA = ListA[0]*(256**3) + ListA[1]*(256**2) + ListA[2]*(256**1) + ListA[3]\n",
    "\n",
    "print(\"The IP Address in base 10 is: \" , ListA)\n",
    "\n",
    "#attempt at binary conversion (failing)\n",
    "#ListA = ListA[0]*(2**3) + ListA[1]*(2**2) + ListA[2]*(2**1) + ListA[3]\n",
    "#print(\"The IP Address in base 2 is: \" , ListA)"
   ]
  },
  {
   "cell_type": "code",
   "execution_count": 5,
   "id": "342e80cb",
   "metadata": {},
   "outputs": [],
   "source": [
    "a = 5"
   ]
  },
  {
   "cell_type": "code",
   "execution_count": 6,
   "id": "86a26b36",
   "metadata": {},
   "outputs": [
    {
     "data": {
      "text/plain": [
       "10"
      ]
     },
     "execution_count": 6,
     "metadata": {},
     "output_type": "execute_result"
    }
   ],
   "source": [
    "a+a"
   ]
  },
  {
   "cell_type": "code",
   "execution_count": 13,
   "id": "e661796a",
   "metadata": {},
   "outputs": [],
   "source": [
    "mystring = \"Hello World\""
   ]
  },
  {
   "cell_type": "code",
   "execution_count": 14,
   "id": "9a3a2604",
   "metadata": {},
   "outputs": [
    {
     "data": {
      "text/plain": [
       "'Hello World'"
      ]
     },
     "execution_count": 14,
     "metadata": {},
     "output_type": "execute_result"
    }
   ],
   "source": [
    "mystring"
   ]
  },
  {
   "cell_type": "code",
   "execution_count": 15,
   "id": "db201bb8",
   "metadata": {},
   "outputs": [
    {
     "data": {
      "text/plain": [
       "'H'"
      ]
     },
     "execution_count": 15,
     "metadata": {},
     "output_type": "execute_result"
    }
   ],
   "source": [
    "mystring[0]"
   ]
  },
  {
   "cell_type": "code",
   "execution_count": 16,
   "id": "d2880ff8",
   "metadata": {},
   "outputs": [
    {
     "data": {
      "text/plain": [
       "'W'"
      ]
     },
     "execution_count": 16,
     "metadata": {},
     "output_type": "execute_result"
    }
   ],
   "source": [
    "mystring[6]"
   ]
  },
  {
   "cell_type": "code",
   "execution_count": 23,
   "id": "a0410d65",
   "metadata": {},
   "outputs": [
    {
     "name": "stdout",
     "output_type": "stream",
     "text": [
      "d\n",
      "l\n",
      "r\n",
      "o\n",
      "W\n",
      " \n",
      "o\n",
      "l\n",
      "l\n",
      "e\n",
      "H\n"
     ]
    }
   ],
   "source": [
    "print(mystring[-1])\n",
    "print(mystring[-2])\n",
    "print(mystring[-3])\n",
    "print(mystring[-4])\n",
    "print(mystring[-5])\n",
    "print(mystring[-6])\n",
    "print(mystring[-7])\n",
    "print(mystring[-8])\n",
    "print(mystring[-9])\n",
    "print(mystring[-10])\n",
    "print(mystring[-11])"
   ]
  },
  {
   "cell_type": "code",
   "execution_count": 27,
   "id": "f2bf846e",
   "metadata": {},
   "outputs": [
    {
     "name": "stdout",
     "output_type": "stream",
     "text": [
      "bc\n",
      "def\n",
      "defg\n",
      "abcde\n",
      "abcdefg\n",
      "aceg\n",
      "abcdefg\n"
     ]
    }
   ],
   "source": [
    "mystring = 'abcdefg'\n",
    "print(mystring[1:3])\n",
    "print(mystring[3:6])\n",
    "print(mystring[3:])\n",
    "print(mystring[:5])\n",
    "print(mystring[::])\n",
    "print(mystring[::2])\n",
    "print(mystring[::])"
   ]
  },
  {
   "cell_type": "code",
   "execution_count": 40,
   "id": "234f5346",
   "metadata": {},
   "outputs": [
    {
     "name": "stdout",
     "output_type": "stream",
     "text": [
      "0123456789\n",
      "02468\n",
      "13579\n",
      "258\n",
      "2468\n",
      "1357\n",
      "9876543210\n"
     ]
    }
   ],
   "source": [
    "string_number ='0123456789'\n",
    "print(string_number)\n",
    "print(string_number[::2])\n",
    "print(string_number[1::2])\n",
    "print(string_number[2::3])   # start, step\n",
    "print(string_number[2::2])   # start,step\n",
    "print(string_number[1:9:2])  # start,end_and_not_include,step (start,stop,step)\n",
    "print(string_number[::-1])  # reversing a string"
   ]
  },
  {
   "cell_type": "code",
   "execution_count": 41,
   "id": "2e5245d8",
   "metadata": {},
   "outputs": [
    {
     "name": "stdout",
     "output_type": "stream",
     "text": [
      "r\n"
     ]
    }
   ],
   "source": [
    "string1='Hello World'\n",
    "print(string1[-3])"
   ]
  },
  {
   "cell_type": "code",
   "execution_count": 44,
   "id": "bc64ef98",
   "metadata": {},
   "outputs": [
    {
     "name": "stdout",
     "output_type": "stream",
     "text": [
      "djair candido sobral\n",
      "['Djair', 'Candido', 'Sobral']\n",
      "DJAIR CANDIDO SOBRAL\n",
      "['Dja', 'r Cand', 'do Sobral']\n"
     ]
    }
   ],
   "source": [
    "x = 'Djair Candido Sobral'\n",
    "print(x.lower())\n",
    "print(x.split())\n",
    "print(x.upper())\n",
    "print(x.split('i'))"
   ]
  },
  {
   "cell_type": "code",
   "execution_count": null,
   "id": "d6fcbd5d",
   "metadata": {},
   "outputs": [],
   "source": []
  }
 ],
 "metadata": {
  "kernelspec": {
   "display_name": "Python 3",
   "language": "python",
   "name": "python3"
  },
  "language_info": {
   "codemirror_mode": {
    "name": "ipython",
    "version": 3
   },
   "file_extension": ".py",
   "mimetype": "text/x-python",
   "name": "python",
   "nbconvert_exporter": "python",
   "pygments_lexer": "ipython3",
   "version": "3.8.8"
  }
 },
 "nbformat": 4,
 "nbformat_minor": 5
}

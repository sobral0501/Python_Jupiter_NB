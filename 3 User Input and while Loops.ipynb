{
 "cells": [
  {
   "cell_type": "markdown",
   "id": "710473d6",
   "metadata": {},
   "source": [
    "**Looping Using a Flag**"
   ]
  },
  {
   "cell_type": "code",
   "execution_count": 13,
   "id": "1e818542",
   "metadata": {},
   "outputs": [
    {
     "name": "stdout",
     "output_type": "stream",
     "text": [
      "\n",
      "Tell me something, and I will repeat it back to you:\n",
      "Enter 'quit' to end the program. Hello World\n",
      "------------------------------\n",
      "Hello World\n",
      "\n",
      "Tell me something, and I will repeat it back to you:\n",
      "Enter 'quit' to end the program. quit\n",
      "..... Bye .....\n"
     ]
    }
   ],
   "source": [
    "prompt = \"\\nTell me something, and I will repeat it back to you:\"\n",
    "prompt += \"\\nEnter 'quit' to end the program. \"\n",
    "\n",
    "active = True\n",
    "while active:\n",
    "    message = input(prompt)\n",
    "    if message == 'quit':\n",
    "        print('..... Bye .....')\n",
    "        active = False\n",
    "    else:\n",
    "        print('------------------------------')\n",
    "        print(message)"
   ]
  },
  {
   "cell_type": "code",
   "execution_count": 14,
   "id": "db8d2fb6",
   "metadata": {},
   "outputs": [
    {
     "name": "stdout",
     "output_type": "stream",
     "text": [
      "\n",
      "Please enter the name of a city you have visited:\n",
      "(Enter 'quit' when you are finished.) Dallas\n",
      "I'd love to go to Dallas!\n",
      "\n",
      "Please enter the name of a city you have visited:\n",
      "(Enter 'quit' when you are finished.) quit\n"
     ]
    }
   ],
   "source": [
    "###  Using break to Exit a Loop\n",
    "\n",
    "prompt = \"\\nPlease enter the name of a city you have visited:\"\n",
    "prompt += \"\\n(Enter 'quit' when you are finished.) \"\n",
    "while True:\n",
    "    city = input(prompt)\n",
    "    if city == 'quit':\n",
    "        break\n",
    "    else:\n",
    "        print(f\"I'd love to go to {city.title()}!\")"
   ]
  },
  {
   "cell_type": "markdown",
   "id": "5d28e68f",
   "metadata": {},
   "source": [
    "**Using continue in a Loop**"
   ]
  },
  {
   "cell_type": "code",
   "execution_count": 15,
   "id": "68372207",
   "metadata": {},
   "outputs": [
    {
     "name": "stdout",
     "output_type": "stream",
     "text": [
      "1\n",
      "3\n",
      "5\n",
      "7\n",
      "9\n"
     ]
    }
   ],
   "source": [
    "# Loop to print Odd numbers.\n",
    "\n",
    "current_number = 0\n",
    "while current_number < 10:\n",
    "    current_number += 1\n",
    "    if current_number % 2 == 0:\n",
    "        continue\n",
    "    print(current_number)"
   ]
  },
  {
   "cell_type": "markdown",
   "id": "13532132",
   "metadata": {},
   "source": [
    "**Movie Tickets: A movie theater charges different ticket prices depending on\n",
    "a person’s age. If a person is under the age of 3, the ticket is free; if they are\n",
    "between 3 and 12, the ticket is 10 dollars; and if they are over age 12, the ticket is\n",
    "15 dollares. Write a loop in which you ask users their age, and then tell them the cost\n",
    "of their movie ticket.**"
   ]
  },
  {
   "cell_type": "code",
   "execution_count": 20,
   "id": "a65db927",
   "metadata": {},
   "outputs": [
    {
     "name": "stdout",
     "output_type": "stream",
     "text": [
      "Enter your age: 50\n",
      "The ticket price is $15.00, please.\n"
     ]
    }
   ],
   "source": [
    "Age = input(\"Enter your age: \")\n",
    "if int(Age) <= 3:\n",
    "    print('You have FREE ticket!!!')\n",
    "elif int(Age) > 3 and int(Age) <= 12:\n",
    "    print('The ticket price is $10.00, please.')\n",
    "else:\n",
    "    print('The ticket price is $15.00, please.')"
   ]
  },
  {
   "cell_type": "markdown",
   "id": "415669e3",
   "metadata": {},
   "source": [
    "**Moving Items from One List to Another**"
   ]
  },
  {
   "cell_type": "code",
   "execution_count": 23,
   "id": "8411fa22",
   "metadata": {},
   "outputs": [
    {
     "name": "stdout",
     "output_type": "stream",
     "text": [
      "Existent Users:\n",
      "Djair\n",
      "Jane\n",
      "\n",
      "Unconfirmed new users:\n",
      "Alice\n",
      "Brian\n",
      "James\n",
      "------------------------------\n",
      "Verifying user: james\n",
      "Verifying user: brian\n",
      "Verifying user: alice\n",
      "------------------------------\n",
      "\n",
      "List of all users:\n",
      "Djair\n",
      "Jane\n",
      "James\n",
      "Brian\n",
      "Alice\n"
     ]
    }
   ],
   "source": [
    "confirmed_users  =['djair','jane']\n",
    "unconfirmed_users=['alice','brian','james']\n",
    "\n",
    "print('Existent Users:')\n",
    "for confirmed in confirmed_users:\n",
    "    print(confirmed.title())\n",
    "    \n",
    "print('\\nUnconfirmed new users:')\n",
    "for unconfirmed in unconfirmed_users:\n",
    "    print(unconfirmed.title())\n",
    "\n",
    "print('------------------------------')\n",
    "while unconfirmed_users:\n",
    "    current_user = unconfirmed_users.pop()   ## empting unconfirmed_users\n",
    "    \n",
    "    print(f'Verifying user: {current_user}')\n",
    "    confirmed_users.append(current_user)     ## Adding in a new list\n",
    "print('------------------------------')\n",
    "\n",
    "print('\\nList of all users:')\n",
    "for users in confirmed_users:\n",
    "    print(users.title())\n"
   ]
  },
  {
   "cell_type": "markdown",
   "id": "cf9f2522",
   "metadata": {},
   "source": [
    "**Removing All Instances of Specific Values from a List**"
   ]
  },
  {
   "cell_type": "code",
   "execution_count": 5,
   "id": "1a927a78",
   "metadata": {},
   "outputs": [
    {
     "name": "stdout",
     "output_type": "stream",
     "text": [
      "['a', 'a', 'a', 'b', 'c', 'd', 'e', 'f', 'g', 'l']\n"
     ]
    }
   ],
   "source": [
    "List_abc = ['a','c','e','l','a','b','d','f','g','a']\n",
    "List_abc.sort()\n",
    "print(List_abc)"
   ]
  },
  {
   "cell_type": "code",
   "execution_count": 6,
   "id": "e1376f13",
   "metadata": {},
   "outputs": [
    {
     "name": "stdout",
     "output_type": "stream",
     "text": [
      "['b', 'c', 'd', 'e', 'f', 'g', 'l']\n"
     ]
    }
   ],
   "source": [
    "### Removing ocurrence of the same element.\n",
    "\n",
    "while 'a' in List_abc:\n",
    "    List_abc.remove('a')\n",
    "    \n",
    "print(List_abc)"
   ]
  },
  {
   "cell_type": "markdown",
   "id": "3fe65127",
   "metadata": {},
   "source": [
    "**Filling a Dictionary with User Input**"
   ]
  },
  {
   "cell_type": "code",
   "execution_count": 7,
   "id": "bc2f4f16",
   "metadata": {},
   "outputs": [
    {
     "name": "stdout",
     "output_type": "stream",
     "text": [
      "\n",
      "Enter you name: Djair\n",
      "Enter vehicle maker and model:Nissan Rouge\n",
      "Would you like to Enter another vehicle? (yes / no)yes\n",
      "\n",
      "Enter you name: Jane\n",
      "Enter vehicle maker and model:Jaguar Cayenne\n",
      "Would you like to Enter another vehicle? (yes / no)yes\n",
      "\n",
      "Enter you name: Caroline\n",
      "Enter vehicle maker and model:Hunday Accent\n",
      "Would you like to Enter another vehicle? (yes / no)no\n",
      "\n",
      "---- List of Vehicles ----\n",
      "Djair entered Nissan Rouge in garage today.\n",
      "Jane entered Jaguar Cayenne in garage today.\n",
      "Caroline entered Hunday Accent in garage today.\n"
     ]
    }
   ],
   "source": [
    "### Vehicle Control System ###\n",
    "Vehicle_control = {}\n",
    "input_active=True\n",
    "while input_active:\n",
    "    name = input('\\nEnter you name: ')\n",
    "    vehicle = input('Enter vehicle maker and model:')\n",
    "    Vehicle_control[name] = vehicle\n",
    "    repeat = input('Would you like to Enter another vehicle? (yes / no)')\n",
    "    if repeat == 'no':\n",
    "        input_active = False\n",
    "        \n",
    "print('\\n---- List of Vehicles ----')\n",
    "for name,vehicle in Vehicle_control.items():\n",
    "    print(f'{name} entered {vehicle} in garage today.')"
   ]
  },
  {
   "cell_type": "code",
   "execution_count": null,
   "id": "276786c4",
   "metadata": {},
   "outputs": [],
   "source": []
  }
 ],
 "metadata": {
  "kernelspec": {
   "display_name": "Python 3",
   "language": "python",
   "name": "python3"
  },
  "language_info": {
   "codemirror_mode": {
    "name": "ipython",
    "version": 3
   },
   "file_extension": ".py",
   "mimetype": "text/x-python",
   "name": "python",
   "nbconvert_exporter": "python",
   "pygments_lexer": "ipython3",
   "version": "3.8.8"
  }
 },
 "nbformat": 4,
 "nbformat_minor": 5
}

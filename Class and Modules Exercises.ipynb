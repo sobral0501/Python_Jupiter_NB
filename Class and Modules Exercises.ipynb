{
 "cells": [
  {
   "cell_type": "code",
   "execution_count": 7,
   "id": "e7a8e840",
   "metadata": {},
   "outputs": [
    {
     "name": "stdout",
     "output_type": "stream",
     "text": [
      "[15, 30, 29, 16, 54, 44]\n"
     ]
    }
   ],
   "source": [
    "from random import randint, choice\n",
    "\n",
    "### Texas Lottery randon number generator.\n",
    "\n",
    "lista = []\n",
    "for i in range(0,6):\n",
    "    lista.append(randint(1,54))\n",
    "print(lista)"
   ]
  },
  {
   "cell_type": "code",
   "execution_count": 12,
   "id": "9a1646cf",
   "metadata": {},
   "outputs": [
    {
     "name": "stdout",
     "output_type": "stream",
     "text": [
      "Tanner\n",
      "Jane\n",
      "Carol\n"
     ]
    }
   ],
   "source": [
    "###    choice() This function takes in a list or tuple and returns a randomly chosen element.   ###\n",
    "names = ['Djair','Jane','Tanner','Carol']\n",
    "\n",
    "for i in range(0,3):\n",
    "    one_name = choice(names)\n",
    "    print(one_name)"
   ]
  },
  {
   "cell_type": "markdown",
   "id": "b6eeb036",
   "metadata": {},
   "source": [
    "**Dice:** Make a class Die with one attribute called sides, which has a default\n",
    "value of 6. Write a method called roll_die() that prints a random number\n",
    "between 1 and the number of sides the die has. Make a 6-sided die and roll it\n",
    "10 times."
   ]
  },
  {
   "cell_type": "code",
   "execution_count": 26,
   "id": "ce375886",
   "metadata": {},
   "outputs": [],
   "source": [
    "class Dice:\n",
    "    def __init__(self):\n",
    "        self.sides = 6\n",
    "        \n",
    "    def roll_die(self):\n",
    "        from random import randint\n",
    "        lista = []\n",
    "        for i in range(1,11):\n",
    "            lista.append(randint(1,6))  ## 6 sides die.\n",
    "        print(lista)"
   ]
  },
  {
   "cell_type": "code",
   "execution_count": 27,
   "id": "fc49a56c",
   "metadata": {},
   "outputs": [],
   "source": [
    "my_game = Dice()"
   ]
  },
  {
   "cell_type": "code",
   "execution_count": 28,
   "id": "43082c2d",
   "metadata": {},
   "outputs": [
    {
     "name": "stdout",
     "output_type": "stream",
     "text": [
      "[4, 6, 6, 3, 6, 6, 3, 5, 6, 2]\n"
     ]
    }
   ],
   "source": [
    "my_game.roll_die()"
   ]
  },
  {
   "cell_type": "markdown",
   "id": "31570af3",
   "metadata": {},
   "source": [
    "**Lottery:** Make a list or tuple containing a series of 10 numbers and\n",
    "five letters. Randomly select four numbers or letters from the list and print a\n",
    "message saying that any ticket matching these four numbers or letters wins a\n",
    "prize."
   ]
  },
  {
   "cell_type": "code",
   "execution_count": 3,
   "id": "74407579",
   "metadata": {},
   "outputs": [
    {
     "name": "stdout",
     "output_type": "stream",
     "text": [
      "Any ticket matching these four numbers/letters wins the a prize: [5, 7, 9, 'd']\n"
     ]
    }
   ],
   "source": [
    "from random import choice\n",
    "\n",
    "lista = [1,2,3,4,5,6,7,8,9,10,'a','b','c','d','e']\n",
    "ticket = []\n",
    "for i in range(1,5):\n",
    "    ticket.append(choice(lista))\n",
    "print(f'Any ticket matching these four numbers/letters wins the a prize: {ticket}')"
   ]
  },
  {
   "cell_type": "markdown",
   "id": "6b11737a",
   "metadata": {},
   "source": [
    "**Lottery Analysis:** You can use a loop to see how hard it might be to win\n",
    "the kind of lottery you just modeled. Make a list or tuple called my_ticket.\n",
    "Write a loop that keeps pulling numbers until your ticket wins. Print a message\n",
    "reporting how many times the loop had to run to give you a winning ticket."
   ]
  },
  {
   "cell_type": "code",
   "execution_count": 5,
   "id": "8ab69d85",
   "metadata": {},
   "outputs": [
    {
     "name": "stdout",
     "output_type": "stream",
     "text": [
      "[5, 7, 9, 'd']\n"
     ]
    }
   ],
   "source": [
    "print(ticket)"
   ]
  },
  {
   "cell_type": "code",
   "execution_count": 8,
   "id": "a6bf0d5d",
   "metadata": {},
   "outputs": [
    {
     "name": "stdout",
     "output_type": "stream",
     "text": [
      "94856\n"
     ]
    }
   ],
   "source": [
    "flag = True\n",
    "count=0\n",
    "while flag:\n",
    "    check_ticket = []\n",
    "    for i in range(1,5):\n",
    "        check_ticket.append(choice(lista))\n",
    "    if ticket == check_ticket:\n",
    "        flag = False\n",
    "    count+=1\n",
    "print(count)"
   ]
  },
  {
   "cell_type": "code",
   "execution_count": null,
   "id": "f3bc1e32",
   "metadata": {},
   "outputs": [],
   "source": []
  }
 ],
 "metadata": {
  "kernelspec": {
   "display_name": "Python 3",
   "language": "python",
   "name": "python3"
  },
  "language_info": {
   "codemirror_mode": {
    "name": "ipython",
    "version": 3
   },
   "file_extension": ".py",
   "mimetype": "text/x-python",
   "name": "python",
   "nbconvert_exporter": "python",
   "pygments_lexer": "ipython3",
   "version": "3.8.8"
  }
 },
 "nbformat": 4,
 "nbformat_minor": 5
}

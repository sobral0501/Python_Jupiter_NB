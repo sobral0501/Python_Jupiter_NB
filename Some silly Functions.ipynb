{
 "cells": [
  {
   "cell_type": "code",
   "execution_count": 1,
   "id": "d7e67ee6",
   "metadata": {},
   "outputs": [
    {
     "name": "stdout",
     "output_type": "stream",
     "text": [
      "28\n"
     ]
    }
   ],
   "source": [
    "x = [1,2,3,4,5,6,7]\n",
    "print(sum(x))"
   ]
  },
  {
   "cell_type": "code",
   "execution_count": 5,
   "id": "87858283",
   "metadata": {},
   "outputs": [
    {
     "data": {
      "text/plain": [
       "[2, 4, 6, 8, 10, 12, 14, 16, 18, 20]"
      ]
     },
     "execution_count": 5,
     "metadata": {},
     "output_type": "execute_result"
    }
   ],
   "source": [
    "def myfunc_1(*args):\n",
    "    ''' This function return even number from a list'''\n",
    "    mylist = []\n",
    "    for num in args:\n",
    "        if num % 2 == 0:\n",
    "            mylist.append(num)\n",
    "    return mylist\n",
    "            \n",
    "myfunc_1(1,2,3,4,5,6,7,8,9,10,11,12,13,14,15,16,17,18,19,20)"
   ]
  },
  {
   "cell_type": "code",
   "execution_count": 13,
   "id": "17a1bcb7",
   "metadata": {},
   "outputs": [],
   "source": [
    "def myfunc(my_string):\n",
    "    ''' This function takes a string and return a matching string where every\n",
    "        even letter is uppercase, and odd letter is lowercase. '''\n",
    "    new_string = ''\n",
    "    lenth_string = len(my_string)\n",
    "    for letter in range(1,lenth_string+1):\n",
    "        if letter % 2 == 0:\n",
    "            new_string = new_string + my_string[letter-1].upper()\n",
    "        else:\n",
    "            new_string = new_string + my_string[letter-1].lower()\n",
    "    \n",
    "    return new_string"
   ]
  },
  {
   "cell_type": "code",
   "execution_count": 14,
   "id": "067413a0",
   "metadata": {},
   "outputs": [
    {
     "data": {
      "text/plain": [
       "'pArAlElEpIpEdO'"
      ]
     },
     "execution_count": 14,
     "metadata": {},
     "output_type": "execute_result"
    }
   ],
   "source": [
    "myfunc('Paralelepipedo')"
   ]
  },
  {
   "cell_type": "code",
   "execution_count": 16,
   "id": "932c6f63",
   "metadata": {},
   "outputs": [
    {
     "name": "stdout",
     "output_type": "stream",
     "text": [
      "['Djair', 'Sobral']\n"
     ]
    }
   ],
   "source": [
    "texto = 'Djair Sobral'\n",
    "mylist = texto.split()\n",
    "print(mylist)"
   ]
  },
  {
   "cell_type": "code",
   "execution_count": 17,
   "id": "0b619368",
   "metadata": {},
   "outputs": [
    {
     "data": {
      "text/plain": [
       "'Djair'"
      ]
     },
     "execution_count": 17,
     "metadata": {},
     "output_type": "execute_result"
    }
   ],
   "source": [
    "mylist[0]"
   ]
  },
  {
   "cell_type": "code",
   "execution_count": 18,
   "id": "0836dff3",
   "metadata": {},
   "outputs": [
    {
     "data": {
      "text/plain": [
       "'D'"
      ]
     },
     "execution_count": 18,
     "metadata": {},
     "output_type": "execute_result"
    }
   ],
   "source": [
    "mylist[0][0]"
   ]
  },
  {
   "cell_type": "code",
   "execution_count": 21,
   "id": "2c6e8d81",
   "metadata": {},
   "outputs": [],
   "source": [
    "def myfunc(my_string):\n",
    "    ''' This function capitalizes the first and fourth letters of a name. '''\n",
    "    new_string = ''\n",
    "    lenth_string = len(my_string)\n",
    "    for letter in range(0,lenth_string):\n",
    "        if letter == 0 or letter == 3:\n",
    "            new_string = new_string + my_string[letter].upper()\n",
    "        else:\n",
    "            new_string = new_string + my_string[letter].lower()\n",
    "    \n",
    "    return new_string"
   ]
  },
  {
   "cell_type": "code",
   "execution_count": 22,
   "id": "d0e97aaa",
   "metadata": {},
   "outputs": [
    {
     "data": {
      "text/plain": [
       "'MacDonald'"
      ]
     },
     "execution_count": 22,
     "metadata": {},
     "output_type": "execute_result"
    }
   ],
   "source": [
    "myfunc('macdonald')"
   ]
  },
  {
   "cell_type": "code",
   "execution_count": 32,
   "id": "18049d0d",
   "metadata": {},
   "outputs": [],
   "source": [
    "def master_yoda(text):\n",
    "    ''' This functrion return a sentence with the words reversed'''\n",
    "    \n",
    "    mylist = text.split()\n",
    "    list_count=len(mylist)\n",
    "    new_text=[]\n",
    "    while list_count > 0:\n",
    "        list_count-= 1\n",
    "        new_text.append(mylist[list_count])\n",
    "    print(' '.join(new_text))"
   ]
  },
  {
   "cell_type": "code",
   "execution_count": 33,
   "id": "811d8fa0",
   "metadata": {},
   "outputs": [
    {
     "name": "stdout",
     "output_type": "stream",
     "text": [
      "Sobral Candido Djair\n"
     ]
    }
   ],
   "source": [
    "master_yoda('Djair Candido Sobral')"
   ]
  },
  {
   "cell_type": "code",
   "execution_count": 34,
   "id": "7ca63e51",
   "metadata": {},
   "outputs": [
    {
     "name": "stdout",
     "output_type": "stream",
     "text": [
      "Saturday Friday Thursday Wednsday Tuesday Monday Sunday\n"
     ]
    }
   ],
   "source": [
    "master_yoda('Sunday Monday Tuesday Wednsday Thursday Friday Saturday')"
   ]
  },
  {
   "cell_type": "code",
   "execution_count": 65,
   "id": "895c4007",
   "metadata": {},
   "outputs": [],
   "source": [
    "def has_33(nums):\n",
    "    ''' Given a list of ints, return True if the array contains a 3 next to a 3 somewhere. '''\n",
    "    flag=0\n",
    "    index=0\n",
    "    l=len(nums)\n",
    "    while index <= l-2:\n",
    "        if nums[index] == 3 and nums[index+1] == 3:\n",
    "            index+=1\n",
    "            flag = 1\n",
    "        else:\n",
    "            index+=1\n",
    "            pass\n",
    "    if flag == 1:\n",
    "        return True\n",
    "    else:\n",
    "        return False"
   ]
  },
  {
   "cell_type": "code",
   "execution_count": 66,
   "id": "6a5d8d5c",
   "metadata": {},
   "outputs": [
    {
     "data": {
      "text/plain": [
       "True"
      ]
     },
     "execution_count": 66,
     "metadata": {},
     "output_type": "execute_result"
    }
   ],
   "source": [
    "has_33([1, 3, 3])"
   ]
  },
  {
   "cell_type": "code",
   "execution_count": 67,
   "id": "34c6e3a9",
   "metadata": {},
   "outputs": [
    {
     "data": {
      "text/plain": [
       "False"
      ]
     },
     "execution_count": 67,
     "metadata": {},
     "output_type": "execute_result"
    }
   ],
   "source": [
    "has_33([1, 3, 1, 3])"
   ]
  },
  {
   "cell_type": "code",
   "execution_count": 72,
   "id": "ff05db8b",
   "metadata": {},
   "outputs": [
    {
     "data": {
      "text/plain": [
       "True"
      ]
     },
     "execution_count": 72,
     "metadata": {},
     "output_type": "execute_result"
    }
   ],
   "source": [
    "has_33([1,3,1,3,3,1,3])"
   ]
  },
  {
   "cell_type": "code",
   "execution_count": 74,
   "id": "c8d8a5e6",
   "metadata": {},
   "outputs": [
    {
     "data": {
      "text/plain": [
       "False"
      ]
     },
     "execution_count": 74,
     "metadata": {},
     "output_type": "execute_result"
    }
   ],
   "source": [
    "has_33([1,1,1,3,1,3,1,3,1,3,1])"
   ]
  },
  {
   "cell_type": "code",
   "execution_count": 36,
   "id": "e72e5d82",
   "metadata": {},
   "outputs": [],
   "source": [
    "def paper_doll(text):\n",
    "    new_text=''\n",
    "    \n",
    "    for x in range(0,len(text)):\n",
    "        new_text = new_text+text[x]*3\n",
    "    return new_text"
   ]
  },
  {
   "cell_type": "code",
   "execution_count": 37,
   "id": "54aecff2",
   "metadata": {},
   "outputs": [
    {
     "data": {
      "text/plain": [
       "'MMMiiissssssiiissssssiiippppppiii'"
      ]
     },
     "execution_count": 37,
     "metadata": {},
     "output_type": "execute_result"
    }
   ],
   "source": [
    "paper_doll('Mississippi')"
   ]
  },
  {
   "cell_type": "code",
   "execution_count": 75,
   "id": "a618355a",
   "metadata": {},
   "outputs": [],
   "source": [
    "import numpy as np"
   ]
  },
  {
   "cell_type": "code",
   "execution_count": 76,
   "id": "a97648df",
   "metadata": {},
   "outputs": [
    {
     "name": "stdout",
     "output_type": "stream",
     "text": [
      "[1 2 3 4 5]\n"
     ]
    }
   ],
   "source": [
    "lista = [1,2,3,4,5]\n",
    "a = np.array(lista)\n",
    "print(a)"
   ]
  },
  {
   "cell_type": "code",
   "execution_count": 77,
   "id": "daec17e3",
   "metadata": {},
   "outputs": [
    {
     "data": {
      "text/plain": [
       "1"
      ]
     },
     "execution_count": 77,
     "metadata": {},
     "output_type": "execute_result"
    }
   ],
   "source": [
    "a.ndim"
   ]
  },
  {
   "cell_type": "code",
   "execution_count": 78,
   "id": "5987af88",
   "metadata": {},
   "outputs": [
    {
     "data": {
      "text/plain": [
       "5"
      ]
     },
     "execution_count": 78,
     "metadata": {},
     "output_type": "execute_result"
    }
   ],
   "source": [
    "a.size"
   ]
  },
  {
   "cell_type": "code",
   "execution_count": 98,
   "id": "20868132",
   "metadata": {},
   "outputs": [
    {
     "name": "stdout",
     "output_type": "stream",
     "text": [
      "[['1' '2' '3']\n",
      " ['4' '5' '6']\n",
      " ['7' '8' '9']\n",
      " ['A' 'B' 'C']] \n",
      "\n",
      " [[1 2 3]\n",
      " [4 5 6]\n",
      " [7 8 9]]\n"
     ]
    }
   ],
   "source": [
    "lista_1 = [(1,2,3),(4,5,6),(7,8,9),('A','B','C')]\n",
    "a = np.array(lista_1)\n",
    "lista_2 =[(1,2,3),[4,5,6],(7,8,9)]\n",
    "b = np.array(lista_2)\n",
    "#print(a,'\\n')\n",
    "#print(b)\n",
    "print(a,'\\n\\n',b)"
   ]
  },
  {
   "cell_type": "code",
   "execution_count": 99,
   "id": "28d2ea62",
   "metadata": {},
   "outputs": [
    {
     "name": "stdout",
     "output_type": "stream",
     "text": [
      "2\n",
      "(4, 3)\n",
      "12\n"
     ]
    }
   ],
   "source": [
    "print(a.ndim)\n",
    "print(a.shape)\n",
    "print(a.size)"
   ]
  },
  {
   "cell_type": "code",
   "execution_count": 100,
   "id": "f2d089b8",
   "metadata": {},
   "outputs": [
    {
     "name": "stdout",
     "output_type": "stream",
     "text": [
      "2\n",
      "(3, 3)\n",
      "9\n"
     ]
    }
   ],
   "source": [
    "print(b.ndim)\n",
    "print(b.shape)\n",
    "print(b.size)"
   ]
  },
  {
   "cell_type": "code",
   "execution_count": 108,
   "id": "71d7024b",
   "metadata": {},
   "outputs": [
    {
     "name": "stdout",
     "output_type": "stream",
     "text": [
      "[[0. 0. 0.]\n",
      " [0. 0. 0.]\n",
      " [0. 0. 0.]]\n"
     ]
    }
   ],
   "source": [
    "x = np.zeros((3,3))\n",
    "print(x)"
   ]
  },
  {
   "cell_type": "code",
   "execution_count": 109,
   "id": "11880fd3",
   "metadata": {},
   "outputs": [
    {
     "data": {
      "text/plain": [
       "2"
      ]
     },
     "execution_count": 109,
     "metadata": {},
     "output_type": "execute_result"
    }
   ],
   "source": [
    "x.ndim"
   ]
  },
  {
   "cell_type": "code",
   "execution_count": 110,
   "id": "20e69f0b",
   "metadata": {},
   "outputs": [],
   "source": [
    "x=[1,2,3]\n",
    "y=[4,5,6]\n",
    "z=np.array(x+y)"
   ]
  },
  {
   "cell_type": "code",
   "execution_count": 111,
   "id": "a51e28e7",
   "metadata": {},
   "outputs": [
    {
     "name": "stdout",
     "output_type": "stream",
     "text": [
      "[1 2 3 4 5 6]\n"
     ]
    }
   ],
   "source": [
    "print(z)"
   ]
  },
  {
   "cell_type": "code",
   "execution_count": 115,
   "id": "a6b742cf",
   "metadata": {},
   "outputs": [
    {
     "name": "stdout",
     "output_type": "stream",
     "text": [
      "[[1. 1. 1.]\n",
      " [1. 1. 1.]\n",
      " [1. 1. 1.]]\n"
     ]
    }
   ],
   "source": [
    "x = np.ones((3,3))\n",
    "print(x)"
   ]
  },
  {
   "cell_type": "code",
   "execution_count": 118,
   "id": "99562024",
   "metadata": {},
   "outputs": [
    {
     "name": "stdout",
     "output_type": "stream",
     "text": [
      "[0.0, 0.5, 1.0, 1.5, 2.0, 2.5, 3.0, 3.5, 4.0, 4.5, 5.0, 5.5, 6.0, 6.5, 7.0, 7.5, 8.0, 8.5, 9.0, 9.5]\n"
     ]
    }
   ],
   "source": [
    "# The 'arange()' function generate NumPy arrays with numerical sequences.\n",
    "a = list(np.arange(0,10,0.5))\n",
    "print(a)"
   ]
  },
  {
   "cell_type": "code",
   "execution_count": 120,
   "id": "bdecfc61",
   "metadata": {},
   "outputs": [
    {
     "data": {
      "text/plain": [
       "array([[0. , 0.5, 1. , 1.5],\n",
       "       [2. , 2.5, 3. , 3.5],\n",
       "       [4. , 4.5, 5. , 5.5],\n",
       "       [6. , 6.5, 7. , 7.5],\n",
       "       [8. , 8.5, 9. , 9.5]])"
      ]
     },
     "execution_count": 120,
     "metadata": {},
     "output_type": "execute_result"
    }
   ],
   "source": [
    "# The 'reshape()' function divides a linear array in different parts in the manner specified by the shape argument.\n",
    "np.arange(0,10,0.5).reshape(5,4)"
   ]
  },
  {
   "cell_type": "code",
   "execution_count": 121,
   "id": "f8e34793",
   "metadata": {},
   "outputs": [
    {
     "data": {
      "text/plain": [
       "array([[0. , 0.5, 1. , 1.5, 2. ],\n",
       "       [2.5, 3. , 3.5, 4. , 4.5],\n",
       "       [5. , 5.5, 6. , 6.5, 7. ],\n",
       "       [7.5, 8. , 8.5, 9. , 9.5]])"
      ]
     },
     "execution_count": 121,
     "metadata": {},
     "output_type": "execute_result"
    }
   ],
   "source": [
    "np.arange(0,10,0.5).reshape(4,5)"
   ]
  },
  {
   "cell_type": "code",
   "execution_count": 122,
   "id": "161096ff",
   "metadata": {},
   "outputs": [
    {
     "data": {
      "text/plain": [
       "array([[0. , 0.5, 1. , 1.5, 2. , 2.5, 3. , 3.5, 4. , 4.5],\n",
       "       [5. , 5.5, 6. , 6.5, 7. , 7.5, 8. , 8.5, 9. , 9.5]])"
      ]
     },
     "execution_count": 122,
     "metadata": {},
     "output_type": "execute_result"
    }
   ],
   "source": [
    "np.arange(0,10,0.5).reshape(2,10)"
   ]
  },
  {
   "cell_type": "code",
   "execution_count": 156,
   "id": "bdc15c7f",
   "metadata": {},
   "outputs": [],
   "source": [
    "def blackjack(a,b,c):\n",
    "    ''' BLACKJACK: Given three integers between 1 and 11, if their sum is less than or \n",
    "        equal to 21, return their sum. If their sum exceeds 21 and there's an eleven, \n",
    "        reduce the total sum by 10. Finally, if the sum (even after adjustment) exceeds 21, return \"BUST\" '''\n",
    "    sum0 = a+b+c\n",
    "    if sum0 <=21:\n",
    "        return sum0\n",
    "    elif sum0>21 and a==11 or b==1 or c==11:\n",
    "        return sum0-10\n",
    "    else:\n",
    "        print('BUST')"
   ]
  },
  {
   "cell_type": "code",
   "execution_count": 157,
   "id": "920542e7",
   "metadata": {},
   "outputs": [
    {
     "data": {
      "text/plain": [
       "18"
      ]
     },
     "execution_count": 157,
     "metadata": {},
     "output_type": "execute_result"
    }
   ],
   "source": [
    "blackjack(5,6,7)"
   ]
  },
  {
   "cell_type": "code",
   "execution_count": 158,
   "id": "c7dc2a71",
   "metadata": {},
   "outputs": [
    {
     "name": "stdout",
     "output_type": "stream",
     "text": [
      "BUST\n"
     ]
    }
   ],
   "source": [
    "blackjack(9,9,9)"
   ]
  },
  {
   "cell_type": "code",
   "execution_count": 159,
   "id": "049f0f4c",
   "metadata": {},
   "outputs": [
    {
     "data": {
      "text/plain": [
       "19"
      ]
     },
     "execution_count": 159,
     "metadata": {},
     "output_type": "execute_result"
    }
   ],
   "source": [
    "blackjack(9,9,11)"
   ]
  },
  {
   "cell_type": "code",
   "execution_count": 165,
   "id": "7dde6e48",
   "metadata": {},
   "outputs": [],
   "source": [
    "def summer_69(arr):\n",
    "    \"\"\" SUMMER OF '69: Return the sum of the numbers in the array, except ignore sections\n",
    "        of numbers starting with a 6 and extending to the next 9 (every 6 will be followed \n",
    "        by at least one 9). Return 0 for no numbers.\"\"\"\n",
    "    ts = 0\n",
    "    for num in arr:\n",
    "        if num >=6 and num<=9:\n",
    "            pass\n",
    "        else:\n",
    "            ts=ts+num\n",
    "    return ts"
   ]
  },
  {
   "cell_type": "code",
   "execution_count": 166,
   "id": "964e5b67",
   "metadata": {},
   "outputs": [
    {
     "data": {
      "text/plain": [
       "9"
      ]
     },
     "execution_count": 166,
     "metadata": {},
     "output_type": "execute_result"
    }
   ],
   "source": [
    "summer_69([1, 3, 5])"
   ]
  },
  {
   "cell_type": "code",
   "execution_count": 167,
   "id": "10f40808",
   "metadata": {},
   "outputs": [
    {
     "data": {
      "text/plain": [
       "9"
      ]
     },
     "execution_count": 167,
     "metadata": {},
     "output_type": "execute_result"
    }
   ],
   "source": [
    "summer_69([4, 5, 6, 7, 8, 9])"
   ]
  },
  {
   "cell_type": "code",
   "execution_count": 168,
   "id": "7208e7fb",
   "metadata": {},
   "outputs": [
    {
     "data": {
      "text/plain": [
       "14"
      ]
     },
     "execution_count": 168,
     "metadata": {},
     "output_type": "execute_result"
    }
   ],
   "source": [
    "summer_69([2, 1, 6, 9, 11])"
   ]
  },
  {
   "cell_type": "code",
   "execution_count": 185,
   "id": "8852d643",
   "metadata": {},
   "outputs": [],
   "source": [
    "def spy_game(nums):\n",
    "    \"\"\" SPY GAME: Write a function that takes in a list of integers and returns True if it contains 007 in order \"\"\"\n",
    "    mystring=''\n",
    "    for num in nums:\n",
    "        if num == 0:\n",
    "            if mystring == '00' or mystring == '007':\n",
    "                pass\n",
    "            else:\n",
    "                mystring=mystring+str(num)\n",
    "        if num == 7:\n",
    "            if mystring == '007':\n",
    "                pass\n",
    "            else:\n",
    "                mystring=mystring+str(num)\n",
    "         \n",
    "    if mystring == '007':\n",
    "        return True\n",
    "    else:\n",
    "        return False"
   ]
  },
  {
   "cell_type": "code",
   "execution_count": 186,
   "id": "9e34c13d",
   "metadata": {},
   "outputs": [
    {
     "data": {
      "text/plain": [
       "True"
      ]
     },
     "execution_count": 186,
     "metadata": {},
     "output_type": "execute_result"
    }
   ],
   "source": [
    "spy_game([1,2,4,0,0,7,5])"
   ]
  },
  {
   "cell_type": "code",
   "execution_count": 187,
   "id": "3fbc8a99",
   "metadata": {},
   "outputs": [
    {
     "data": {
      "text/plain": [
       "True"
      ]
     },
     "execution_count": 187,
     "metadata": {},
     "output_type": "execute_result"
    }
   ],
   "source": [
    "spy_game([1,0,2,4,0,5,7])"
   ]
  },
  {
   "cell_type": "code",
   "execution_count": 188,
   "id": "8ae6123c",
   "metadata": {},
   "outputs": [
    {
     "data": {
      "text/plain": [
       "False"
      ]
     },
     "execution_count": 188,
     "metadata": {},
     "output_type": "execute_result"
    }
   ],
   "source": [
    "spy_game([1,7,2,0,4,5,0])"
   ]
  },
  {
   "cell_type": "code",
   "execution_count": 213,
   "id": "4dffb4fc",
   "metadata": {},
   "outputs": [],
   "source": [
    "def count_primes(num):\n",
    "    \"\"\" COUNT PRIMES: Write a function that returns the number of \n",
    "        prime numbers that exist up to and including a given number\"\"\" \n",
    "    count=0\n",
    "    for x in range(num):\n",
    "       \n",
    "        if x%2==0 or x%3==0 or x%5==0:\n",
    "            pass\n",
    "        else:\n",
    "            count+=1\n",
    "    print(f'Total amount of prime numbers: {count-1}')"
   ]
  },
  {
   "cell_type": "code",
   "execution_count": 214,
   "id": "9fed99dc",
   "metadata": {},
   "outputs": [
    {
     "name": "stdout",
     "output_type": "stream",
     "text": [
      "Total amount of prime numbers: 25\n"
     ]
    }
   ],
   "source": [
    "count_primes(100)"
   ]
  },
  {
   "cell_type": "code",
   "execution_count": 258,
   "id": "c6aa922f",
   "metadata": {},
   "outputs": [],
   "source": [
    "##################################################\n",
    "#d = {'a':('  *',' * *','*****','*   *','*   *'),'b':('*****','*****','***','*****','*****'),'c':('*****','**','**','**','*****')}"
   ]
  },
  {
   "cell_type": "code",
   "execution_count": 259,
   "id": "019fe8fc",
   "metadata": {},
   "outputs": [],
   "source": [
    "def print_big(key):\n",
    "    d = {'a':('  *',' * *','*****','*   *','*   *'),'b':('*****','*****','***','*****','*****'),'c':('*****','**','**','**','*****')}\n",
    "    for y in range(5):\n",
    "        print(d[key][y])"
   ]
  },
  {
   "cell_type": "code",
   "execution_count": 260,
   "id": "fa92bb34",
   "metadata": {},
   "outputs": [
    {
     "name": "stdout",
     "output_type": "stream",
     "text": [
      "  *\n",
      " * *\n",
      "*****\n",
      "*   *\n",
      "*   *\n"
     ]
    }
   ],
   "source": [
    "print_big('a')"
   ]
  },
  {
   "cell_type": "code",
   "execution_count": 261,
   "id": "1ac61667",
   "metadata": {},
   "outputs": [
    {
     "name": "stdout",
     "output_type": "stream",
     "text": [
      "*****\n",
      "**\n",
      "**\n",
      "**\n",
      "*****\n"
     ]
    }
   ],
   "source": [
    "print_big('c')"
   ]
  },
  {
   "cell_type": "code",
   "execution_count": 262,
   "id": "2422a243",
   "metadata": {},
   "outputs": [
    {
     "name": "stdout",
     "output_type": "stream",
     "text": [
      "*****\n",
      "*****\n",
      "***\n",
      "*****\n",
      "*****\n"
     ]
    }
   ],
   "source": [
    "print_big('b')"
   ]
  },
  {
   "cell_type": "code",
   "execution_count": null,
   "id": "b86a9aca",
   "metadata": {},
   "outputs": [],
   "source": []
  }
 ],
 "metadata": {
  "kernelspec": {
   "display_name": "Python 3",
   "language": "python",
   "name": "python3"
  },
  "language_info": {
   "codemirror_mode": {
    "name": "ipython",
    "version": 3
   },
   "file_extension": ".py",
   "mimetype": "text/x-python",
   "name": "python",
   "nbconvert_exporter": "python",
   "pygments_lexer": "ipython3",
   "version": "3.8.8"
  }
 },
 "nbformat": 4,
 "nbformat_minor": 5
}

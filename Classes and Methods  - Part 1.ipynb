{
 "cells": [
  {
   "cell_type": "markdown",
   "metadata": {},
   "source": [
    "# CLASSES - Methods"
   ]
  },
  {
   "cell_type": "code",
   "execution_count": 1,
   "metadata": {},
   "outputs": [],
   "source": [
    "class Dog():\n",
    "    \n",
    "    # Class object attribute, will be the same for any instance of a class.\n",
    "    species = 'Mammal'\n",
    "    \n",
    "    def __init__(self, name, age):\n",
    "        self.name = name\n",
    "        self.age = age\n",
    "        \n",
    "    \n",
    "    # Operations/Actions ---> Methods    \n",
    "    def sit(self):\n",
    "        print(self.name.title() + \" is now sitting.\")\n",
    "    \n",
    "    def roll_over(self):\n",
    "        print(self.name.title() + \" rolled over!\")"
   ]
  },
  {
   "cell_type": "code",
   "execution_count": 2,
   "metadata": {},
   "outputs": [
    {
     "name": "stdout",
     "output_type": "stream",
     "text": [
      "My dog's name is Willie.\n",
      "My dog is 6 years old.\n"
     ]
    }
   ],
   "source": [
    "my_dog = Dog('willie', 6)\n",
    "print(\"My dog's name is \" + my_dog.name.title() + \".\")\n",
    "print(\"My dog is \" + str(my_dog.age) + \" years old.\")"
   ]
  },
  {
   "cell_type": "code",
   "execution_count": 4,
   "metadata": {},
   "outputs": [
    {
     "data": {
      "text/plain": [
       "'Mammal'"
      ]
     },
     "execution_count": 4,
     "metadata": {},
     "output_type": "execute_result"
    }
   ],
   "source": [
    "# The 'Mammal' attribute is not entered by the user.\n",
    "my_dog.species"
   ]
  },
  {
   "cell_type": "code",
   "execution_count": 12,
   "metadata": {},
   "outputs": [
    {
     "name": "stdout",
     "output_type": "stream",
     "text": [
      "Willie is now sitting.\n",
      "Willie rolled over!\n"
     ]
    }
   ],
   "source": [
    "# To Executing Methods -- use ()\n",
    "my_dog.sit()\n",
    "my_dog.roll_over()"
   ]
  },
  {
   "cell_type": "code",
   "execution_count": 5,
   "metadata": {},
   "outputs": [
    {
     "name": "stdout",
     "output_type": "stream",
     "text": [
      "willie\n"
     ]
    }
   ],
   "source": [
    "# To Execute attributes no need to use ().\n",
    "print(my_dog.name)"
   ]
  },
  {
   "cell_type": "markdown",
   "metadata": {},
   "source": [
    "Users: Make a class called User. Create two attributes called first_name and last_name, and then create several other attributes that are typically stored in a user profile. Make a method called describe_user() that prints a summary of the user’s information. Make another method called greet_user() that prints a personalized greeting to the user. Create several instances representing different users, and call both methods for each user."
   ]
  },
  {
   "cell_type": "code",
   "execution_count": 140,
   "metadata": {},
   "outputs": [],
   "source": [
    "class User():\n",
    "    \n",
    "        \n",
    "    def __init__(self,first_name,last_name,age,gender,occupation='N/A'):\n",
    "        \n",
    "        self.first_name = first_name\n",
    "        self.last_name  = last_name\n",
    "        self.age        = age\n",
    "        self.gender     = gender\n",
    "        self.occupation = occupation\n",
    "        self.login_attempts = False\n",
    "        \n",
    "    def describe_user(self):\n",
    "        \n",
    "        print(self.first_name + ' ' + self.last_name + ' is ' + str(self.age) +\n",
    "              ' years old. Whose occupation is ' + self.occupation +'.\\n')\n",
    "        \n",
    "    def greet_user(self):\n",
    "        \n",
    "        if self.gender == 'male':\n",
    "            print('Hi Mr. ' + self.first_name + ' welcome to the System!\\n')\n",
    "        else:\n",
    "             print('Hi M(r)s. ' + self.first_name + ' welcome to the System!\\n')\n",
    "                            \n",
    "    def increment_login_attempts(self):\n",
    "        count=0\n",
    "        while self.login_attempts == False:\n",
    "            count+=1\n",
    "            password=input('Enter password: ')\n",
    "            if password == '123':\n",
    "                self.login_attempts = True\n",
    "                break\n",
    "            else:\n",
    "                print('wrong password! Try again.')\n",
    "        \n",
    "        print('Number of Login Attempts: ' + str(count))"
   ]
  },
  {
   "cell_type": "code",
   "execution_count": 141,
   "metadata": {},
   "outputs": [
    {
     "name": "stdout",
     "output_type": "stream",
     "text": [
      "Enter password: 321\n",
      "wrong password! Try again.\n",
      "Enter password: 123\n",
      "Number of Login Attempts: 2\n"
     ]
    }
   ],
   "source": [
    "myself = User('Djair','Sobral',58,'male','Data Scientist')\n",
    "myself.increment_login_attempts()"
   ]
  },
  {
   "cell_type": "code",
   "execution_count": 142,
   "metadata": {},
   "outputs": [
    {
     "name": "stdout",
     "output_type": "stream",
     "text": [
      "Djair Sobral is 58 years old. Whose occupation is Data Scientist.\n",
      "\n",
      "Hi Mr. Djair welcome to the System!\n",
      "\n",
      "---------------------------------------------------------------\n",
      "Jane Sobral is 53 years old. Whose occupation is Accountent.\n",
      "\n",
      "Hi M(r)s. Jane welcome to the System!\n",
      "\n"
     ]
    }
   ],
   "source": [
    "myself = User('Djair','Sobral',58,'male','Data Scientist')\n",
    "mywife = User('Jane','Sobral',53,'female','Accountent')\n",
    "myself.describe_user()\n",
    "myself.greet_user()\n",
    "print('---------------------------------------------------------------')\n",
    "mywife.describe_user()\n",
    "mywife.greet_user()"
   ]
  },
  {
   "cell_type": "code",
   "execution_count": 143,
   "metadata": {},
   "outputs": [
    {
     "name": "stdout",
     "output_type": "stream",
     "text": [
      "Jane Sobral is 53 years old. Whose occupation is N/A.\n",
      "\n",
      "Hi M(r)s. Jane welcome to the System!\n",
      "\n"
     ]
    }
   ],
   "source": [
    "myself = User('Jane','Sobral',53,'female')\n",
    "myself.describe_user()\n",
    "myself.greet_user()"
   ]
  },
  {
   "cell_type": "markdown",
   "metadata": {},
   "source": [
    "The Car Class  |  Let’s write a new class representing a car. Our class will store information about the kind of car we’re working with, and it will have a method that summarizes this information:"
   ]
  },
  {
   "cell_type": "code",
   "execution_count": 2,
   "metadata": {},
   "outputs": [],
   "source": [
    "class Car():\n",
    "    \n",
    "    def __init__(self, make, model, year):\n",
    "        self.make = make\n",
    "        self.model = model\n",
    "        self.year = year\n",
    "        self.odometer_reading = 0   #   Setting a Default Value for an Attribute.\n",
    "\n",
    "    def get_descriptive_name(self):\n",
    "        long_name = str(self.year) + ' ' + self.make + ' ' + self.model\n",
    "        return long_name.title()\n",
    "    \n",
    "    def read_odometer(self):\n",
    "        print(\"This car has \" + str(self.odometer_reading) + \" miles on it.\")\n",
    "        \n",
    "    def update_odometer(self,mileage):\n",
    "        if mileage >= self.odometer_reading:       # Reject the change if it attempts to roll the odometer back.\"\"\"\n",
    "            self.odometer_reading = mileage        # Set the odometer reading to the given value.\n",
    "        else:\n",
    "            print(\"You can't roll back an odometer!\")\n",
    "            print(\"This car has \" + str(self.odometer_reading) + \" miles on it.\")\n",
    "            \n",
    "    def increment_odometer(self, miles):\n",
    "        self.odometer_reading += miles     # Add the given amount to the odometer reading.\n"
   ]
  },
  {
   "cell_type": "code",
   "execution_count": 145,
   "metadata": {},
   "outputs": [
    {
     "name": "stdout",
     "output_type": "stream",
     "text": [
      "2016 Audi A4\n",
      "This car has 0 miles on it.\n",
      "This car has 200 miles on it.\n"
     ]
    }
   ],
   "source": [
    "#creating instance\n",
    "my_new_car = Car('audi', 'a4', 2016)\n",
    "\n",
    "print(my_new_car.get_descriptive_name())\n",
    "\n",
    "my_new_car.read_odometer()\n",
    "\n",
    "my_new_car.update_odometer(200)  #  Updating Mileage. No Output\n",
    "\n",
    "my_new_car.read_odometer()"
   ]
  },
  {
   "cell_type": "code",
   "execution_count": 146,
   "metadata": {},
   "outputs": [
    {
     "name": "stdout",
     "output_type": "stream",
     "text": [
      "You can't roll back an odometer!\n",
      "This car has 200 miles on it.\n"
     ]
    }
   ],
   "source": [
    "my_new_car.update_odometer(150)        #  Updating Mileage"
   ]
  },
  {
   "cell_type": "code",
   "execution_count": 147,
   "metadata": {},
   "outputs": [
    {
     "name": "stdout",
     "output_type": "stream",
     "text": [
      "This car has 275 miles on it.\n"
     ]
    }
   ],
   "source": [
    "my_new_car.increment_odometer(75)\n",
    "my_new_car.read_odometer()"
   ]
  },
  {
   "cell_type": "markdown",
   "metadata": {},
   "source": [
    "### Inheritance ###  \n",
    "You don’t always have to start from scratch when writing a class. If the class you’re writing is a specialized version of another class you wrote, you can use inheritance. When one class inherits from another, it automatically takes on all the attributes and methods of the first class. The original class is called the parent class, and the new class is the child class. The child class inherits every attribute and method from its parent class but is also free to define new attributes and methods of its own.   The __init__() Method for a Child Class."
   ]
  },
  {
   "cell_type": "code",
   "execution_count": 4,
   "metadata": {},
   "outputs": [],
   "source": [
    "class ElectricCar(Car):                      # - Represent aspects of a car, specific to electric vehicles.\n",
    "    def __init__(self, make, model, year):   # - Initialize attributes of the parent class.\n",
    "        \n",
    "        super().__init__(make, model, year)  # - The super() function is a special function that helps Python make\n",
    "        self.battery_size = 70               #   connections between the parent and child class.    \n",
    "        \n",
    "    def describe_battery(self):\n",
    "        print('This car has a ' + str(self.battery_size) + '-kwh battery.')"
   ]
  },
  {
   "cell_type": "code",
   "execution_count": 6,
   "metadata": {},
   "outputs": [
    {
     "name": "stdout",
     "output_type": "stream",
     "text": [
      "2016 Tesla Model S\n",
      "This car has 0 miles on it.\n",
      "This car has 350 miles on it.\n"
     ]
    }
   ],
   "source": [
    "my_tesla = ElectricCar('tesla', 'model s', 2016)\n",
    "\n",
    "print(my_tesla.get_descriptive_name())\n",
    "my_tesla.read_odometer()\n",
    "my_tesla.update_odometer(350)   #  Updating Mileage\n",
    "my_tesla.read_odometer()"
   ]
  },
  {
   "cell_type": "code",
   "execution_count": 7,
   "metadata": {},
   "outputs": [
    {
     "name": "stdout",
     "output_type": "stream",
     "text": [
      "This car has a 70-kwh battery.\n"
     ]
    }
   ],
   "source": [
    "my_tesla.describe_battery()"
   ]
  },
  {
   "cell_type": "code",
   "execution_count": null,
   "metadata": {},
   "outputs": [],
   "source": []
  }
 ],
 "metadata": {
  "kernelspec": {
   "display_name": "Python 3",
   "language": "python",
   "name": "python3"
  },
  "language_info": {
   "codemirror_mode": {
    "name": "ipython",
    "version": 3
   },
   "file_extension": ".py",
   "mimetype": "text/x-python",
   "name": "python",
   "nbconvert_exporter": "python",
   "pygments_lexer": "ipython3",
   "version": "3.8.8"
  }
 },
 "nbformat": 4,
 "nbformat_minor": 4
}

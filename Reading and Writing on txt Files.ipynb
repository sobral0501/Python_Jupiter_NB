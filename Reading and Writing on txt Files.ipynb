{
 "cells": [
  {
   "cell_type": "code",
   "execution_count": 1,
   "id": "8e896f8e",
   "metadata": {},
   "outputs": [
    {
     "name": "stdout",
     "output_type": "stream",
     "text": [
      "For only $149.00 dollars!\n"
     ]
    }
   ],
   "source": [
    "txt = \"For only ${price:.2f} dollars!\"\n",
    "print(txt.format(price = 149))"
   ]
  },
  {
   "cell_type": "markdown",
   "id": "1cc31eb5",
   "metadata": {},
   "source": [
    "**CREATING A TXT FILE AND WRITING ON IT**"
   ]
  },
  {
   "cell_type": "code",
   "execution_count": 28,
   "id": "4cc3d7c4",
   "metadata": {},
   "outputs": [
    {
     "name": "stdout",
     "output_type": "stream",
     "text": [
      "Overwriting c:\\\\myfiles\\\\file_names.txt\n"
     ]
    }
   ],
   "source": [
    "%%writefile c:\\\\myfiles\\\\file_names.txt\n",
    "Djair Candido Sobral\n",
    "Jane Mendonca Sobral\n",
    "Jennifer Lukmani"
   ]
  },
  {
   "cell_type": "code",
   "execution_count": 29,
   "id": "a3893b18",
   "metadata": {},
   "outputs": [],
   "source": [
    "###  To find out if a file exist:\n",
    "myfile = open('c:\\\\myfiles\\\\file_names.txt')  ##==> no error message."
   ]
  },
  {
   "cell_type": "code",
   "execution_count": 30,
   "id": "e6aab69e",
   "metadata": {},
   "outputs": [
    {
     "data": {
      "text/plain": [
       "'Djair Candido Sobral\\nJane Mendonca Sobral\\nJennifer Lukmani\\n'"
      ]
     },
     "execution_count": 30,
     "metadata": {},
     "output_type": "execute_result"
    }
   ],
   "source": [
    "### To read a file:\n",
    "myfile = open('c:\\\\myfiles\\\\file_names.txt')\n",
    "myfile.read()"
   ]
  },
  {
   "cell_type": "code",
   "execution_count": 31,
   "id": "0a893b95",
   "metadata": {},
   "outputs": [
    {
     "data": {
      "text/plain": [
       "''"
      ]
     },
     "execution_count": 31,
     "metadata": {},
     "output_type": "execute_result"
    }
   ],
   "source": [
    "## If you read it again without return the pointer to the begining of the file, nothing will show.\n",
    "myfile.read()"
   ]
  },
  {
   "cell_type": "code",
   "execution_count": 32,
   "id": "a12fe65d",
   "metadata": {},
   "outputs": [
    {
     "data": {
      "text/plain": [
       "0"
      ]
     },
     "execution_count": 32,
     "metadata": {},
     "output_type": "execute_result"
    }
   ],
   "source": [
    "## To reset the cursor - bring the pointer to the begining of the file.\n",
    "myfile.seek(0)"
   ]
  },
  {
   "cell_type": "code",
   "execution_count": 33,
   "id": "f324eab0",
   "metadata": {},
   "outputs": [
    {
     "data": {
      "text/plain": [
       "'Djair Candido Sobral\\nJane Mendonca Sobral\\nJennifer Lukmani\\n'"
      ]
     },
     "execution_count": 33,
     "metadata": {},
     "output_type": "execute_result"
    }
   ],
   "source": [
    "myfile.read()  # now you can read again"
   ]
  },
  {
   "cell_type": "code",
   "execution_count": 34,
   "id": "0f21abc7",
   "metadata": {},
   "outputs": [
    {
     "data": {
      "text/plain": [
       "0"
      ]
     },
     "execution_count": 34,
     "metadata": {},
     "output_type": "execute_result"
    }
   ],
   "source": [
    "## Another way to read the file - line by line\n",
    "myfile.seek(0)"
   ]
  },
  {
   "cell_type": "code",
   "execution_count": 35,
   "id": "23f3eca3",
   "metadata": {},
   "outputs": [
    {
     "data": {
      "text/plain": [
       "['Djair Candido Sobral\\n', 'Jane Mendonca Sobral\\n', 'Jennifer Lukmani\\n']"
      ]
     },
     "execution_count": 35,
     "metadata": {},
     "output_type": "execute_result"
    }
   ],
   "source": [
    "myfile.readlines()"
   ]
  },
  {
   "cell_type": "code",
   "execution_count": 36,
   "id": "920e87eb",
   "metadata": {},
   "outputs": [],
   "source": [
    "myfile.close()"
   ]
  },
  {
   "cell_type": "code",
   "execution_count": 37,
   "id": "f9cd7f67",
   "metadata": {},
   "outputs": [],
   "source": [
    "## A way to open a file without need to close it.\n",
    "with open('c:\\\\myfiles\\\\file_names.txt') as my_new_file:\n",
    "    contents = my_new_file.read()"
   ]
  },
  {
   "cell_type": "code",
   "execution_count": 38,
   "id": "b9f899b7",
   "metadata": {},
   "outputs": [
    {
     "data": {
      "text/plain": [
       "'Djair Candido Sobral\\nJane Mendonca Sobral\\nJennifer Lukmani\\n'"
      ]
     },
     "execution_count": 38,
     "metadata": {},
     "output_type": "execute_result"
    }
   ],
   "source": [
    "contents"
   ]
  },
  {
   "cell_type": "markdown",
   "id": "66d7dc28",
   "metadata": {},
   "source": [
    "Character Meaning\n",
    "--------- ---------------------------------------------------------------\n",
    "'r'       open for reading (default)\n",
    "'w'       open for writing, truncating the file first ==> erase the existing file and write on the top.\n",
    "'x'       create a new file and open it for writing\n",
    "'a'       open for writing, appending to the end of the file if it exists\n",
    "'b'       binary mode\n",
    "'t'       text mode (default)\n",
    "'+'       open a disk file for updating (reading and writing)\n",
    "'U'       universal newline mode (deprecated)"
   ]
  },
  {
   "cell_type": "code",
   "execution_count": 41,
   "id": "cdebf56f",
   "metadata": {},
   "outputs": [
    {
     "name": "stdout",
     "output_type": "stream",
     "text": [
      "Djair Candido Sobral\n",
      "Jane Mendonca Sobral\n",
      "Jennifer Lukmani\n",
      "\n"
     ]
    }
   ],
   "source": [
    "with open('c:\\\\myfiles\\\\file_names.txt',mode='r') as myfile:\n",
    "    print(contents)"
   ]
  },
  {
   "cell_type": "code",
   "execution_count": 42,
   "id": "75837ba4",
   "metadata": {},
   "outputs": [
    {
     "data": {
      "text/plain": [
       "'Djair Candido Sobral\\nJane Mendonca Sobral\\nJennifer Lukmani\\n'"
      ]
     },
     "execution_count": 42,
     "metadata": {},
     "output_type": "execute_result"
    }
   ],
   "source": [
    "contents"
   ]
  },
  {
   "cell_type": "code",
   "execution_count": 43,
   "id": "3ca730b2",
   "metadata": {},
   "outputs": [],
   "source": [
    "### Opening file to append more content\n",
    "with open('c:\\\\myfiles\\\\file_names.txt',mode='a') as myfile:\n",
    "    myfile.write('Caroline Mendonca Sobral')"
   ]
  },
  {
   "cell_type": "code",
   "execution_count": 44,
   "id": "d9cb9398",
   "metadata": {},
   "outputs": [
    {
     "name": "stdout",
     "output_type": "stream",
     "text": [
      "Djair Candido Sobral\n",
      "Jane Mendonca Sobral\n",
      "Jennifer Lukmani\n",
      "Caroline Mendonca Sobral\n"
     ]
    }
   ],
   "source": [
    "with open('c:\\\\myfiles\\\\file_names.txt',mode='r') as myfile:\n",
    "    contents = myfile.read()\n",
    "    print(contents)"
   ]
  },
  {
   "cell_type": "code",
   "execution_count": 46,
   "id": "730bff6d",
   "metadata": {},
   "outputs": [],
   "source": [
    "with open('c:\\\\myfiles\\\\file_names.txt',mode='a') as myfile:\n",
    "    myfile.write('\\nOmair Lukmani')"
   ]
  },
  {
   "cell_type": "code",
   "execution_count": 47,
   "id": "c704b9ba",
   "metadata": {},
   "outputs": [
    {
     "name": "stdout",
     "output_type": "stream",
     "text": [
      "Djair Candido Sobral\n",
      "Jane Mendonca Sobral\n",
      "Jennifer Lukmani\n",
      "Caroline Mendonca Sobral\n",
      "Omair Lukmani\n"
     ]
    }
   ],
   "source": [
    "with open('c:\\\\myfiles\\\\file_names.txt',mode='r') as myfile:\n",
    "    contents = myfile.read()\n",
    "    print(contents)"
   ]
  },
  {
   "cell_type": "code",
   "execution_count": 6,
   "id": "c2306760",
   "metadata": {},
   "outputs": [],
   "source": [
    "### Function created to receive personal information\n",
    "\n",
    "def personal_info():\n",
    "    fname = input('First Name:')\n",
    "    lname = input('Last Name:')\n",
    "    age = input('Age:')\n",
    "    content = fname+' '+lname+' Age: '+str(age)\n",
    "    return content"
   ]
  },
  {
   "cell_type": "code",
   "execution_count": 13,
   "id": "25068c70",
   "metadata": {},
   "outputs": [
    {
     "name": "stdout",
     "output_type": "stream",
     "text": [
      " ==>  INPUT FORM - Names Registration  <==\n",
      "Enter [quit] to exit or press [Enter] to continue\n",
      "First Name:Michael\n",
      "Last Name:Scoback\n",
      "Age:62\n",
      "Enter [quit] to exit or press [Enter] to continuequit\n"
     ]
    }
   ],
   "source": [
    "### Program to record Inputed names on a console.\n",
    "flag = True\n",
    "print(' ==>  INPUT FORM - Names Registration  <==')\n",
    "while flag:\n",
    "    \n",
    "    confirm = input('Enter [quit] to exit or press [Enter] to continue')\n",
    "    if confirm == 'quit':\n",
    "        flag = False\n",
    "    else:\n",
    "        contents = personal_info()\n",
    "        \n",
    "        with open('c:\\\\myfiles\\\\file_names.txt',mode='a') as myfile:\n",
    "            myfile.write('\\n')\n",
    "            myfile.write(contents)"
   ]
  },
  {
   "cell_type": "code",
   "execution_count": 14,
   "id": "35c61cb4",
   "metadata": {},
   "outputs": [
    {
     "name": "stdout",
     "output_type": "stream",
     "text": [
      "Djair Candido Sobral\n",
      "Jane Mendonca Sobral\n",
      "Jennifer Lukmani\n",
      "Caroline Mendonca Sobral\n",
      "Joao Candido Age: 71\n",
      "Josefa Pontes Age: 78\n",
      "Michael Scoback Age: 62\n"
     ]
    }
   ],
   "source": [
    "with open('c:\\\\myfiles\\\\file_names.txt',mode='r') as myfile:\n",
    "    contents = myfile.read()\n",
    "    print(contents)"
   ]
  },
  {
   "cell_type": "code",
   "execution_count": null,
   "id": "0f9a862e",
   "metadata": {},
   "outputs": [],
   "source": []
  }
 ],
 "metadata": {
  "kernelspec": {
   "display_name": "Python 3",
   "language": "python",
   "name": "python3"
  },
  "language_info": {
   "codemirror_mode": {
    "name": "ipython",
    "version": 3
   },
   "file_extension": ".py",
   "mimetype": "text/x-python",
   "name": "python",
   "nbconvert_exporter": "python",
   "pygments_lexer": "ipython3",
   "version": "3.8.8"
  }
 },
 "nbformat": 4,
 "nbformat_minor": 5
}

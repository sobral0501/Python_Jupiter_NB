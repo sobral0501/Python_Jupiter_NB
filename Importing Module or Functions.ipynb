{
 "cells": [
  {
   "cell_type": "code",
   "execution_count": null,
   "id": "a4a1ad5f",
   "metadata": {},
   "outputs": [],
   "source": [
    "''' MyFunction.py is a file with some difined functions; \n",
    "    file located in \\my python stuff\\ '''"
   ]
  },
  {
   "cell_type": "code",
   "execution_count": 2,
   "id": "e7e2ef54",
   "metadata": {},
   "outputs": [
    {
     "name": "stdout",
     "output_type": "stream",
     "text": [
      "144.00\n"
     ]
    }
   ],
   "source": [
    "import MyFunctions as mf\n",
    "\n",
    "mf.multiply(12,12)"
   ]
  },
  {
   "cell_type": "code",
   "execution_count": 31,
   "id": "2195d99b",
   "metadata": {},
   "outputs": [
    {
     "name": "stdout",
     "output_type": "stream",
     "text": [
      "Toyota\n",
      " - Corola\n",
      " - Camry\n",
      " - Runner\n"
     ]
    }
   ],
   "source": [
    "mf.car_shipping('Toyota','Corola','Camry','Runner')"
   ]
  },
  {
   "cell_type": "code",
   "execution_count": 9,
   "id": "cba22e00",
   "metadata": {},
   "outputs": [],
   "source": [
    "from MyFunctions import addition as add"
   ]
  },
  {
   "cell_type": "code",
   "execution_count": 10,
   "id": "eb1af9f2",
   "metadata": {},
   "outputs": [
    {
     "name": "stdout",
     "output_type": "stream",
     "text": [
      "$45.00\n"
     ]
    }
   ],
   "source": [
    "addition(1,2,3,4,5,6,7,8,9)"
   ]
  },
  {
   "cell_type": "code",
   "execution_count": 11,
   "id": "fef17cdc",
   "metadata": {},
   "outputs": [
    {
     "name": "stdout",
     "output_type": "stream",
     "text": [
      "$59.00\n"
     ]
    }
   ],
   "source": [
    "add(2021,-1962)"
   ]
  },
  {
   "cell_type": "code",
   "execution_count": 24,
   "id": "9de23134",
   "metadata": {},
   "outputs": [
    {
     "name": "stdout",
     "output_type": "stream",
     "text": [
      "Hello, Maria!\n",
      "Hello, Joao!\n"
     ]
    }
   ],
   "source": [
    "galera=['Maria','Joao']\n",
    "\n",
    "mf.greet_users(galera)"
   ]
  },
  {
   "cell_type": "code",
   "execution_count": 3,
   "id": "7459e3d4",
   "metadata": {},
   "outputs": [
    {
     "name": "stdout",
     "output_type": "stream",
     "text": [
      "15.00\n"
     ]
    }
   ],
   "source": [
    "mf.add_v2(10,5)"
   ]
  },
  {
   "cell_type": "markdown",
   "id": "a9a2e2b7",
   "metadata": {},
   "source": [
    "**Importing All Functions in a Module**\n",
    "\n",
    "You can tell Python to import every function in a module by using the asterisk (*) operator:   \n",
    "from MyFunctions import *"
   ]
  },
  {
   "cell_type": "markdown",
   "id": "2b0fae1f",
   "metadata": {},
   "source": [
    "\"\"\" However, it’s best not to use this approach when you’re working with larger modules that you\n",
    "    didn’t write. The best approach is to import the function or functions you want, or import the \n",
    "    entire module and use the dot notation.  \"\"\""
   ]
  }
 ],
 "metadata": {
  "kernelspec": {
   "display_name": "Python 3",
   "language": "python",
   "name": "python3"
  },
  "language_info": {
   "codemirror_mode": {
    "name": "ipython",
    "version": 3
   },
   "file_extension": ".py",
   "mimetype": "text/x-python",
   "name": "python",
   "nbconvert_exporter": "python",
   "pygments_lexer": "ipython3",
   "version": "3.8.8"
  }
 },
 "nbformat": 4,
 "nbformat_minor": 5
}

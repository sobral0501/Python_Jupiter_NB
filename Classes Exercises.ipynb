{
 "cells": [
  {
   "cell_type": "markdown",
   "id": "5dbb50ca",
   "metadata": {},
   "source": [
    "**1 - Restaurant:** Make a class called Restaurant. The __init__() method for Restaurant should store two attributes: a restaurant_name and a cuisine_type. Make a method called describe_restaurant() that prints these two pieces of information,\n",
    "and a method called open_restaurant() that prints a message indicating that the restaurant is open. Make an instance called restaurant from your class. Print the two attributes individually, and then call both methods."
   ]
  },
  {
   "cell_type": "code",
   "execution_count": 12,
   "id": "ecca3445",
   "metadata": {},
   "outputs": [],
   "source": [
    "class Restaurant:\n",
    "    def __init__(self,restaurant_name,cuisine_type):\n",
    "        self.restaurant_name = restaurant_name\n",
    "        self.cuisine_type    = cuisine_type\n",
    "        \n",
    "    def describe_restaurant(self):\n",
    "        print(f\"{self.restaurant_name.title()} offers {self.cuisine_type} cuisine!\")\n",
    "        \n",
    "    def open_restaurant(self):\n",
    "        print(f\"{self.restaurant_name.title()} is already Open!!!\")"
   ]
  },
  {
   "cell_type": "code",
   "execution_count": 13,
   "id": "46bce012",
   "metadata": {},
   "outputs": [],
   "source": [
    "### Creating an instance of Class Restaurant\n",
    "restaurant = Restaurant('bambino','italian food')"
   ]
  },
  {
   "cell_type": "code",
   "execution_count": 14,
   "id": "e1de4bdd",
   "metadata": {},
   "outputs": [
    {
     "name": "stdout",
     "output_type": "stream",
     "text": [
      "Restaurant's Name: Bambino\n",
      "Specialty Cuisine: Italian Food\n"
     ]
    }
   ],
   "source": [
    "### Calling the attributes\n",
    "print(f\"Restaurant's Name: {restaurant.restaurant_name.title()}\")\n",
    "print(f\"Specialty Cuisine: {restaurant.cuisine_type.title()}\")"
   ]
  },
  {
   "cell_type": "code",
   "execution_count": 15,
   "id": "94923fbe",
   "metadata": {},
   "outputs": [
    {
     "name": "stdout",
     "output_type": "stream",
     "text": [
      "Bambino offers italian food cuisine!\n",
      "Bambino is already Open!!!\n"
     ]
    }
   ],
   "source": [
    "### Calling the Methods\n",
    "restaurant.describe_restaurant()\n",
    "restaurant.open_restaurant()"
   ]
  },
  {
   "cell_type": "markdown",
   "id": "d893657e",
   "metadata": {},
   "source": [
    "**2 - Three Restaurants:** Start with your class from Exercise 1. Create three different instances from the class, and call describe_restaurant() for each instance."
   ]
  },
  {
   "cell_type": "code",
   "execution_count": 18,
   "id": "89fb4d87",
   "metadata": {},
   "outputs": [],
   "source": [
    "rst_1 = Restaurant('shogun','japonese')\n",
    "rst_2 = Restaurant('cafe brazil','brazilian')\n",
    "rst_3 = Restaurant('steakUS','american')"
   ]
  },
  {
   "cell_type": "code",
   "execution_count": 19,
   "id": "d9b53e8f",
   "metadata": {},
   "outputs": [
    {
     "name": "stdout",
     "output_type": "stream",
     "text": [
      "Shogun offers japonese cuisine!\n",
      "Cafe Brazil offers brazilian cuisine!\n",
      "Steakus offers american cuisine!\n"
     ]
    }
   ],
   "source": [
    "rst_1.describe_restaurant()\n",
    "rst_2.describe_restaurant()\n",
    "rst_3.describe_restaurant()"
   ]
  },
  {
   "cell_type": "markdown",
   "id": "e32e0285",
   "metadata": {},
   "source": [
    "**3 - Users:** Make a class called User. Create two attributes called first_name and last_name, and then create several other attributes that are typically stored in a user profile. Make a method called describe_user() that prints a summary\n",
    "of the user’s information. Make another method called greet_user() that prints a personalized greeting to the user.\n",
    "Create several instances representing different users, and call both methods for each user."
   ]
  },
  {
   "cell_type": "code",
   "execution_count": 17,
   "id": "32ed69d3",
   "metadata": {},
   "outputs": [],
   "source": [
    "###  Creating a class called User.\n",
    "class User:\n",
    "    def __init__(self,fname,lname,address,age,profession):\n",
    "        self.fname      = fname\n",
    "        self.lname      = lname\n",
    "        self.address    = address\n",
    "        self.age        = age\n",
    "        self.profession = profession\n",
    "        \n",
    "    def describe_user(self):\n",
    "        print(f\"{self.fname.title()} {self.lname.title()} is {self.profession}, {self.age} years old and lives @ {self.address}\")\n",
    "        \n",
    "    def greet_user(self):\n",
    "        print(f\"Hi {self.fname.title()}! Have a great day :)\")"
   ]
  },
  {
   "cell_type": "code",
   "execution_count": 18,
   "id": "b2b74460",
   "metadata": {},
   "outputs": [],
   "source": [
    "user1 = User('djair','sobral','The Conoly TX',59,'Programmer')"
   ]
  },
  {
   "cell_type": "code",
   "execution_count": 19,
   "id": "a6c423db",
   "metadata": {},
   "outputs": [
    {
     "name": "stdout",
     "output_type": "stream",
     "text": [
      "Djair Sobral is Programmer, 59 years old and lives @ The Conoly TX\n",
      "Hi Djair! Have a great day :)\n"
     ]
    }
   ],
   "source": [
    "user1.describe_user()\n",
    "user1.greet_user()"
   ]
  },
  {
   "cell_type": "code",
   "execution_count": 20,
   "id": "e0df1a8f",
   "metadata": {},
   "outputs": [
    {
     "name": "stdout",
     "output_type": "stream",
     "text": [
      "First Name:jane\n",
      "Last Name:sobral\n",
      "Address:Dallas TX\n",
      "Age:54\n",
      "Profession:Accountent\n"
     ]
    }
   ],
   "source": [
    "fname1 = input('First Name:')\n",
    "lname1 = input('Last Name:')\n",
    "address1 = input('Address:')\n",
    "age1 = input('Age:')\n",
    "profession1 = input('Profession:')"
   ]
  },
  {
   "cell_type": "code",
   "execution_count": 21,
   "id": "cf7dfef5",
   "metadata": {},
   "outputs": [],
   "source": [
    "user2 = User(fname1,lname1,address1,age1,profession1)"
   ]
  },
  {
   "cell_type": "code",
   "execution_count": 24,
   "id": "86452d01",
   "metadata": {},
   "outputs": [
    {
     "name": "stdout",
     "output_type": "stream",
     "text": [
      "Jane Sobral is Accountent, 54 years old and lives @ Dallas TX\n"
     ]
    }
   ],
   "source": [
    "user2.describe_user()"
   ]
  },
  {
   "cell_type": "code",
   "execution_count": 25,
   "id": "0e00645b",
   "metadata": {},
   "outputs": [
    {
     "name": "stdout",
     "output_type": "stream",
     "text": [
      "Djair Sobral is Programmer, 59 years old and lives @ The Conoly TX\n"
     ]
    }
   ],
   "source": [
    "user1.describe_user()"
   ]
  },
  {
   "cell_type": "markdown",
   "id": "1ca1f7a4",
   "metadata": {},
   "source": [
    "**4 - Number Served:** Start with your program from Exercise 1. Add an attribute called number_served with a default \n",
    "value of 0. Create an instance called restaurant from this class. Print the number of customers the restaurant has served,\n",
    "and then change this value and print it again. Add a method called set_number_served() that lets you set the number\n",
    "of customers that have been served. Call this method with a new number and print the value again. Add a method called increment_number_served() that lets you increment the number of customers who’ve been served. Call this method with any\n",
    "number you like that could represent how many customers were served in, say, a day of business."
   ]
  },
  {
   "cell_type": "code",
   "execution_count": 23,
   "id": "5ba663ef",
   "metadata": {},
   "outputs": [],
   "source": [
    "### Repeating the same Class from exercise 1.\n",
    "\n",
    "class Restaurant:\n",
    "    def __init__(self,restaurant_name,cuisine_type):\n",
    "        self.restaurant_name = restaurant_name\n",
    "        self.cuisine_type    = cuisine_type\n",
    "        self.num_served      = 0\n",
    "        \n",
    "    def describe_restaurant(self):\n",
    "        print(f\"{self.restaurant_name.title()} offers {self.cuisine_type} cuisine!\")\n",
    "        \n",
    "    def open_restaurant(self):\n",
    "        print(f\"{self.restaurant_name.title()} is already Open!!!\")\n",
    "        \n",
    "    def set_num_served(self,num_served):\n",
    "        if num_served >= 0:\n",
    "            self.num_served = num_served\n",
    "            print(f\"{self.num_served} customers served today\")\n",
    "        else:\n",
    "             print(f'***** Transection not Processed. You entered a negative number: {num_served} *****')\n",
    "        \n",
    "    def increment_num_served(self,num_served):\n",
    "        if num_served >= 0:\n",
    "            self.num_served+= num_served\n",
    "            print(f'Total number of customers served so far: {self.num_served}')\n",
    "        else:\n",
    "            print(f'***** Transection not Processed. You entered a negative number: {num_served} *****')\n",
    "    \n",
    "    def total_served(self):\n",
    "        print(f'Total number of customers served today: {self.num_served}')"
   ]
  },
  {
   "cell_type": "code",
   "execution_count": 10,
   "id": "cd30ec99",
   "metadata": {},
   "outputs": [],
   "source": [
    "restaurant = Restaurant('cafe brazil','brazilian')"
   ]
  },
  {
   "cell_type": "code",
   "execution_count": 3,
   "id": "f044afd6",
   "metadata": {},
   "outputs": [
    {
     "name": "stdout",
     "output_type": "stream",
     "text": [
      "***** Transection not Processed. You entered a negative number: -5 *****\n"
     ]
    }
   ],
   "source": [
    "restaurant.set_num_served(-5)"
   ]
  },
  {
   "cell_type": "code",
   "execution_count": 4,
   "id": "03acc30e",
   "metadata": {},
   "outputs": [
    {
     "name": "stdout",
     "output_type": "stream",
     "text": [
      "8 customers served today\n"
     ]
    }
   ],
   "source": [
    "restaurant.set_num_served(8)"
   ]
  },
  {
   "cell_type": "code",
   "execution_count": 5,
   "id": "aea36cf4",
   "metadata": {},
   "outputs": [
    {
     "name": "stdout",
     "output_type": "stream",
     "text": [
      "Total number of customers served so far: 23\n"
     ]
    }
   ],
   "source": [
    "restaurant.increment_num_served(15)"
   ]
  },
  {
   "cell_type": "code",
   "execution_count": 6,
   "id": "4cf566ce",
   "metadata": {},
   "outputs": [
    {
     "name": "stdout",
     "output_type": "stream",
     "text": [
      "***** Transection not Processed. You entered a negative number: -3 *****\n"
     ]
    }
   ],
   "source": [
    "restaurant.increment_num_served(-3)"
   ]
  },
  {
   "cell_type": "code",
   "execution_count": 7,
   "id": "62430da1",
   "metadata": {},
   "outputs": [
    {
     "name": "stdout",
     "output_type": "stream",
     "text": [
      "Total number of customers served today: 23\n"
     ]
    }
   ],
   "source": [
    "restaurant.total_served()"
   ]
  },
  {
   "cell_type": "markdown",
   "id": "ec226b5f",
   "metadata": {},
   "source": [
    "**5. Login Attempts:** Add an attribute called login_attempts to your User class from Exercise 9-3 (page 162). Write a method called increment_login _attempts() that increments the value of login_attempts by 1. Write another method called reset_login_attempts() that resets the value of login_attempts to 0.\n",
    "\n",
    "Make an instance of the User class and call increment_login_attempts() several times. Print the value of login_attempts to make sure it was incremented properly, and then call reset_login_attempts(). Print login_attempts again to make sure it was reset to 0."
   ]
  },
  {
   "cell_type": "code",
   "execution_count": 3,
   "id": "5ff84150",
   "metadata": {},
   "outputs": [],
   "source": [
    "### Repeating the same Class from exercise 3.\n",
    "class User:\n",
    "    def __init__(self,fname,lname,address,age,profession):\n",
    "        self.fname          = fname\n",
    "        self.lname          = lname\n",
    "        self.address        = address\n",
    "        self.age            = age\n",
    "        self.profession     = profession\n",
    "        self.login_attempts = 0\n",
    "        \n",
    "    def describe_user(self):\n",
    "        print(f\"{self.fname.title()} {self.lname.title()} is {self.profession}, {self.age} years old and lives @ {self.address}\")\n",
    "        \n",
    "    def greet_user(self):\n",
    "        print(f\"Hi {self.fname.title()}! Have a great day :)\")\n",
    "        \n",
    "    def increment_login_attempts(self):\n",
    "        self.login_attempts = self.login_attempts + 1\n",
    "        print(f'{self.login_attempts} loging attempt(s).')\n",
    "        \n",
    "    def reset_login_attempts(self):\n",
    "        self.login_attempts = 0\n",
    "        print(f'Loging attempts reset to {self.login_attempts}.')"
   ]
  },
  {
   "cell_type": "code",
   "execution_count": 4,
   "id": "d18bb68c",
   "metadata": {},
   "outputs": [],
   "source": [
    "user1 = User('djair','sobral','The Conoly TX',59,'Programmer')"
   ]
  },
  {
   "cell_type": "code",
   "execution_count": 5,
   "id": "ee73a95d",
   "metadata": {},
   "outputs": [
    {
     "name": "stdout",
     "output_type": "stream",
     "text": [
      "1 loging attempt(s).\n"
     ]
    }
   ],
   "source": [
    "user1.increment_login_attempts()"
   ]
  },
  {
   "cell_type": "code",
   "execution_count": 6,
   "id": "926fc192",
   "metadata": {},
   "outputs": [
    {
     "name": "stdout",
     "output_type": "stream",
     "text": [
      "Loging attempts reset to 0.\n"
     ]
    }
   ],
   "source": [
    "user1.reset_login_attempts()"
   ]
  },
  {
   "cell_type": "code",
   "execution_count": 7,
   "id": "acbcbd9f",
   "metadata": {},
   "outputs": [
    {
     "name": "stdout",
     "output_type": "stream",
     "text": [
      "Djair Sobral is Programmer, 59 years old and lives @ The Conoly TX\n"
     ]
    }
   ],
   "source": [
    "user1.describe_user()"
   ]
  },
  {
   "cell_type": "markdown",
   "id": "d7a85de8",
   "metadata": {},
   "source": [
    "**6. Ice Cream Stand:** An ice cream stand is a specific kind of restaurant. Write a class called IceCreamStand that inherits from the Restaurant class you wrote in Exercise 1 or Exercise 4. Either version of the class will work; just pick the one you like better. Add an attribute called flavors that stores a list of ice cream flavors. Write a method that displays these flavors. Create an instance of IceCreamStand, and call this method."
   ]
  },
  {
   "cell_type": "code",
   "execution_count": 36,
   "id": "131b0953",
   "metadata": {},
   "outputs": [],
   "source": [
    "### Using Class Restaurant from exercise 4.\n",
    "\n",
    "class IceCreamStand(Restaurant):\n",
    "    def __init__(self,restaurant_name,cuisine_type):\n",
    "        super().__init__(restaurant_name,cuisine_type)\n",
    "        self.flavores = ['chocolate','vanilla','strawberry']\n",
    "        \n",
    "    def ice_cream_flavores(self):\n",
    "        print(f'{self.restaurant_name} is now offering the following Ice Cream flavores: {self.flavores}')\n",
    "        "
   ]
  },
  {
   "cell_type": "code",
   "execution_count": 37,
   "id": "1a086366",
   "metadata": {},
   "outputs": [
    {
     "name": "stdout",
     "output_type": "stream",
     "text": [
      "Cafe Brazil offers brazilian cuisine!\n"
     ]
    }
   ],
   "source": [
    "stand = IceCreamStand('cafe brazil','brazilian')\n",
    "stand.describe_restaurant()"
   ]
  },
  {
   "cell_type": "code",
   "execution_count": 38,
   "id": "65c107ef",
   "metadata": {},
   "outputs": [
    {
     "name": "stdout",
     "output_type": "stream",
     "text": [
      "cafe brazil is now offering the following Ice Cream flavores: ['chocolate', 'vanilla', 'strawberry']\n"
     ]
    }
   ],
   "source": [
    "stand.ice_cream_flavores()"
   ]
  },
  {
   "cell_type": "markdown",
   "id": "0c1fd88a",
   "metadata": {},
   "source": [
    "**7. Admin:** An administrator is a special kind of user. Write a class called\n",
    "Admin that inherits from the User class you wrote in Exercise 3 or Exercise 5. Add an attribute, privileges, that stores a list\n",
    "of strings like \"can add post\", \"can delete post\", \"can ban user\", and so on.\n",
    "Write a method called show_privileges() that lists the administrator’s set of\n",
    "privileges. Create an instance of Admin, and call your method."
   ]
  },
  {
   "cell_type": "code",
   "execution_count": 39,
   "id": "eb880799",
   "metadata": {},
   "outputs": [],
   "source": [
    "### Using Class User from exercise 5.\n",
    "\n",
    "class Admin(User):\n",
    "    def __init__(self,fname,lname,address,age,profession):\n",
    "        super().__init__(fname,lname,address,age,profession)\n",
    "        self.privileges = ['can delete post','can ban user','can register new user']\n",
    "        \n",
    "    def show_privileges(self):\n",
    "        print(f'The Admin {self.fname.title()} has the following privileges: {self.privileges}')    "
   ]
  },
  {
   "cell_type": "code",
   "execution_count": 40,
   "id": "bf21b640",
   "metadata": {},
   "outputs": [],
   "source": [
    "new_admin = Admin('djair','sobral','Dallas-TX',59,'IT manager')"
   ]
  },
  {
   "cell_type": "code",
   "execution_count": 41,
   "id": "8fe1a98d",
   "metadata": {},
   "outputs": [
    {
     "name": "stdout",
     "output_type": "stream",
     "text": [
      "The Admin Djair has the following privileges: ['can delete post', 'can ban user', 'can register new user']\n"
     ]
    }
   ],
   "source": [
    "new_admin.show_privileges()"
   ]
  },
  {
   "cell_type": "code",
   "execution_count": 42,
   "id": "dbd7e87c",
   "metadata": {},
   "outputs": [
    {
     "name": "stdout",
     "output_type": "stream",
     "text": [
      "Djair Sobral is IT manager, 59 years old and lives @ Dallas-TX\n"
     ]
    }
   ],
   "source": [
    "new_admin.describe_user()"
   ]
  },
  {
   "cell_type": "markdown",
   "id": "c2d393cc",
   "metadata": {},
   "source": [
    "**8. Privileges:** Write a separate Privileges class. The class should have one\n",
    "attribute, privileges, that stores a list of strings as described in Exercise 7.\n",
    "Move the show_privileges() method to this class. Make a Privileges instance\n",
    "as an attribute in the Admin class. Create a new instance of Admin and use your\n",
    "method to show its privileges."
   ]
  },
  {
   "cell_type": "code",
   "execution_count": 43,
   "id": "2fdd41a1",
   "metadata": {},
   "outputs": [],
   "source": [
    "### Exercise done in a different file called 'Exercise 8 - Privileges'"
   ]
  }
 ],
 "metadata": {
  "kernelspec": {
   "display_name": "Python 3",
   "language": "python",
   "name": "python3"
  },
  "language_info": {
   "codemirror_mode": {
    "name": "ipython",
    "version": 3
   },
   "file_extension": ".py",
   "mimetype": "text/x-python",
   "name": "python",
   "nbconvert_exporter": "python",
   "pygments_lexer": "ipython3",
   "version": "3.8.8"
  }
 },
 "nbformat": 4,
 "nbformat_minor": 5
}

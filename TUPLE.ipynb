{
 "cells": [
  {
   "cell_type": "markdown",
   "id": "a3f02d1d",
   "metadata": {},
   "source": [
    "**TUPLEs**"
   ]
  },
  {
   "cell_type": "code",
   "execution_count": 5,
   "id": "3f8f4210",
   "metadata": {},
   "outputs": [
    {
     "name": "stdout",
     "output_type": "stream",
     "text": [
      "{'sentra': 3500, 'versa': 2000, 'rouge': 4500, 'altima': 3000}\n"
     ]
    }
   ],
   "source": [
    "nissan = {'sentra':3500,'versa':2000,'rouge':4500,'altima':3000}\n",
    "print(nissan)"
   ]
  },
  {
   "cell_type": "code",
   "execution_count": 6,
   "id": "53331a45",
   "metadata": {},
   "outputs": [
    {
     "name": "stdout",
     "output_type": "stream",
     "text": [
      "Your car cost $: 3000\n",
      "No car in stock\n"
     ]
    }
   ],
   "source": [
    "#  Using get() to Access Values:\n",
    "choose_car_value = nissan.get('altima','No car in stock')\n",
    "print(f\"Your car cost $: {choose_car_value}\")\n",
    "choose_car_value = nissan.get('maxima','No car in stock')\n",
    "print(choose_car_value)"
   ]
  },
  {
   "cell_type": "code",
   "execution_count": 7,
   "id": "ae08d86e",
   "metadata": {},
   "outputs": [
    {
     "name": "stdout",
     "output_type": "stream",
     "text": [
      "{'sentra': 3500, 'versa': 2000, 'rouge': 4500, 'altima': 3000, 'maxima': 3300}\n"
     ]
    }
   ],
   "source": [
    "# ADDING A NEW ITEM:\n",
    "nissan['maxima']=3300\n",
    "print(nissan)"
   ]
  },
  {
   "cell_type": "code",
   "execution_count": 8,
   "id": "4068581f",
   "metadata": {},
   "outputs": [
    {
     "name": "stdout",
     "output_type": "stream",
     "text": [
      "{'versa': 2000, 'rouge': 4500, 'altima': 3000, 'maxima': 3300}\n"
     ]
    }
   ],
   "source": [
    "# Removing Key-Value Pair:\n",
    "del nissan['sentra']\n",
    "print(nissan)"
   ]
  },
  {
   "cell_type": "code",
   "execution_count": 9,
   "id": "db9f05c0",
   "metadata": {},
   "outputs": [
    {
     "name": "stdout",
     "output_type": "stream",
     "text": [
      "Djair\n",
      "Sobral\n"
     ]
    }
   ],
   "source": [
    "personal_info = {'First_name':'Djair','Last_name':'Sobral','Age':59,'City':'Dallas','State':'Texas'}\n",
    "print(personal_info['First_name'])\n",
    "print(personal_info['Last_name'])"
   ]
  },
  {
   "cell_type": "markdown",
   "id": "bc4556d2",
   "metadata": {},
   "source": [
    "**Looping Through All Key-Value Pairs**"
   ]
  },
  {
   "cell_type": "code",
   "execution_count": 10,
   "id": "372b8e6a",
   "metadata": {},
   "outputs": [
    {
     "name": "stdout",
     "output_type": "stream",
     "text": [
      "\n",
      "Key: First_name\n",
      "Value: Djair\n",
      "\n",
      "Key: Last_name\n",
      "Value: Sobral\n",
      "\n",
      "Key: Age\n",
      "Value: 59\n",
      "\n",
      "Key: City\n",
      "Value: Dallas\n",
      "\n",
      "Key: State\n",
      "Value: Texas\n"
     ]
    }
   ],
   "source": [
    "for key, value in personal_info.items():\n",
    "    print(f\"\\nKey: {key}\")\n",
    "    print(f\"Value: {value}\")"
   ]
  },
  {
   "cell_type": "code",
   "execution_count": 11,
   "id": "e3be6a7c",
   "metadata": {},
   "outputs": [
    {
     "name": "stdout",
     "output_type": "stream",
     "text": [
      "First_name: Djair\n",
      "Last_name: Sobral\n",
      "Age: 59\n",
      "City: Dallas\n",
      "State: Texas\n"
     ]
    }
   ],
   "source": [
    "for key, value in personal_info.items():\n",
    "    print(f\"{key}: {value}\")"
   ]
  },
  {
   "cell_type": "code",
   "execution_count": 12,
   "id": "80292d32",
   "metadata": {},
   "outputs": [
    {
     "name": "stdout",
     "output_type": "stream",
     "text": [
      "Djair\n",
      "Sobral\n",
      "59\n",
      "Dallas\n",
      "Texas\n",
      "\n",
      "\n",
      "First_name\n",
      "Last_name\n",
      "Age\n",
      "City\n",
      "State\n"
     ]
    }
   ],
   "source": [
    "for value in personal_info.values():\n",
    "    print(value)\n",
    "print('\\n')\n",
    "for key in personal_info.keys():\n",
    "    print(key)"
   ]
  },
  {
   "cell_type": "code",
   "execution_count": 13,
   "id": "846ab098",
   "metadata": {},
   "outputs": [
    {
     "name": "stdout",
     "output_type": "stream",
     "text": [
      "Hi Maria! You are from Mexico\n"
     ]
    }
   ],
   "source": [
    "nacionality = {\n",
    "    'Djair':'Israel',\n",
    "    'Caroline':'USA',\n",
    "    'Zanfir':'Russia',\n",
    "    'Edjanete':'Brazil',\n",
    "    'Maria':'Mexico',\n",
    "    'Jennifer':'Brazil',\n",
    "    'Omair':'Paquistan'\n",
    "}\n",
    "#--------------------\n",
    "if 'Maria' in nacionality.keys():\n",
    "    print(f\"Hi Maria! You are from {nacionality['Maria']}\")"
   ]
  },
  {
   "cell_type": "markdown",
   "id": "119638a5",
   "metadata": {},
   "source": [
    "**Looping Through a Dictionary’s Keys in a Particular Order**"
   ]
  },
  {
   "cell_type": "code",
   "execution_count": 14,
   "id": "161cce1c",
   "metadata": {},
   "outputs": [
    {
     "name": "stdout",
     "output_type": "stream",
     "text": [
      "Caroline you are in my list\n",
      "Djair you are in my list\n",
      "Edjanete you are in my list\n",
      "Jennifer you are in my list\n",
      "Maria you are in my list\n",
      "Omair you are in my list\n",
      "Zanfir you are in my list\n"
     ]
    }
   ],
   "source": [
    "for nomes in sorted(nacionality.keys()):\n",
    "    print(f\"{nomes.title()} you are in my list\")"
   ]
  },
  {
   "cell_type": "code",
   "execution_count": 15,
   "id": "f0207582",
   "metadata": {},
   "outputs": [
    {
     "name": "stdout",
     "output_type": "stream",
     "text": [
      "Countries in our list are:\n",
      "Brazil\n",
      "Brazil\n",
      "Israel\n",
      "Mexico\n",
      "Paquistan\n",
      "Russia\n",
      "USA\n"
     ]
    }
   ],
   "source": [
    "print(\"Countries in our list are:\")\n",
    "for countries in sorted(nacionality.values()):\n",
    "    print(countries)"
   ]
  },
  {
   "cell_type": "markdown",
   "id": "9bf233f1",
   "metadata": {},
   "source": [
    "**To see each COUNTRY chosen without repetition, we can use a set. A set is a collection in which each item must be unique.**"
   ]
  },
  {
   "cell_type": "code",
   "execution_count": 16,
   "id": "2793853a",
   "metadata": {},
   "outputs": [
    {
     "name": "stdout",
     "output_type": "stream",
     "text": [
      "Unique countries in our list are:\n",
      "Brazil\n",
      "Israel\n",
      "Mexico\n",
      "Paquistan\n",
      "Russia\n",
      "USA\n"
     ]
    }
   ],
   "source": [
    "print(\"Unique countries in our list are:\")\n",
    "for countries in sorted(set(nacionality.values())):\n",
    "    print(countries)"
   ]
  },
  {
   "cell_type": "markdown",
   "id": "db4d6fd1",
   "metadata": {},
   "source": [
    "**NESTING - A list of Dictionaries**"
   ]
  },
  {
   "cell_type": "code",
   "execution_count": 17,
   "id": "45915a89",
   "metadata": {},
   "outputs": [
    {
     "name": "stdout",
     "output_type": "stream",
     "text": [
      "{'Name': 'Djair', 'Idade': '59', 'Classe': 'Python'}\n",
      "{'Name': 'Jane', 'Idade': '54', 'Classe': 'English'}\n",
      "{'Name': 'Saulo', 'Idade': '35', 'Classe': 'Security'}\n"
     ]
    }
   ],
   "source": [
    "aluno_1 = {'Name':'Djair','Idade':'59','Classe':'Python'}\n",
    "aluno_2 = {'Name':'Jane','Idade':'54','Classe':'English'}\n",
    "aluno_3 = {'Name':'Saulo','Idade':'35','Classe':'Security'}\n",
    "alunos = [aluno_1,aluno_2,aluno_3]\n",
    "for aluno in alunos:\n",
    "    print(aluno)"
   ]
  },
  {
   "cell_type": "code",
   "execution_count": 18,
   "id": "c04ca80e",
   "metadata": {},
   "outputs": [
    {
     "name": "stdout",
     "output_type": "stream",
     "text": [
      "{'Name': 'Djair', 'Idade': '60', 'Classe': 'SQL'}\n",
      "{'Name': 'Jane', 'Idade': '55', 'Classe': 'English'}\n",
      "{'Name': 'Saulo', 'Idade': '35', 'Classe': 'Security'}\n"
     ]
    }
   ],
   "source": [
    "#  Altering a value in a tuple.\n",
    "\n",
    "for aluno in alunos:\n",
    "    if aluno['Name'] == 'Djair':\n",
    "        aluno['Idade'] = '60'\n",
    "        aluno['Classe'] = 'SQL'\n",
    "    elif aluno['Name'] == 'Jane':\n",
    "        aluno['Idade'] = '55'\n",
    "for aluno in alunos:\n",
    "    print(aluno)"
   ]
  },
  {
   "cell_type": "code",
   "execution_count": 19,
   "id": "542b5daf",
   "metadata": {},
   "outputs": [
    {
     "name": "stdout",
     "output_type": "stream",
     "text": [
      "The automaker Nissan, offers the Models Altima as its best vehicle\n"
     ]
    }
   ],
   "source": [
    "# Defining the Tuple \n",
    "Vehicle = {'Maker':'Nissan','Model':['Sentra','Altima','Maxima']}\n",
    "# Printing some info.\n",
    "print(f\"The automaker {Vehicle['Maker']}, offers the Models {Vehicle['Model'][1]} as its best vehicle\")"
   ]
  },
  {
   "cell_type": "code",
   "execution_count": 20,
   "id": "63f0f977",
   "metadata": {},
   "outputs": [
    {
     "name": "stdout",
     "output_type": "stream",
     "text": [
      "Sentra\n",
      "Maxima\n"
     ]
    }
   ],
   "source": [
    "print(Vehicle['Model'][0])\n",
    "print(Vehicle['Model'][2])"
   ]
  },
  {
   "cell_type": "code",
   "execution_count": 21,
   "id": "04ee30be",
   "metadata": {},
   "outputs": [],
   "source": [
    "\n",
    "Vehicle_Sale = {'Nissan':['Maxima','Altima','Sentra'],\n",
    "                'BMW':['X5','X3','X7'],\n",
    "                'Toyota':['Corolla','Tacoma','Prius']\n",
    "               }"
   ]
  },
  {
   "cell_type": "code",
   "execution_count": 22,
   "id": "4669824a",
   "metadata": {},
   "outputs": [
    {
     "name": "stdout",
     "output_type": "stream",
     "text": [
      "\n",
      "Nissan produce the following vehicles:\n",
      "\tMaxima\n",
      "\tAltima\n",
      "\tSentra\n",
      "\n",
      "BMW produce the following vehicles:\n",
      "\tX5\n",
      "\tX3\n",
      "\tX7\n",
      "\n",
      "Toyota produce the following vehicles:\n",
      "\tCorolla\n",
      "\tTacoma\n",
      "\tPrius\n"
     ]
    }
   ],
   "source": [
    "for maker, models in Vehicle_Sale.items():\n",
    "    print(f\"\\n{maker} produce the following vehicles:\")\n",
    "    for model in models:\n",
    "        print(f\"\\t{model}\")"
   ]
  },
  {
   "cell_type": "markdown",
   "id": "45e5daba",
   "metadata": {},
   "source": [
    "**A Dictionary in a Dictionary**"
   ]
  },
  {
   "cell_type": "code",
   "execution_count": 23,
   "id": "44bf80f2",
   "metadata": {},
   "outputs": [],
   "source": [
    "users = {'Dcs0501':{'fname':'Djair', 'lname':'Sobral',  'password':'1234'},\n",
    "         'Jansob' :{'fname':'Jane',  'lname':'Mendonca','password':'5789'},\n",
    "         'Mon58'  :{'fname':'Monica','lname':'Amaral',  'password':'b584'}\n",
    "        }"
   ]
  },
  {
   "cell_type": "code",
   "execution_count": 24,
   "id": "cfa604e9",
   "metadata": {},
   "outputs": [
    {
     "name": "stdout",
     "output_type": "stream",
     "text": [
      "\n",
      "Username:Dcs0501\n",
      "\tDjair Sobral has the following password: 1234\n",
      "\n",
      "Username:Jansob\n",
      "\tJane Mendonca has the following password: 5789\n",
      "\n",
      "Username:Mon58\n",
      "\tMonica Amaral has the following password: b584\n"
     ]
    }
   ],
   "source": [
    "for username, user_info in users.items():\n",
    "    print(f\"\\nUsername:{username}\")\n",
    "    \n",
    "    full_name = f\"{user_info['fname']} {user_info['lname']}\"\n",
    "    user_password = user_info['password']\n",
    "    \n",
    "    print(f'\\t{full_name} has the following password: {user_password}')"
   ]
  },
  {
   "cell_type": "code",
   "execution_count": null,
   "id": "ac8fd9cb",
   "metadata": {},
   "outputs": [],
   "source": []
  }
 ],
 "metadata": {
  "kernelspec": {
   "display_name": "Python 3",
   "language": "python",
   "name": "python3"
  },
  "language_info": {
   "codemirror_mode": {
    "name": "ipython",
    "version": 3
   },
   "file_extension": ".py",
   "mimetype": "text/x-python",
   "name": "python",
   "nbconvert_exporter": "python",
   "pygments_lexer": "ipython3",
   "version": "3.8.8"
  }
 },
 "nbformat": 4,
 "nbformat_minor": 5
}

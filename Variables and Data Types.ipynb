{
 "cells": [
  {
   "cell_type": "markdown",
   "id": "780bf071",
   "metadata": {},
   "source": [
    "**Changing Case in a String with Methods**"
   ]
  },
  {
   "cell_type": "code",
   "execution_count": 2,
   "id": "4c1d43b6",
   "metadata": {},
   "outputs": [
    {
     "name": "stdout",
     "output_type": "stream",
     "text": [
      "Djair Sobral\n",
      "DJAIR SOBRAL\n",
      "djair sobral\n"
     ]
    }
   ],
   "source": [
    "myname = 'djair sobral'\n",
    "print(myname.title())\n",
    "print(myname.upper())\n",
    "print(myname.lower())"
   ]
  },
  {
   "cell_type": "markdown",
   "id": "eddf823e",
   "metadata": {},
   "source": [
    "**Using Variables in Strings**"
   ]
  },
  {
   "cell_type": "code",
   "execution_count": 3,
   "id": "1020ae49",
   "metadata": {},
   "outputs": [
    {
     "name": "stdout",
     "output_type": "stream",
     "text": [
      "djair sobral\n"
     ]
    }
   ],
   "source": [
    "first_name = 'djair'\n",
    "last_name = 'sobral'\n",
    "full_name = f'{first_name} {last_name}'\n",
    "print(full_name)"
   ]
  },
  {
   "cell_type": "code",
   "execution_count": 5,
   "id": "ad29eba7",
   "metadata": {},
   "outputs": [
    {
     "name": "stdout",
     "output_type": "stream",
     "text": [
      "Hello, Djair Sobral!\n"
     ]
    }
   ],
   "source": [
    "print(f\"Hello, {full_name.title()}!\")"
   ]
  },
  {
   "cell_type": "code",
   "execution_count": 6,
   "id": "efc090cb",
   "metadata": {},
   "outputs": [
    {
     "name": "stdout",
     "output_type": "stream",
     "text": [
      "Hello, Djair Sobral!\n"
     ]
    }
   ],
   "source": [
    "message = f'Hello, {full_name.title()}!'\n",
    "print(message)"
   ]
  },
  {
   "cell_type": "markdown",
   "id": "b03fd4fa",
   "metadata": {},
   "source": [
    "**Adding Tabs New Lines**"
   ]
  },
  {
   "cell_type": "code",
   "execution_count": 10,
   "id": "3da7e5bd",
   "metadata": {},
   "outputs": [
    {
     "name": "stdout",
     "output_type": "stream",
     "text": [
      "Djair\n",
      "\tSobral\n"
     ]
    }
   ],
   "source": [
    "print(\"Djair\")\n",
    "print(\"\\tSobral\")"
   ]
  },
  {
   "cell_type": "code",
   "execution_count": 14,
   "id": "74a55546",
   "metadata": {},
   "outputs": [
    {
     "name": "stdout",
     "output_type": "stream",
     "text": [
      "Djair \n",
      "Sobral\n",
      "-----------------\n",
      "Djair \n",
      "\tSobral\n"
     ]
    }
   ],
   "source": [
    "print(\"Djair \\nSobral\")\n",
    "print('-----------------')\n",
    "print('Djair \\n\\tSobral')"
   ]
  },
  {
   "cell_type": "markdown",
   "id": "d0d1827c",
   "metadata": {},
   "source": [
    "**Stripping Whitespace**"
   ]
  },
  {
   "cell_type": "code",
   "execution_count": 16,
   "id": "4c638b6b",
   "metadata": {},
   "outputs": [
    {
     "name": "stdout",
     "output_type": "stream",
     "text": [
      "   Brazil\n",
      "Brazil   \n",
      "Brazil\n"
     ]
    }
   ],
   "source": [
    "country = '   Brazil   '\n",
    "print(country.rstrip())\n",
    "print(country.lstrip())\n",
    "print(country.strip())"
   ]
  },
  {
   "cell_type": "markdown",
   "id": "11c46370",
   "metadata": {},
   "source": [
    "**Underscores in Numbers:\n",
    "When you’re writing long numbers, you can group digits using underscores to make large numbers more readable**"
   ]
  },
  {
   "cell_type": "code",
   "execution_count": 19,
   "id": "61219c85",
   "metadata": {},
   "outputs": [
    {
     "name": "stdout",
     "output_type": "stream",
     "text": [
      "Universe age =14000000000 and my age = 56\n"
     ]
    }
   ],
   "source": [
    "Universe_age = 14_000_000_000\n",
    "myage = 5_6\n",
    "print('Universe age ='+str(Universe_age)+' and my age = '+str(myage))"
   ]
  },
  {
   "cell_type": "markdown",
   "id": "9af3f5fb",
   "metadata": {},
   "source": [
    "**Multiple Assignment - variables**"
   ]
  },
  {
   "cell_type": "code",
   "execution_count": 20,
   "id": "b5c248c5",
   "metadata": {},
   "outputs": [
    {
     "name": "stdout",
     "output_type": "stream",
     "text": [
      "12\n"
     ]
    }
   ],
   "source": [
    "x,y,z = 2,4,6\n",
    "print(x+y+z)"
   ]
  },
  {
   "cell_type": "code",
   "execution_count": null,
   "id": "6c5dc601",
   "metadata": {},
   "outputs": [],
   "source": []
  }
 ],
 "metadata": {
  "kernelspec": {
   "display_name": "Python 3",
   "language": "python",
   "name": "python3"
  },
  "language_info": {
   "codemirror_mode": {
    "name": "ipython",
    "version": 3
   },
   "file_extension": ".py",
   "mimetype": "text/x-python",
   "name": "python",
   "nbconvert_exporter": "python",
   "pygments_lexer": "ipython3",
   "version": "3.8.8"
  }
 },
 "nbformat": 4,
 "nbformat_minor": 5
}

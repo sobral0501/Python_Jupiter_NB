{
 "cells": [
  {
   "cell_type": "code",
   "execution_count": null,
   "metadata": {},
   "outputs": [],
   "source": [
    "#Conversio from Binary to Decimal\n",
    "\n",
    "exit_option='Y'\n",
    "while exit_option.upper() != 'N':\n",
    "    \n",
    "    binary_nr=input(\"Enter Binary Number: \")\n",
    "    deci=0\n",
    "    x=len(binary_nr)\n",
    "       \n",
    "    for w in range(len(binary_nr)):\n",
    "        if binary_nr[w]!='0' and binary_nr[w]!='1':\n",
    "            print(\"You entered a wrong number\")\n",
    "            deci='Try Again!'\n",
    "            break\n",
    "    else:\n",
    "        for i in range(len(binary_nr)):\n",
    "            deci=deci+int(binary_nr[x-1])*(2**i)\n",
    "            x-=1\n",
    "    print(deci)\n",
    "    exit_option=input('Do you want to try again? [Y] [N]')\n",
    "print('Thank you for using this program! Djair Sobral')\n",
    "input()"
   ]
  },
  {
   "cell_type": "code",
   "execution_count": 1,
   "metadata": {},
   "outputs": [],
   "source": [
    "import tkinter as tk\n",
    "\n",
    "root= tk.Tk()\n",
    "\n",
    "canvas1 = tk.Canvas(root, width = 400, height = 300)\n",
    "canvas1.pack()\n",
    "\n",
    "entry1 = tk.Entry (root) \n",
    "canvas1.create_window(200, 140, window=entry1)\n",
    "\n",
    "#-------------------------------------------------------------------------------\n",
    "def getSquareRoot ():  \n",
    "    x1 = entry1.get()\n",
    "    deci=0\n",
    "    x=len(x1)\n",
    "         \n",
    "    for w in range(x):\n",
    "        if x1[w]!='0' and x1[w]!='1':\n",
    "            print(\"You entered a wrong number\")\n",
    "            deci='Try Again!'\n",
    "            break\n",
    "        else:\n",
    "            for i in range(x):\n",
    "                deci=deci+int(x1[x-1])*(2**i)\n",
    "                x-=1\n",
    "    label1 = tk.Label(root, text= deci)\n",
    "    canvas1.create_window(200, 230, window=label1)\n",
    "# ------------------------------------------------------------------------------    \n",
    "\n",
    "button1 = tk.Button(text='Get the Decimal Value', command=getSquareRoot)\n",
    "canvas1.create_window(200, 180, window=button1)\n",
    "\n",
    "root.mainloop()\n"
   ]
  },
  {
   "cell_type": "code",
   "execution_count": null,
   "metadata": {},
   "outputs": [],
   "source": [
    "import tkinter as tk\n",
    "\n",
    "root= tk.Tk()\n",
    "\n",
    "canvas1 = tk.Canvas(root, width = 400, height = 300)\n",
    "canvas1.pack()\n",
    "\n",
    "entry1 = tk.Entry (root) \n",
    "canvas1.create_window(200, 140, window=entry1)\n",
    "\n",
    "def getSquareRoot ():  \n",
    "    x1 = entry1.get()\n",
    "    \n",
    "    label1 = tk.Label(root, text= float(x1)**0.5)\n",
    "    canvas1.create_window(200, 230, window=label1)\n",
    "    \n",
    "button1 = tk.Button(text='Get the Decimal Value', command=getSquareRoot)\n",
    "canvas1.create_window(200, 180, window=button1)\n",
    "\n",
    "root.mainloop()"
   ]
  },
  {
   "cell_type": "code",
   "execution_count": null,
   "metadata": {},
   "outputs": [],
   "source": [
    "import tkinter as tk\n",
    "screen = tk.Tk()\n",
    "#Screen size\n",
    "screen.geometry('300x300')\n",
    "#Drawing your canvas\n",
    "canvas_tk = tk.Canvas(screen, bg='green', width=250, height=250)\n",
    " \n",
    "canvas_tk.pack()\n",
    "screen.mainloop()"
   ]
  },
  {
   "cell_type": "code",
   "execution_count": null,
   "metadata": {},
   "outputs": [],
   "source": []
  }
 ],
 "metadata": {
  "kernelspec": {
   "display_name": "Python 3",
   "language": "python",
   "name": "python3"
  },
  "language_info": {
   "codemirror_mode": {
    "name": "ipython",
    "version": 3
   },
   "file_extension": ".py",
   "mimetype": "text/x-python",
   "name": "python",
   "nbconvert_exporter": "python",
   "pygments_lexer": "ipython3",
   "version": "3.7.6"
  }
 },
 "nbformat": 4,
 "nbformat_minor": 4
}

{
 "cells": [
  {
   "cell_type": "markdown",
   "id": "8ed09121",
   "metadata": {},
   "source": [
    "**Importing Multiple Classes from a Module**"
   ]
  },
  {
   "cell_type": "code",
   "execution_count": 1,
   "id": "cd66f91d",
   "metadata": {},
   "outputs": [
    {
     "name": "stdout",
     "output_type": "stream",
     "text": [
      "2019 Nissan Altima\n",
      "2020 Tesla Roadster\n"
     ]
    }
   ],
   "source": [
    "from car import Car, ElectricCar\n",
    "\n",
    "mcar = Car('nissan','altima',2019)\n",
    "print(mcar.get_descriptive_name())\n",
    "\n",
    "ecar = ElectricCar('tesla','roadster',2020)\n",
    "print(ecar.get_descriptive_name())"
   ]
  },
  {
   "cell_type": "markdown",
   "id": "9ad4dcf0",
   "metadata": {},
   "source": [
    "**Importing an Entire Module** - \n",
    "You can also import an entire module and then access the classes you need\n",
    "using dot notation. This approach is simple and results in code that is easy\n",
    "to read. Because every call that creates an instance of a class includes the\n",
    "module name, you won’t have naming conflicts with any names used in the\n",
    "current file."
   ]
  },
  {
   "cell_type": "code",
   "execution_count": 1,
   "id": "0f668436",
   "metadata": {},
   "outputs": [
    {
     "name": "stdout",
     "output_type": "stream",
     "text": [
      "2019 Nissan Altima\n",
      "2020 Tesla Roadster\n"
     ]
    }
   ],
   "source": [
    "import car\n",
    "\n",
    "mcar = car.Car('nissan','altima',2019)\n",
    "print(mcar.get_descriptive_name())\n",
    "\n",
    "ecar = car.ElectricCar('tesla','roadster',2020)\n",
    "print(ecar.get_descriptive_name())"
   ]
  },
  {
   "cell_type": "code",
   "execution_count": null,
   "id": "ead5db3d",
   "metadata": {},
   "outputs": [],
   "source": []
  }
 ],
 "metadata": {
  "kernelspec": {
   "display_name": "Python 3",
   "language": "python",
   "name": "python3"
  },
  "language_info": {
   "codemirror_mode": {
    "name": "ipython",
    "version": 3
   },
   "file_extension": ".py",
   "mimetype": "text/x-python",
   "name": "python",
   "nbconvert_exporter": "python",
   "pygments_lexer": "ipython3",
   "version": "3.8.8"
  }
 },
 "nbformat": 4,
 "nbformat_minor": 5
}

{
 "cells": [
  {
   "cell_type": "markdown",
   "id": "d4f8072c",
   "metadata": {},
   "source": [
    "**8. Privileges:** Write a separate Privileges class. The class should have one\n",
    "attribute, privileges, that stores a list of strings as described in Exercise 7.\n",
    "Move the show_privileges() method to this class. Make a Privileges instance\n",
    "as an attribute in the Admin class. Create a new instance of Admin and use your\n",
    "method to show its privileges."
   ]
  },
  {
   "cell_type": "code",
   "execution_count": 1,
   "id": "c611536b",
   "metadata": {},
   "outputs": [],
   "source": [
    "class User:\n",
    "    def __init__(self,fname,lname,address,age,profession):\n",
    "        self.fname          = fname\n",
    "        self.lname          = lname\n",
    "        self.address        = address\n",
    "        self.age            = age\n",
    "        self.profession     = profession\n",
    "        self.login_attempts = 0\n",
    "        \n",
    "    def describe_user(self):\n",
    "        print(f\"{self.fname.title()} {self.lname.title()} is {self.profession}, {self.age} years old and lives @ {self.address}\")\n",
    "        \n",
    "    def greet_user(self):\n",
    "        print(f\"Hi {self.fname.title()}! Have a great day :)\")\n",
    "        \n",
    "    def increment_login_attempts(self):\n",
    "        self.login_attempts = self.login_attempts + 1\n",
    "        print(f'{self.login_attempts} loging attempt(s).')\n",
    "        \n",
    "    def reset_login_attempts(self):\n",
    "        self.login_attempts = 0\n",
    "        print(f'Loging attempts reset to {self.login_attempts}.')"
   ]
  },
  {
   "cell_type": "code",
   "execution_count": 2,
   "id": "9600244a",
   "metadata": {},
   "outputs": [],
   "source": [
    "class Admin(User):\n",
    "    def __init__(self,fname,lname,address,age,profession):\n",
    "        super().__init__(fname,lname,address,age,profession)\n",
    "        self.privileges = Privileges()"
   ]
  },
  {
   "cell_type": "code",
   "execution_count": 15,
   "id": "5de3a64f",
   "metadata": {},
   "outputs": [],
   "source": [
    "class Privileges:\n",
    "    def __init__(self):\n",
    "        self.adm_privileges = ['can delete post','can ban user','can register new user']\n",
    "                \n",
    "    def show_privileges(self):\n",
    "        print(f'The Admin has the following privileges: {self.adm_privileges}')\n",
    "    "
   ]
  },
  {
   "cell_type": "code",
   "execution_count": 16,
   "id": "254806cf",
   "metadata": {},
   "outputs": [
    {
     "name": "stdout",
     "output_type": "stream",
     "text": [
      "Djair Sobral is IT Manager, 59 years old and lives @ dallas-TX\n"
     ]
    }
   ],
   "source": [
    "new_admin = Admin('djair','sobral','dallas-TX',59,'IT Manager')\n",
    "new_admin.describe_user()"
   ]
  },
  {
   "cell_type": "code",
   "execution_count": 17,
   "id": "76dee4af",
   "metadata": {},
   "outputs": [
    {
     "name": "stdout",
     "output_type": "stream",
     "text": [
      "The Admin has the following privileges: ['can delete post', 'can ban user', 'can register new user']\n"
     ]
    }
   ],
   "source": [
    "new_admin.privileges.show_privileges()"
   ]
  },
  {
   "cell_type": "markdown",
   "id": "8103be8b",
   "metadata": {},
   "source": [
    "**9. Battery Upgrade:** Use the final version of electric_car.py from this section.\n",
    "Add a method to the Battery class called upgrade_battery(). This method\n",
    "should check the battery size and set the capacity to 100 if it isn’t already.\n",
    "Make an electric car with a default battery size, call get_range() once, and\n",
    "then call get_range() a second time after upgrading the battery. You should\n",
    "see an increase in the car’s range."
   ]
  },
  {
   "cell_type": "code",
   "execution_count": 18,
   "id": "8a569b07",
   "metadata": {},
   "outputs": [],
   "source": [
    "class Car:\n",
    "    \n",
    "    def __init__(self, make, model, year):\n",
    "        self.make          = make\n",
    "        self.model         = model\n",
    "        self.year          = year\n",
    "        self.odometer_read = 0\n",
    "        self.gas_tank      = 15\n",
    "    \n",
    "    def get_descriptive_name(self):\n",
    "        long_name = f\"{self.year} {self.make} {self.model}\"\n",
    "        return long_name.title()\n",
    "    \n",
    "    def read_odometer(self):\n",
    "        print(f\"This car has {self.odometer_read} miles on it.\")\n",
    "        \n",
    "### This Method was added later  ==> Modifying an Attribute's value through a Method     \n",
    "    def update_odometer(self, mileage):\n",
    "        \"\"\"Set the odometer reading to the given value.\n",
    "        Reject the change if it attempts to roll the odometer back.\"\"\"\n",
    "        if mileage >= self.odometer_read:\n",
    "            self.odometer_read = mileage\n",
    "        else:\n",
    "            print(\"You can't roll back an odometer!\")\n",
    "            \n",
    "### Incrementing an Attribute's value through a Method\n",
    "    def increment_odometer(self, miles):\n",
    "        \"\"\"Add the given amount to the odometer reading.\"\"\"\n",
    "        self.odometer_read += miles\n",
    "        \n",
    "    def fill_gas_tank(self):\n",
    "        print(f'This car holds {self.gas_tank} gallons of gas.')"
   ]
  },
  {
   "cell_type": "code",
   "execution_count": 28,
   "id": "0bdf9cb8",
   "metadata": {},
   "outputs": [],
   "source": [
    "class Battery:\n",
    "    \n",
    "    def __init__(self, battery_size=75):\n",
    "        self.battery_size = battery_size\n",
    "        \n",
    "    def describe_battery(self):\n",
    "        print(f\"This car has a {self.battery_size}-kWh battery.\")\n",
    "        \n",
    "    def get_range(self):\n",
    "        if self.battery_size == 75:\n",
    "            range = 260\n",
    "        elif self.battery_size == 100:\n",
    "            range = 315\n",
    "        print(f\"This car can go about {range} miles on a full charge.\")\n",
    "        \n",
    "    def upgrade_battery(self):\n",
    "        if self.battery_size == 75:\n",
    "            self.battery_size = 100\n",
    "        print(f'The battery size is :{self.battery_size}')"
   ]
  },
  {
   "cell_type": "code",
   "execution_count": 29,
   "id": "80061aee",
   "metadata": {},
   "outputs": [],
   "source": [
    "class ElectricCar(Car):\n",
    "    def __init__(self, make, model, year):\n",
    "        super().__init__(make, model, year)   #===> initialize attributes of the parent class.\n",
    "#        self.battery_size = 75                #===> initialize attributes to an electic car.\n",
    "        self.battery = Battery()\n",
    "       \n",
    "    def fill_gas_tank(self):\n",
    "        print(f\"This car doesn't need a gas tank.\")"
   ]
  },
  {
   "cell_type": "code",
   "execution_count": 30,
   "id": "c9d820a7",
   "metadata": {},
   "outputs": [],
   "source": [
    "ecar = ElectricCar('Nissan','futura',2022)"
   ]
  },
  {
   "cell_type": "code",
   "execution_count": 32,
   "id": "a0060287",
   "metadata": {},
   "outputs": [
    {
     "name": "stdout",
     "output_type": "stream",
     "text": [
      "This car has a 75-kWh battery.\n"
     ]
    }
   ],
   "source": [
    "ecar.battery.describe_battery()"
   ]
  },
  {
   "cell_type": "code",
   "execution_count": 33,
   "id": "677ea669",
   "metadata": {},
   "outputs": [
    {
     "name": "stdout",
     "output_type": "stream",
     "text": [
      "The battery size is :100\n"
     ]
    }
   ],
   "source": [
    "ecar.battery.upgrade_battery()"
   ]
  },
  {
   "cell_type": "code",
   "execution_count": 34,
   "id": "52637c3e",
   "metadata": {},
   "outputs": [
    {
     "name": "stdout",
     "output_type": "stream",
     "text": [
      "This car can go about 315 miles on a full charge.\n"
     ]
    }
   ],
   "source": [
    "ecar.battery.get_range()"
   ]
  },
  {
   "cell_type": "code",
   "execution_count": 35,
   "id": "f77cf723",
   "metadata": {},
   "outputs": [
    {
     "name": "stdout",
     "output_type": "stream",
     "text": [
      "This car doesn't need a gas tank.\n"
     ]
    }
   ],
   "source": [
    "ecar.fill_gas_tank()"
   ]
  },
  {
   "cell_type": "code",
   "execution_count": 36,
   "id": "2863dd6f",
   "metadata": {},
   "outputs": [
    {
     "name": "stdout",
     "output_type": "stream",
     "text": [
      "This car has 0 miles on it.\n"
     ]
    }
   ],
   "source": [
    "ecar.read_odometer()"
   ]
  },
  {
   "cell_type": "code",
   "execution_count": 37,
   "id": "70d493e0",
   "metadata": {},
   "outputs": [],
   "source": [
    "ecar.increment_odometer(125)"
   ]
  },
  {
   "cell_type": "code",
   "execution_count": 38,
   "id": "3ed9e51d",
   "metadata": {},
   "outputs": [
    {
     "name": "stdout",
     "output_type": "stream",
     "text": [
      "This car has 125 miles on it.\n"
     ]
    }
   ],
   "source": [
    "ecar.read_odometer()"
   ]
  },
  {
   "cell_type": "code",
   "execution_count": 40,
   "id": "fc5e33eb",
   "metadata": {},
   "outputs": [
    {
     "name": "stdout",
     "output_type": "stream",
     "text": [
      "2022 Nissan Futura\n"
     ]
    }
   ],
   "source": [
    "print(ecar.get_descriptive_name())"
   ]
  },
  {
   "cell_type": "code",
   "execution_count": null,
   "id": "8d39bc4b",
   "metadata": {},
   "outputs": [],
   "source": []
  }
 ],
 "metadata": {
  "kernelspec": {
   "display_name": "Python 3",
   "language": "python",
   "name": "python3"
  },
  "language_info": {
   "codemirror_mode": {
    "name": "ipython",
    "version": 3
   },
   "file_extension": ".py",
   "mimetype": "text/x-python",
   "name": "python",
   "nbconvert_exporter": "python",
   "pygments_lexer": "ipython3",
   "version": "3.8.8"
  }
 },
 "nbformat": 4,
 "nbformat_minor": 5
}

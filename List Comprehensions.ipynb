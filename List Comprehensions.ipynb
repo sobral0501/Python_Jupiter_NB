{
 "cells": [
  {
   "cell_type": "code",
   "execution_count": 1,
   "id": "2ad59556",
   "metadata": {},
   "outputs": [
    {
     "name": "stdout",
     "output_type": "stream",
     "text": [
      "['D', 'j', 'a', 'i', 'r']\n"
     ]
    }
   ],
   "source": [
    "mystring = 'Djair'\n",
    "mylist = []\n",
    "for letter in mystring:\n",
    "    mylist.append(letter)\n",
    "print(mylist)"
   ]
  },
  {
   "cell_type": "code",
   "execution_count": 4,
   "id": "35c4ae90",
   "metadata": {},
   "outputs": [
    {
     "name": "stdout",
     "output_type": "stream",
     "text": [
      "['S', 'o', 'b', 'r', 'a', 'l']\n"
     ]
    }
   ],
   "source": [
    "mystring = 'Sobral'\n",
    "mylist = [letter for letter in mystring]\n",
    "print(mylist)"
   ]
  },
  {
   "cell_type": "code",
   "execution_count": 5,
   "id": "e554c336",
   "metadata": {},
   "outputs": [
    {
     "name": "stdout",
     "output_type": "stream",
     "text": [
      "[0, 1, 2, 3, 4, 5, 6, 7, 8, 9, 10, 11, 12, 13, 14, 15, 16, 17, 18, 19]\n"
     ]
    }
   ],
   "source": [
    "num_list = [x for x in range(20)]\n",
    "print(num_list)"
   ]
  },
  {
   "cell_type": "code",
   "execution_count": 9,
   "id": "2a946671",
   "metadata": {},
   "outputs": [
    {
     "name": "stdout",
     "output_type": "stream",
     "text": [
      "[1, 2, 4, 8, 16, 32, 64, 128, 256]\n"
     ]
    }
   ],
   "source": [
    "num_list = [2**x for x in range(0,9)]\n",
    "print(num_list)"
   ]
  },
  {
   "cell_type": "code",
   "execution_count": 11,
   "id": "d6398221",
   "metadata": {},
   "outputs": [
    {
     "name": "stdout",
     "output_type": "stream",
     "text": [
      "[0, 4, 16, 36, 64, 100, 144, 196, 256, 324, 400]\n"
     ]
    }
   ],
   "source": [
    "# Using an 'If statement'\n",
    "mylist = [x**2 for x in range(0,21) if x % 2 == 0]\n",
    "print(mylist)"
   ]
  },
  {
   "cell_type": "code",
   "execution_count": 30,
   "id": "197f26c2",
   "metadata": {},
   "outputs": [
    {
     "name": "stdout",
     "output_type": "stream",
     "text": [
      "[-4.0, 14.0, 23.0, 32.0, 41.0, 50.0, 59.0, 68.0]\n"
     ]
    }
   ],
   "source": [
    "# Celcius to Fahrenheit\n",
    "celcius = [-20,-10,-5,0,5,10,15,20]\n",
    "\n",
    "fah = [((9/5)*temp + 32) for temp in celcius]\n",
    "print(fah)"
   ]
  },
  {
   "cell_type": "code",
   "execution_count": 31,
   "id": "bb82798a",
   "metadata": {},
   "outputs": [
    {
     "name": "stdout",
     "output_type": "stream",
     "text": [
      "<zip object at 0x00000140AF5649C0>\n"
     ]
    }
   ],
   "source": [
    "comparing_lists = zip(celcius,fah)\n",
    "\n",
    "print(comparing_lists)"
   ]
  },
  {
   "cell_type": "code",
   "execution_count": 32,
   "id": "1e912874",
   "metadata": {},
   "outputs": [
    {
     "name": "stdout",
     "output_type": "stream",
     "text": [
      "-20 Celcius = -4.0 Fahrenheit\n",
      "-10 Celcius = 14.0 Fahrenheit\n",
      "-5 Celcius = 23.0 Fahrenheit\n",
      "0 Celcius = 32.0 Fahrenheit\n",
      "5 Celcius = 41.0 Fahrenheit\n",
      "10 Celcius = 50.0 Fahrenheit\n",
      "15 Celcius = 59.0 Fahrenheit\n",
      "20 Celcius = 68.0 Fahrenheit\n"
     ]
    }
   ],
   "source": [
    "for c, f in comparing_lists:\n",
    "    print(f'{c} Celcius = {f} Fahrenheit')"
   ]
  },
  {
   "cell_type": "code",
   "execution_count": 33,
   "id": "32680c7f",
   "metadata": {},
   "outputs": [
    {
     "name": "stdout",
     "output_type": "stream",
     "text": [
      "[0, 'Odd', 2, 'Odd', 4, 'Odd', 6, 'Odd', 8, 'Odd', 10]\n"
     ]
    }
   ],
   "source": [
    "# To use an 'Else' statement in a comprehension list, invert the process.\n",
    "\n",
    "results = [x if x%2 == 0 else \"Odd\" for x in range(0,11)]\n",
    "print(results)\n",
    "\n",
    "# x will be an even number or/else x will be the word Odd."
   ]
  },
  {
   "cell_type": "code",
   "execution_count": 35,
   "id": "ecec9150",
   "metadata": {},
   "outputs": [
    {
     "name": "stdout",
     "output_type": "stream",
     "text": [
      "[2, 20, 200, 4, 40, 400, 6, 60, 600]\n"
     ]
    }
   ],
   "source": [
    "# Working with Nested Loop\n",
    "\n",
    "mylist = []\n",
    "for x in [2,4,6]:\n",
    "    for y in [1,10,100]:\n",
    "        mylist.append(x*y)\n",
    "        \n",
    "print(mylist)\n"
   ]
  },
  {
   "cell_type": "code",
   "execution_count": 37,
   "id": "3e331d0c",
   "metadata": {},
   "outputs": [
    {
     "name": "stdout",
     "output_type": "stream",
     "text": [
      "[2, 20, 200, 4, 40, 400, 6, 60, 600]\n"
     ]
    }
   ],
   "source": [
    "mylist = [x*y for x in [2,4,6] for y in [1,10,100]]\n",
    "print(mylist)"
   ]
  },
  {
   "cell_type": "code",
   "execution_count": null,
   "id": "09222874",
   "metadata": {},
   "outputs": [],
   "source": []
  }
 ],
 "metadata": {
  "kernelspec": {
   "display_name": "Python 3",
   "language": "python",
   "name": "python3"
  },
  "language_info": {
   "codemirror_mode": {
    "name": "ipython",
    "version": 3
   },
   "file_extension": ".py",
   "mimetype": "text/x-python",
   "name": "python",
   "nbconvert_exporter": "python",
   "pygments_lexer": "ipython3",
   "version": "3.8.8"
  }
 },
 "nbformat": 4,
 "nbformat_minor": 5
}

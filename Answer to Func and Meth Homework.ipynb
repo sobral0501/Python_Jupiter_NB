{
 "cells": [
  {
   "cell_type": "markdown",
   "id": "b5d2bf75",
   "metadata": {},
   "source": [
    "**Write a function that computes the volume of a sphere given its radius.**\n",
    "\n",
    "The volume of a sphere is given as:\n",
    "4/3*π*𝑟3"
   ]
  },
  {
   "cell_type": "code",
   "execution_count": 5,
   "id": "d4128c0c",
   "metadata": {},
   "outputs": [],
   "source": [
    "from math import pi\n",
    "\n",
    "def val(rad):\n",
    "    return (4/3)*pi*(rad)**3"
   ]
  },
  {
   "cell_type": "code",
   "execution_count": 6,
   "id": "5c616892",
   "metadata": {},
   "outputs": [
    {
     "data": {
      "text/plain": [
       "33.510321638291124"
      ]
     },
     "execution_count": 6,
     "metadata": {},
     "output_type": "execute_result"
    }
   ],
   "source": [
    "val(2)"
   ]
  },
  {
   "cell_type": "markdown",
   "id": "de42203a",
   "metadata": {},
   "source": [
    "**Write a function that checks whether a number is in a given range (inclusive of high and low)**"
   ]
  },
  {
   "cell_type": "code",
   "execution_count": 13,
   "id": "8a5383e2",
   "metadata": {},
   "outputs": [],
   "source": [
    "def ran_check(num,low,high):\n",
    "    if num >=low and num <=high:\n",
    "        print(f'{num} is in the range between {low} and {high}.')\n",
    "    else:\n",
    "        print(f'{num} not in range.')"
   ]
  },
  {
   "cell_type": "code",
   "execution_count": 7,
   "id": "f23adbc9",
   "metadata": {},
   "outputs": [],
   "source": [
    "def ran_check(num,low,high):\n",
    "    if num in range(low,high+1):\n",
    "        print(f'{num} is in the range between {low} and {high}.')\n",
    "    else:\n",
    "        print(f'{num} not in range.')"
   ]
  },
  {
   "cell_type": "code",
   "execution_count": 8,
   "id": "e8d97f35",
   "metadata": {},
   "outputs": [
    {
     "name": "stdout",
     "output_type": "stream",
     "text": [
      "5 is in the range between 2 and 7.\n"
     ]
    }
   ],
   "source": [
    "ran_check(5,2,7)"
   ]
  },
  {
   "cell_type": "code",
   "execution_count": 9,
   "id": "67d12253",
   "metadata": {},
   "outputs": [
    {
     "name": "stdout",
     "output_type": "stream",
     "text": [
      "1 not in range.\n"
     ]
    }
   ],
   "source": [
    "ran_check(1,2,3)"
   ]
  },
  {
   "cell_type": "code",
   "execution_count": 16,
   "id": "c0a82fa8",
   "metadata": {},
   "outputs": [],
   "source": [
    "# returning a boolean.\n",
    "def ran_bool(num,low,high):\n",
    "    return num >=low and num <=high"
   ]
  },
  {
   "cell_type": "code",
   "execution_count": 18,
   "id": "3885486e",
   "metadata": {},
   "outputs": [
    {
     "data": {
      "text/plain": [
       "True"
      ]
     },
     "execution_count": 18,
     "metadata": {},
     "output_type": "execute_result"
    }
   ],
   "source": [
    "ran_bool(5,2,7)"
   ]
  },
  {
   "cell_type": "code",
   "execution_count": 19,
   "id": "560715d7",
   "metadata": {},
   "outputs": [
    {
     "data": {
      "text/plain": [
       "False"
      ]
     },
     "execution_count": 19,
     "metadata": {},
     "output_type": "execute_result"
    }
   ],
   "source": [
    "ran_bool(1,2,3)"
   ]
  },
  {
   "cell_type": "markdown",
   "id": "ea734465",
   "metadata": {},
   "source": [
    "**Write a Python function that accepts a string and calculates the number of upper case letters and lower case letters.**"
   ]
  },
  {
   "cell_type": "code",
   "execution_count": 41,
   "id": "62435f2c",
   "metadata": {},
   "outputs": [],
   "source": [
    "def up_low(s):\n",
    "    s_list = s.split()\n",
    "    upcount=0\n",
    "    locount=0\n",
    "    for l in s_list:\n",
    "        for i in range(len(l)-1):\n",
    "            if l[i] == l[i].upper():\n",
    "                upcount+=1\n",
    "            else:\n",
    "                locount+=1\n",
    "    print(f'No. of Upper case characters: {upcount}')\n",
    "    print(f'No. of Lower case characters: {locount}')"
   ]
  },
  {
   "cell_type": "code",
   "execution_count": 42,
   "id": "97c9e275",
   "metadata": {},
   "outputs": [
    {
     "name": "stdout",
     "output_type": "stream",
     "text": [
      "No. of Upper case characters: 4\n",
      "No. of Lower case characters: 27\n"
     ]
    }
   ],
   "source": [
    "s = 'Hello Mr. Rogers, how are you this fine Tuesday?'\n",
    "up_low(s)"
   ]
  },
  {
   "cell_type": "markdown",
   "id": "7a23032d",
   "metadata": {},
   "source": [
    "**Write a Python function that takes a list and returns a new list with unique elements of the first list.**"
   ]
  },
  {
   "cell_type": "code",
   "execution_count": 45,
   "id": "185961f8",
   "metadata": {},
   "outputs": [],
   "source": [
    "def unique_list(lst):\n",
    "    return list(set(lst))"
   ]
  },
  {
   "cell_type": "code",
   "execution_count": 46,
   "id": "64743f92",
   "metadata": {},
   "outputs": [
    {
     "data": {
      "text/plain": [
       "[1, 2, 3, 4, 5]"
      ]
     },
     "execution_count": 46,
     "metadata": {},
     "output_type": "execute_result"
    }
   ],
   "source": [
    "unique_list([1,1,1,1,2,2,3,3,3,3,4,5])"
   ]
  },
  {
   "cell_type": "markdown",
   "id": "a9f6bb98",
   "metadata": {},
   "source": [
    "**Write a Python function to multiply all the numbers in a list.**"
   ]
  },
  {
   "cell_type": "code",
   "execution_count": 51,
   "id": "33740780",
   "metadata": {},
   "outputs": [],
   "source": [
    "def multiply(nums):\n",
    "    mult=1\n",
    "    for num in nums:\n",
    "        mult*=num\n",
    "    return mult"
   ]
  },
  {
   "cell_type": "code",
   "execution_count": 52,
   "id": "99309d04",
   "metadata": {},
   "outputs": [
    {
     "data": {
      "text/plain": [
       "-24"
      ]
     },
     "execution_count": 52,
     "metadata": {},
     "output_type": "execute_result"
    }
   ],
   "source": [
    "multiply([1,2,3,-4])"
   ]
  },
  {
   "cell_type": "markdown",
   "id": "c6bcd479",
   "metadata": {},
   "source": [
    "**Write a Python function that checks whether a word or phrase is palindrome or not.**\n",
    "\n",
    "Note: A palindrome is word, phrase, or sequence that reads the same backward as forward, e.g., madam,kayak,racecar, or a phrase \"nurses run\". Hint: You may want to check out the .replace() method in a string to help out with dealing with spaces. Also google search how to reverse a string in Python, there are some clever ways to do it with slicing notation."
   ]
  },
  {
   "cell_type": "code",
   "execution_count": 121,
   "id": "cf5ebeb9",
   "metadata": {},
   "outputs": [],
   "source": [
    "#  Version 1\n",
    "def palindrome(s):\n",
    "    list_1 = []\n",
    "    list_2 = []\n",
    "    for i in range(len(s)):\n",
    "        if s[i]==' ':\n",
    "            pass\n",
    "        else:\n",
    "            list_1.append(s[i])\n",
    "            list_2.append(s[i])\n",
    "        \n",
    "    list_2.reverse()\n",
    "    if list_1 == list_2:\n",
    "        return True\n",
    "    else:\n",
    "        return False"
   ]
  },
  {
   "cell_type": "code",
   "execution_count": 13,
   "id": "9c936e00",
   "metadata": {},
   "outputs": [],
   "source": [
    "# Version 2\n",
    "def palindrome(s):\n",
    "    # Remove Spaces from String\n",
    "    s = s.replace(' ','')\n",
    "    # Check if string is == reversed version of the string.\n",
    "    return s == s[::-1]"
   ]
  },
  {
   "cell_type": "code",
   "execution_count": 14,
   "id": "ec804911",
   "metadata": {},
   "outputs": [
    {
     "data": {
      "text/plain": [
       "True"
      ]
     },
     "execution_count": 14,
     "metadata": {},
     "output_type": "execute_result"
    }
   ],
   "source": [
    "palindrome('madam')"
   ]
  },
  {
   "cell_type": "code",
   "execution_count": 15,
   "id": "87060164",
   "metadata": {},
   "outputs": [
    {
     "data": {
      "text/plain": [
       "True"
      ]
     },
     "execution_count": 15,
     "metadata": {},
     "output_type": "execute_result"
    }
   ],
   "source": [
    "palindrome('helleh')"
   ]
  },
  {
   "cell_type": "code",
   "execution_count": 16,
   "id": "6841317f",
   "metadata": {},
   "outputs": [
    {
     "data": {
      "text/plain": [
       "True"
      ]
     },
     "execution_count": 16,
     "metadata": {},
     "output_type": "execute_result"
    }
   ],
   "source": [
    "palindrome(\"nurses run\")"
   ]
  },
  {
   "cell_type": "code",
   "execution_count": 17,
   "id": "50817557",
   "metadata": {},
   "outputs": [
    {
     "data": {
      "text/plain": [
       "False"
      ]
     },
     "execution_count": 17,
     "metadata": {},
     "output_type": "execute_result"
    }
   ],
   "source": [
    "palindrome('djair')"
   ]
  },
  {
   "cell_type": "code",
   "execution_count": null,
   "id": "251cd1b8",
   "metadata": {},
   "outputs": [],
   "source": [
    "import string\n",
    "help(string)\n",
    "\n",
    "    ascii_letters = 'abcdefghijklmnopqrstuvwxyzABCDEFGHIJKLMNOPQRSTUVWXYZ'\n",
    "    ascii_lowercase = 'abcdefghijklmnopqrstuvwxyz'\n",
    "    ascii_uppercase = 'ABCDEFGHIJKLMNOPQRSTUVWXYZ'\n",
    "    digits = '0123456789'\n",
    "    hexdigits = '0123456789abcdefABCDEF'\n",
    "    octdigits = '01234567'\n",
    "    printable = '0123456789abcdefghijklmnopqrstuvwxyzABCDEFGHIJKLMNOPQRSTU...\n",
    "    punctuation = '!\"#$%&\\'()*+,-./:;<=>?@[\\\\]^_`{|}~'\n",
    "    whitespace = ' \\t\\n\\r\\x0b\\x0c'"
   ]
  },
  {
   "cell_type": "markdown",
   "id": "bc330e94",
   "metadata": {},
   "source": [
    "**Write a Python function to check whether a string is pangram or not. (Assume the string passed in does not have any punctuation)**\n",
    "\n",
    "Note : Pangrams are words or sentences containing every letter of the alphabet at least once.\n",
    "For example : \"The quick brown fox jumps over the lazy dog\"\n",
    "Hint: You may want to use .replace() method to get rid of spaces."
   ]
  },
  {
   "cell_type": "code",
   "execution_count": 165,
   "id": "1c086cb9",
   "metadata": {},
   "outputs": [],
   "source": [
    "import string\n",
    "\n",
    "def ispangram(str1, alphabet=string.ascii_lowercase):\n",
    "    lista = [] # lista do texto\n",
    "    ulist = [] # set to alphabet\n",
    "    alist = [] # list of alphabet\n",
    "    \n",
    "    # list of alphabet\n",
    "    for i in range(len(alphabet)):\n",
    "        alist.append(alphabet[i])\n",
    "   \n",
    "    # List of the Text\n",
    "    for i in range(len(str1)):\n",
    "        if str1[i]==' ':\n",
    "            pass\n",
    "        else:\n",
    "            lista.append(str1[i].lower())\n",
    "    \n",
    "    # Transforming the text in a set        \n",
    "    ulist =set(lista)\n",
    "    \n",
    "    count=0\n",
    "    for i in range(len(ulist)):\n",
    "        if lista[i] in ulist:\n",
    "            count+=1\n",
    "        else:\n",
    "            pass\n",
    "    \n",
    "    if count <26:\n",
    "        return False\n",
    "    else:\n",
    "        return True"
   ]
  },
  {
   "cell_type": "code",
   "execution_count": 18,
   "id": "d8b7262c",
   "metadata": {},
   "outputs": [],
   "source": [
    "# Version 2\n",
    "import string\n",
    "\n",
    "def ispangram(str1, alphabet=string.ascii_lowercase):\n",
    "    \n",
    "    # Create a set of the alphabet\n",
    "    alphaset = set(alphabet)\n",
    "    \n",
    "    # Remove any spaces from the input string\n",
    "    str1 = str1.replace(' ','')\n",
    "    # Convert into all lowercase\n",
    "    str1 = str1.lower()\n",
    "    # Grabe all unique letters from the string set()\n",
    "    str1 = set(str1)\n",
    "    # alphabet ser == string set input\n",
    "    return str1 == alphaset"
   ]
  },
  {
   "cell_type": "code",
   "execution_count": 19,
   "id": "1df39d38",
   "metadata": {},
   "outputs": [
    {
     "data": {
      "text/plain": [
       "True"
      ]
     },
     "execution_count": 19,
     "metadata": {},
     "output_type": "execute_result"
    }
   ],
   "source": [
    "ispangram(\"The quick brown fox jumps over the lazy dog\")"
   ]
  },
  {
   "cell_type": "code",
   "execution_count": 20,
   "id": "784aac87",
   "metadata": {},
   "outputs": [
    {
     "data": {
      "text/plain": [
       "False"
      ]
     },
     "execution_count": 20,
     "metadata": {},
     "output_type": "execute_result"
    }
   ],
   "source": [
    "ispangram(\"The conspiracy theory is a fraud that is the rison I dont like to get involved with this bull shit\")"
   ]
  },
  {
   "cell_type": "code",
   "execution_count": 12,
   "id": "4359f820",
   "metadata": {},
   "outputs": [
    {
     "name": "stdout",
     "output_type": "stream",
     "text": [
      "H\n",
      "e\n",
      "l\n",
      "l\n",
      "o\n",
      "M\n",
      "r\n",
      "R\n",
      "o\n",
      "g\n",
      "e\n",
      "r\n",
      "s\n"
     ]
    }
   ],
   "source": [
    "### Printing a letter at a time from a string.\n",
    "s = 'Hello Mr. Rogers'\n",
    "for c in s:\n",
    "    if c.isupper():\n",
    "        print(c)\n",
    "    elif c.islower():\n",
    "        print(c)\n",
    "    else:\n",
    "        pass"
   ]
  },
  {
   "cell_type": "code",
   "execution_count": null,
   "id": "cc11d36b",
   "metadata": {},
   "outputs": [],
   "source": []
  }
 ],
 "metadata": {
  "kernelspec": {
   "display_name": "Python 3",
   "language": "python",
   "name": "python3"
  },
  "language_info": {
   "codemirror_mode": {
    "name": "ipython",
    "version": 3
   },
   "file_extension": ".py",
   "mimetype": "text/x-python",
   "name": "python",
   "nbconvert_exporter": "python",
   "pygments_lexer": "ipython3",
   "version": "3.8.8"
  }
 },
 "nbformat": 4,
 "nbformat_minor": 5
}

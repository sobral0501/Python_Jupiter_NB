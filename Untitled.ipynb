{
 "cells": [
  {
   "cell_type": "code",
   "execution_count": 5,
   "id": "94f2600f",
   "metadata": {},
   "outputs": [
    {
     "ename": "SyntaxError",
     "evalue": "invalid syntax (<ipython-input-5-79948a915845>, line 21)",
     "output_type": "error",
     "traceback": [
      "\u001b[1;36m  File \u001b[1;32m\"<ipython-input-5-79948a915845>\"\u001b[1;36m, line \u001b[1;32m21\u001b[0m\n\u001b[1;33m    for __name__ = \"__main__\":\u001b[0m\n\u001b[1;37m                 ^\u001b[0m\n\u001b[1;31mSyntaxError\u001b[0m\u001b[1;31m:\u001b[0m invalid syntax\n"
     ]
    }
   ],
   "source": [
    "# [ ] The following program asks the user for a circle radius then display the area and circumference\n",
    "# Modify the program so it only displays the information when executed directly\n",
    "# The program should not display anything if it is imported as a module \n",
    "\n",
    "\n",
    "%%writefile main_script.py\n",
    "\n",
    "def main(): \n",
    "    from math import pi\n",
    "\n",
    "    def circle_area(r):\n",
    "        return pi * (r ** 2)\n",
    "\n",
    "    def circle_circumference(r):\n",
    "        return  2 * pi * r\n",
    "\n",
    "    radius = float(input(\"Enter radius: \"))\n",
    "    print(\"Area =\", circle_area(radius))\n",
    "    print(\"Circumference =\", circle_circumference(radius))\n",
    "\n",
    "if __name__ = \"__main__\":\n",
    "    main()"
   ]
  },
  {
   "cell_type": "code",
   "execution_count": null,
   "id": "6310c785",
   "metadata": {},
   "outputs": [],
   "source": []
  }
 ],
 "metadata": {
  "kernelspec": {
   "display_name": "Python 3",
   "language": "python",
   "name": "python3"
  },
  "language_info": {
   "codemirror_mode": {
    "name": "ipython",
    "version": 3
   },
   "file_extension": ".py",
   "mimetype": "text/x-python",
   "name": "python",
   "nbconvert_exporter": "python",
   "pygments_lexer": "ipython3",
   "version": "3.8.8"
  }
 },
 "nbformat": 4,
 "nbformat_minor": 5
}

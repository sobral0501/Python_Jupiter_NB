{
 "cells": [
  {
   "cell_type": "markdown",
   "id": "6856b219",
   "metadata": {},
   "source": [
    "**Seeing the World Project:**\n",
    "\n",
    "Think of at least five places in the world you’d like to visit.\n",
    "1. Store the locations in a list. Make sure the list is not in alphabetical order.\n",
    "2. Print your list in its original order. Don’t worry about printing the list neatly, just print it as a raw Python list.\n",
    "3. Use sorted() to print your list in alphabetical order without modifying the actual list.\n",
    "4. Show that your list is still in its original order by printing it.\n",
    "5. Use sorted() to print your list in reverse alphabetical order without changing the order of the original list.\n",
    "6. Show that your list is still in its original order by printing it again.\n",
    "7. Use reverse() to change the order of your list. Print the list to show that its order has changed.\n",
    "8. Use reverse() to change the order of your list again. Print the list to show it’s back to its original order.\n",
    "9. Use sort() to change your list so it’s stored in alphabetical order. Print the list to show that its order has been changed.\n",
    "10. Use sort() to change your list so it’s stored in reverse alphabetical order.\n",
    "11. Print the list to show that its order has changed."
   ]
  },
  {
   "cell_type": "code",
   "execution_count": 17,
   "id": "90e5868d",
   "metadata": {},
   "outputs": [],
   "source": [
    "My_list = ['israel','italia','hawaii','peru','brazil']"
   ]
  },
  {
   "cell_type": "code",
   "execution_count": 5,
   "id": "7a00288f",
   "metadata": {},
   "outputs": [
    {
     "name": "stdout",
     "output_type": "stream",
     "text": [
      "['israel', 'italia', 'hawaii', 'peru', 'brazil']\n"
     ]
    }
   ],
   "source": [
    "print(My_list)"
   ]
  },
  {
   "cell_type": "code",
   "execution_count": 6,
   "id": "20165502",
   "metadata": {},
   "outputs": [
    {
     "name": "stdout",
     "output_type": "stream",
     "text": [
      "['brazil', 'hawaii', 'israel', 'italia', 'peru']\n"
     ]
    }
   ],
   "source": [
    "print(sorted(My_list))"
   ]
  },
  {
   "cell_type": "code",
   "execution_count": 18,
   "id": "606b2252",
   "metadata": {},
   "outputs": [
    {
     "name": "stdout",
     "output_type": "stream",
     "text": [
      "['israel', 'italia', 'hawaii', 'peru', 'brazil']\n"
     ]
    }
   ],
   "source": [
    "print(My_list)"
   ]
  },
  {
   "cell_type": "code",
   "execution_count": 22,
   "id": "8501837a",
   "metadata": {},
   "outputs": [
    {
     "data": {
      "text/plain": [
       "['peru', 'italia', 'israel', 'hawaii', 'brazil']"
      ]
     },
     "execution_count": 22,
     "metadata": {},
     "output_type": "execute_result"
    }
   ],
   "source": [
    "sorted(My_list, reverse=True)"
   ]
  },
  {
   "cell_type": "code",
   "execution_count": 23,
   "id": "c681b91b",
   "metadata": {},
   "outputs": [
    {
     "name": "stdout",
     "output_type": "stream",
     "text": [
      "['israel', 'italia', 'hawaii', 'peru', 'brazil']\n"
     ]
    }
   ],
   "source": [
    "print(My_list)"
   ]
  },
  {
   "cell_type": "code",
   "execution_count": 27,
   "id": "1e4e2841",
   "metadata": {},
   "outputs": [
    {
     "name": "stdout",
     "output_type": "stream",
     "text": [
      "['brazil', 'peru', 'hawaii', 'italia', 'israel']\n"
     ]
    }
   ],
   "source": [
    "My_list.reverse()\n",
    "print(My_list)"
   ]
  },
  {
   "cell_type": "code",
   "execution_count": 28,
   "id": "a9d7b06b",
   "metadata": {},
   "outputs": [
    {
     "name": "stdout",
     "output_type": "stream",
     "text": [
      "['israel', 'italia', 'hawaii', 'peru', 'brazil']\n"
     ]
    }
   ],
   "source": [
    "My_list.reverse()\n",
    "print(My_list)"
   ]
  },
  {
   "cell_type": "code",
   "execution_count": 29,
   "id": "c18660e0",
   "metadata": {},
   "outputs": [
    {
     "name": "stdout",
     "output_type": "stream",
     "text": [
      "['brazil', 'hawaii', 'israel', 'italia', 'peru']\n"
     ]
    }
   ],
   "source": [
    "My_list.sort()\n",
    "print(My_list)"
   ]
  },
  {
   "cell_type": "code",
   "execution_count": 31,
   "id": "baf7089b",
   "metadata": {},
   "outputs": [
    {
     "name": "stdout",
     "output_type": "stream",
     "text": [
      "['peru', 'italia', 'israel', 'hawaii', 'brazil']\n"
     ]
    }
   ],
   "source": [
    "My_list.sort(reverse=True)\n",
    "print(My_list)"
   ]
  },
  {
   "cell_type": "code",
   "execution_count": null,
   "id": "3beae3d8",
   "metadata": {},
   "outputs": [],
   "source": []
  }
 ],
 "metadata": {
  "kernelspec": {
   "display_name": "Python 3",
   "language": "python",
   "name": "python3"
  },
  "language_info": {
   "codemirror_mode": {
    "name": "ipython",
    "version": 3
   },
   "file_extension": ".py",
   "mimetype": "text/x-python",
   "name": "python",
   "nbconvert_exporter": "python",
   "pygments_lexer": "ipython3",
   "version": "3.8.8"
  }
 },
 "nbformat": 4,
 "nbformat_minor": 5
}

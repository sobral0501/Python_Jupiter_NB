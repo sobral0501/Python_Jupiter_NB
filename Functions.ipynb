{
 "cells": [
  {
   "cell_type": "markdown",
   "id": "28acbcd4",
   "metadata": {},
   "source": [
    "# FUNCTIONS"
   ]
  },
  {
   "cell_type": "code",
   "execution_count": 4,
   "id": "6227ed9b",
   "metadata": {},
   "outputs": [],
   "source": [
    "def personal_info():\n",
    "    fname = input('First Name:')\n",
    "    lname = input('Last Name:')\n",
    "    age = input('Age:')\n",
    "    full_name = fname+' '+lname\n",
    "    print(full_name.title()+'  '+age)"
   ]
  },
  {
   "cell_type": "code",
   "execution_count": 5,
   "id": "9cec6ab7",
   "metadata": {},
   "outputs": [
    {
     "name": "stdout",
     "output_type": "stream",
     "text": [
      "First Name:djair\n",
      "Last Name:sobral\n",
      "Age:59\n",
      "Djair Sobral  59\n"
     ]
    }
   ],
   "source": [
    "personal_info()"
   ]
  },
  {
   "cell_type": "code",
   "execution_count": 13,
   "id": "a83e6602",
   "metadata": {},
   "outputs": [
    {
     "name": "stdout",
     "output_type": "stream",
     "text": [
      "The total of 5 + 10 = 15\n",
      "The total of -5 + 10 = 5\n"
     ]
    }
   ],
   "source": [
    "def addition(x,y):\n",
    "    total = x + y\n",
    "    print('The total of '+str(x)+' '+'+ '+str(y)+' '+'='+' '+str(total))\n",
    "    \n",
    "addition(5,10)\n",
    "addition(-5,10)"
   ]
  },
  {
   "cell_type": "code",
   "execution_count": 14,
   "id": "720750ec",
   "metadata": {},
   "outputs": [
    {
     "name": "stdout",
     "output_type": "stream",
     "text": [
      "The total of 5 + 3 = 8\n"
     ]
    }
   ],
   "source": [
    "###  Keyword Arguments - is a name-value pair that you pass to a function.\n",
    "\n",
    "addition(y=3,x=5)"
   ]
  },
  {
   "cell_type": "code",
   "execution_count": 16,
   "id": "65d4c6a5",
   "metadata": {},
   "outputs": [],
   "source": [
    "### Default Values\n",
    "\n",
    "def position(city,state,country='USA'):\n",
    "    print('City: '+city.title())\n",
    "    print('State: '+state.title())\n",
    "    print('Country: '+country.upper())\n"
   ]
  },
  {
   "cell_type": "code",
   "execution_count": 17,
   "id": "cc2f6cbd",
   "metadata": {},
   "outputs": [
    {
     "name": "stdout",
     "output_type": "stream",
     "text": [
      "City: Dallas\n",
      "State: Texas\n",
      "Country: USA\n"
     ]
    }
   ],
   "source": [
    "position('dallas','texas')"
   ]
  },
  {
   "cell_type": "code",
   "execution_count": 18,
   "id": "d986683f",
   "metadata": {},
   "outputs": [
    {
     "name": "stdout",
     "output_type": "stream",
     "text": [
      "City: Recife\n",
      "State: Pernambuco\n",
      "Country: BRASIL\n"
     ]
    }
   ],
   "source": [
    "position('recife','pernambuco','brasil')"
   ]
  },
  {
   "cell_type": "markdown",
   "id": "3e40a076",
   "metadata": {},
   "source": [
    "**Making an Argument Optional**\n",
    " - we set the default value to an empty string and move it to the end of the list of parameters."
   ]
  },
  {
   "cell_type": "code",
   "execution_count": 34,
   "id": "8f1a7e18",
   "metadata": {},
   "outputs": [],
   "source": [
    "def full_name(fname,lname,mname=\"\"):\n",
    "    if mname:\n",
    "        full_name = f\"{fname} {mname} {lname}\"\n",
    "    else:\n",
    "        full_name = f'{fname} {lname}'\n",
    "    print(full_name.title())"
   ]
  },
  {
   "cell_type": "code",
   "execution_count": 36,
   "id": "b476cd81",
   "metadata": {},
   "outputs": [
    {
     "name": "stdout",
     "output_type": "stream",
     "text": [
      "Djair Sobral\n",
      "Djair Candido Sobral\n"
     ]
    }
   ],
   "source": [
    "full_name('djair','sobral')\n",
    "full_name('djair','sobral','candido')"
   ]
  },
  {
   "cell_type": "markdown",
   "id": "8c9c9bdd",
   "metadata": {},
   "source": [
    "**Returning a Dictionary**"
   ]
  },
  {
   "cell_type": "code",
   "execution_count": 38,
   "id": "7109e2a1",
   "metadata": {},
   "outputs": [
    {
     "name": "stdout",
     "output_type": "stream",
     "text": [
      "{'First': 'Djair', 'Last': 'Sobral'}\n"
     ]
    }
   ],
   "source": [
    "### Return a dictionary of information about a person\n",
    "\n",
    "def build_person(fname,lname):\n",
    "    person = {'First':fname, 'Last':lname}\n",
    "    return person\n",
    "\n",
    "student = build_person('Djair','Sobral')\n",
    "print(student)"
   ]
  },
  {
   "cell_type": "code",
   "execution_count": 39,
   "id": "4b8d9a41",
   "metadata": {},
   "outputs": [],
   "source": [
    "### Extending this function to accept optional values like a middle name, an age,etc.\n",
    "### Adding value in a dictionary\n",
    "\n",
    "def build_person(fname,lname,age=None):\n",
    "    person = {'First':fname, 'Last':lname}\n",
    "    if age:\n",
    "        person['Age'] = age\n",
    "    return person"
   ]
  },
  {
   "cell_type": "code",
   "execution_count": 40,
   "id": "a47645dd",
   "metadata": {},
   "outputs": [
    {
     "name": "stdout",
     "output_type": "stream",
     "text": [
      "{'First': 'Djair', 'Last': 'Sobral'}\n",
      "{'First': 'Djair', 'Last': 'Sobral', 'Age': 59}\n"
     ]
    }
   ],
   "source": [
    "student = build_person('Djair','Sobral')\n",
    "print(student)\n",
    "student = build_person('Djair','Sobral',59)\n",
    "print(student)"
   ]
  },
  {
   "cell_type": "markdown",
   "id": "f276aeb4",
   "metadata": {},
   "source": [
    "**Passing a List**"
   ]
  },
  {
   "cell_type": "code",
   "execution_count": 1,
   "id": "4c5f1554",
   "metadata": {},
   "outputs": [],
   "source": [
    "\"\"\"Print a simple greeting to each user in the list.\"\"\"\n",
    "\n",
    "def greet_users(names):\n",
    "    for name in names:\n",
    "        msg = f\"Hello, {name.title()}!\"\n",
    "        print(msg)"
   ]
  },
  {
   "cell_type": "code",
   "execution_count": 2,
   "id": "9b20bdd7",
   "metadata": {},
   "outputs": [
    {
     "name": "stdout",
     "output_type": "stream",
     "text": [
      "Hello, Djair!\n",
      "Hello, Jane!\n",
      "Hello, Tanner!\n"
     ]
    }
   ],
   "source": [
    "pessoas = ['djair','jane','tanner']\n",
    "greet_users(pessoas)"
   ]
  },
  {
   "cell_type": "markdown",
   "id": "6afaeee5",
   "metadata": {},
   "source": [
    "**Modifying a List in a Function**"
   ]
  },
  {
   "cell_type": "code",
   "execution_count": 5,
   "id": "968e82dd",
   "metadata": {},
   "outputs": [
    {
     "name": "stdout",
     "output_type": "stream",
     "text": [
      "Car sold: prius\n",
      "Car sold: rouge\n",
      "Car sold: sentra\n",
      "\n",
      "The following cars have been solded:\n",
      "prius\n",
      "rouge\n",
      "sentra\n"
     ]
    }
   ],
   "source": [
    "cars_in_stock = ['sentra','rouge','prius']\n",
    "sold_cars = []\n",
    "\n",
    "while cars_in_stock:\n",
    "    car_sold = cars_in_stock.pop() #==> Removing items from list\n",
    "    print(f\"Car sold: {car_sold}\")\n",
    "    sold_cars.append(car_sold)     #==> Adding items in new list\n",
    "    \n",
    "# Display all cars sold.\n",
    "print(\"\\nThe following cars have been solded:\")\n",
    "for sold_car in sold_cars:\n",
    "    print(sold_car)"
   ]
  },
  {
   "cell_type": "markdown",
   "id": "5e09c1fe",
   "metadata": {},
   "source": [
    "**Solving problem above with functions**"
   ]
  },
  {
   "cell_type": "code",
   "execution_count": 20,
   "id": "d4bb8dfb",
   "metadata": {},
   "outputs": [],
   "source": [
    "def car_sale(cars_in_stock,sold_cars):\n",
    "    \n",
    "    while cars_in_stock:\n",
    "        car_sold = cars_in_stock.pop() #==> Removing items from list\n",
    "        print(f\"Car sold: {car_sold.title()}\")\n",
    "        sold_cars.append(car_sold)     #==> Adding items in new list\n",
    "    \n",
    "def cars_solded(sold_cars):\n",
    "    print(\"\\nThe following cars have been solded:\")\n",
    "    for sold_car in sold_cars:\n",
    "        print(sold_car.title())"
   ]
  },
  {
   "cell_type": "code",
   "execution_count": 11,
   "id": "b56be177",
   "metadata": {},
   "outputs": [
    {
     "name": "stdout",
     "output_type": "stream",
     "text": [
      "Car sold: Prius\n",
      "Car sold: Rouge\n",
      "Car sold: Sentra\n",
      "\n",
      "The following cars have been solded:\n",
      "Prius\n",
      "Rouge\n",
      "Sentra\n"
     ]
    }
   ],
   "source": [
    "cars_in_stock = ['sentra','rouge','prius']\n",
    "sold_cars = []\n",
    "car_sale(cars_in_stock,sold_cars)\n",
    "cars_solded(sold_cars)"
   ]
  },
  {
   "cell_type": "markdown",
   "id": "1fa19f4a",
   "metadata": {},
   "source": [
    "**Preventing a Function from Modifying a List**\n",
    "\n",
    "You can send a copy of a list to a function like this:\n",
    "\n",
    "function_name(list_name[:])\n"
   ]
  },
  {
   "cell_type": "code",
   "execution_count": 21,
   "id": "f3e5df2e",
   "metadata": {},
   "outputs": [
    {
     "name": "stdout",
     "output_type": "stream",
     "text": [
      "['altima', 'armada', 'prius', 'Kia Rio']\n",
      "Car sold: Kia Rio\n",
      "Car sold: Prius\n",
      "Car sold: Armada\n",
      "Car sold: Altima\n"
     ]
    }
   ],
   "source": [
    "cars_in_stock = ['altima','armada','prius','Kia Rio']\n",
    "sold_cars = []\n",
    "\n",
    "print(cars_in_stock)\n",
    "car_sale(cars_in_stock[:],sold_cars)"
   ]
  },
  {
   "cell_type": "code",
   "execution_count": 23,
   "id": "6fd85fa9",
   "metadata": {},
   "outputs": [
    {
     "name": "stdout",
     "output_type": "stream",
     "text": [
      "\n",
      "The following cars have been solded:\n",
      "Kia Rio\n",
      "Prius\n",
      "Armada\n",
      "Altima\n",
      "['altima', 'armada', 'prius', 'Kia Rio']\n"
     ]
    }
   ],
   "source": [
    "cars_solded(sold_cars)\n",
    "\n",
    "print(cars_in_stock)"
   ]
  },
  {
   "cell_type": "markdown",
   "id": "713aa73a",
   "metadata": {},
   "source": [
    "**Passing an Arbitrary Number of Arguments**"
   ]
  },
  {
   "cell_type": "code",
   "execution_count": 1,
   "id": "d0df4126",
   "metadata": {},
   "outputs": [
    {
     "data": {
      "text/plain": [
       "'C:\\\\Users\\\\12142\\\\My Python Stuff'"
      ]
     },
     "execution_count": 1,
     "metadata": {},
     "output_type": "execute_result"
    }
   ],
   "source": [
    "pwd"
   ]
  },
  {
   "cell_type": "code",
   "execution_count": null,
   "id": "29889535",
   "metadata": {},
   "outputs": [],
   "source": []
  }
 ],
 "metadata": {
  "kernelspec": {
   "display_name": "Python 3",
   "language": "python",
   "name": "python3"
  },
  "language_info": {
   "codemirror_mode": {
    "name": "ipython",
    "version": 3
   },
   "file_extension": ".py",
   "mimetype": "text/x-python",
   "name": "python",
   "nbconvert_exporter": "python",
   "pygments_lexer": "ipython3",
   "version": "3.8.8"
  }
 },
 "nbformat": 4,
 "nbformat_minor": 5
}

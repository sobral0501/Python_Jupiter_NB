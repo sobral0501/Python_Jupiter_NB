{
 "cells": [
  {
   "cell_type": "markdown",
   "id": "f1e04276",
   "metadata": {},
   "source": [
    "# Class"
   ]
  },
  {
   "cell_type": "code",
   "execution_count": 2,
   "id": "9239020a",
   "metadata": {},
   "outputs": [],
   "source": [
    "class Dog:\n",
    "    \"\"\"A simple attempt to model a dog.\"\"\"\n",
    "    def __init__(self, name, age):\n",
    "        \"\"\"Initialize name and age attributes.\"\"\"\n",
    "        self.name = name\n",
    "        self.age  = age\n",
    "    def sit(self):\n",
    "        \"\"\"Simulate a dog sitting in response to a command.\"\"\"\n",
    "        print(f\"{self.name} is now sitting.\")\n",
    "    def roll_over(self):\n",
    "        \"\"\"Simulate rolling over in response to a command.\"\"\"\n",
    "        print(f\"{self.name} rolled over!\")"
   ]
  },
  {
   "cell_type": "code",
   "execution_count": 3,
   "id": "b7c3b99f",
   "metadata": {},
   "outputs": [
    {
     "name": "stdout",
     "output_type": "stream",
     "text": [
      "My dog's name is Shake.\n",
      "My dog's name is Buk.\n"
     ]
    }
   ],
   "source": [
    "### Creating Multiple instances from class Dog.\n",
    "dog1 = Dog('Shake',11)\n",
    "dog2 = Dog('Buk',5)\n",
    "\n",
    "print(f\"My dog's name is {dog1.name}.\")\n",
    "print(f\"My dog's name is {dog2.name}.\")"
   ]
  },
  {
   "cell_type": "code",
   "execution_count": 10,
   "id": "b5c63daf",
   "metadata": {},
   "outputs": [
    {
     "name": "stdout",
     "output_type": "stream",
     "text": [
      "Shake rolled over!\n",
      "Shake is 11 years old.\n"
     ]
    }
   ],
   "source": [
    "### Calling the roll_over() Method.\n",
    "dog1.roll_over()\n",
    "\n",
    "print(f\"{dog1.name} is {dog1.age} years old.\")"
   ]
  },
  {
   "cell_type": "code",
   "execution_count": 12,
   "id": "372fe3e6",
   "metadata": {},
   "outputs": [
    {
     "name": "stdout",
     "output_type": "stream",
     "text": [
      "Buk is now sitting.\n",
      "Buk is 5 years old.\n"
     ]
    }
   ],
   "source": [
    "### calling the sit() method.\n",
    "dog2.sit()\n",
    "print(f\"{dog2.name} is {dog2.age} years old.\")"
   ]
  },
  {
   "cell_type": "markdown",
   "id": "8677f999",
   "metadata": {},
   "source": [
    "## Working with Classes and Instances"
   ]
  },
  {
   "cell_type": "code",
   "execution_count": 1,
   "id": "335c14f7",
   "metadata": {},
   "outputs": [],
   "source": [
    "class Car:\n",
    "    \n",
    "    def __init__(self, make, model, year):\n",
    "        self.make = make\n",
    "        self.model = model\n",
    "        self.year = year\n",
    "    \n",
    "    def get_descriptive_name(self):\n",
    "        long_name = f\"{self.year} {self.make} {self.model}\"\n",
    "        return long_name.title()"
   ]
  },
  {
   "cell_type": "code",
   "execution_count": 2,
   "id": "af9e626c",
   "metadata": {},
   "outputs": [
    {
     "name": "stdout",
     "output_type": "stream",
     "text": [
      "2019 Audi A4\n"
     ]
    }
   ],
   "source": [
    "my_new_car = Car('audi', 'a4', 2019)\n",
    "\n",
    "print(my_new_car.get_descriptive_name())"
   ]
  },
  {
   "cell_type": "markdown",
   "id": "ce3ee7d7",
   "metadata": {},
   "source": [
    "**Setting a Default Value for an Attribute**"
   ]
  },
  {
   "cell_type": "code",
   "execution_count": 5,
   "id": "81e31841",
   "metadata": {},
   "outputs": [],
   "source": [
    "class Car:\n",
    "    \n",
    "    def __init__(self, make, model, year):\n",
    "        self.make          = make\n",
    "        self.model         = model\n",
    "        self.year          = year\n",
    "        self.odometer_read = 0\n",
    "        self.gas_tank      = 15\n",
    "    \n",
    "    def get_descriptive_name(self):\n",
    "        long_name = f\"{self.year} {self.make} {self.model}\"\n",
    "        return long_name.title()\n",
    "    \n",
    "    def read_odometer(self):\n",
    "        print(f\"This car has {self.odometer_read} miles on it.\")\n",
    "        \n",
    "### This Method was added later  ==> Modifying an Attribute's value through a Method     \n",
    "    def update_odometer(self, mileage):\n",
    "        \"\"\"Set the odometer reading to the given value.\n",
    "        Reject the change if it attempts to roll the odometer back.\"\"\"\n",
    "        if mileage >= self.odometer_read:\n",
    "            self.odometer_read = mileage\n",
    "        else:\n",
    "            print(\"You can't roll back an odometer!\")\n",
    "            \n",
    "### Incrementing an Attribute's value through a Method\n",
    "    def increment_odometer(self, miles):\n",
    "        \"\"\"Add the given amount to the odometer reading.\"\"\"\n",
    "        self.odometer_read += miles\n",
    "        \n",
    "    def fill_gas_tank(self):\n",
    "        print(f'This car holds {self.gas_tank} gallons of gas.')"
   ]
  },
  {
   "cell_type": "code",
   "execution_count": 6,
   "id": "b34133c6",
   "metadata": {},
   "outputs": [
    {
     "name": "stdout",
     "output_type": "stream",
     "text": [
      "This car holds 15 gallons of gas.\n"
     ]
    }
   ],
   "source": [
    "my_car = Car('nissan','rouge',2017)\n",
    "my_car.fill_gas_tank()"
   ]
  },
  {
   "cell_type": "code",
   "execution_count": 13,
   "id": "b0f5cdf4",
   "metadata": {},
   "outputs": [
    {
     "name": "stdout",
     "output_type": "stream",
     "text": [
      "2017 Nissan Rouge\n",
      "This car has 0 miles on it.\n"
     ]
    }
   ],
   "source": [
    "print(my_car.get_descriptive_name())\n",
    "my_car.read_odometer()"
   ]
  },
  {
   "cell_type": "markdown",
   "id": "a2ec7ce8",
   "metadata": {},
   "source": [
    "**Modifying an Attribute’s Value Directly** - The simplest way to modify the value of an attribute is to access the attribute\n",
    "directly through an instance."
   ]
  },
  {
   "cell_type": "code",
   "execution_count": 3,
   "id": "b746f984",
   "metadata": {},
   "outputs": [
    {
     "name": "stdout",
     "output_type": "stream",
     "text": [
      "This car has 1200 miles on it.\n"
     ]
    }
   ],
   "source": [
    "my_car.odometer_read = 1200\n",
    "my_car.read_odometer()"
   ]
  },
  {
   "cell_type": "markdown",
   "id": "9dbe7816",
   "metadata": {},
   "source": [
    "**Modifying an Attribute’s Value Through a Method**  - \n",
    "It can be helpful to have methods that update certain attributes for you. Instead of accessing the attribute directly, you pass the new value to a method that handles the updating internally."
   ]
  },
  {
   "cell_type": "code",
   "execution_count": null,
   "id": "653ffa83",
   "metadata": {},
   "outputs": [],
   "source": [
    "\"\"\"Set the odometer reading to the given value.\"\"\"\n",
    "def update_odometer(self, mileage):\n",
    "    self.odometer_reading = mileage\n",
    "----------------------------------------------------\n",
    "def update_odometer(self, mileage):\n",
    "        \"\"\"Set the odometer reading to the given value.\n",
    "        Reject the change if it attempts to roll the odometer back.\"\"\"\n",
    "        if mileage >= self.odometer_read:\n",
    "            self.odometer_read = mileage\n",
    "        else:\n",
    "            print(\"You can't roll back an odometer!\")"
   ]
  },
  {
   "cell_type": "code",
   "execution_count": 4,
   "id": "c0f45235",
   "metadata": {},
   "outputs": [
    {
     "name": "stdout",
     "output_type": "stream",
     "text": [
      "You can't roll back an odometer!\n",
      "This car has 1200 miles on it.\n"
     ]
    }
   ],
   "source": [
    "my_car.update_odometer(150)\n",
    "my_car.read_odometer()"
   ]
  },
  {
   "cell_type": "code",
   "execution_count": 5,
   "id": "5b2bd5a4",
   "metadata": {},
   "outputs": [
    {
     "name": "stdout",
     "output_type": "stream",
     "text": [
      "This car has 1500 miles on it.\n"
     ]
    }
   ],
   "source": [
    "my_car.update_odometer(1500)\n",
    "my_car.read_odometer()"
   ]
  },
  {
   "cell_type": "markdown",
   "id": "6c7321b8",
   "metadata": {},
   "source": [
    "**Incrementing an Attribute’s Value Through a Method** - Sometimes you’ll want to increment an attribute’s value by a certain\n",
    "amount rather than set an entirely new value."
   ]
  },
  {
   "cell_type": "code",
   "execution_count": 15,
   "id": "bcd879f5",
   "metadata": {},
   "outputs": [
    {
     "name": "stdout",
     "output_type": "stream",
     "text": [
      "2019 Subaru Outback\n"
     ]
    }
   ],
   "source": [
    "new_car = Car('subaru','outback',2019)\n",
    "print(new_car.get_descriptive_name())"
   ]
  },
  {
   "cell_type": "code",
   "execution_count": 8,
   "id": "270f8014",
   "metadata": {},
   "outputs": [
    {
     "name": "stdout",
     "output_type": "stream",
     "text": [
      "This car has 2000 miles on it.\n"
     ]
    }
   ],
   "source": [
    "### Entering mileage\n",
    "new_car.update_odometer(2000)\n",
    "new_car.read_odometer()"
   ]
  },
  {
   "cell_type": "code",
   "execution_count": 9,
   "id": "12ebafb5",
   "metadata": {},
   "outputs": [
    {
     "name": "stdout",
     "output_type": "stream",
     "text": [
      "This car has 2300 miles on it.\n"
     ]
    }
   ],
   "source": [
    "### Incrementing mileage to 2300\n",
    "new_car.increment_odometer(300)\n",
    "new_car.read_odometer()"
   ]
  },
  {
   "cell_type": "code",
   "execution_count": 5,
   "id": "b88525d8",
   "metadata": {},
   "outputs": [
    {
     "name": "stdout",
     "output_type": "stream",
     "text": [
      "You can't roll back an odometer!\n"
     ]
    }
   ],
   "source": [
    "new_car.update_odometer(100)"
   ]
  },
  {
   "cell_type": "markdown",
   "id": "708b96e7",
   "metadata": {},
   "source": [
    "**Deleting Attributes and Objects**"
   ]
  },
  {
   "cell_type": "code",
   "execution_count": 11,
   "id": "2e721a95",
   "metadata": {},
   "outputs": [],
   "source": [
    "### Deleting an attribute\n",
    "del new_car.odometer_read"
   ]
  },
  {
   "cell_type": "code",
   "execution_count": 12,
   "id": "f05b456b",
   "metadata": {},
   "outputs": [
    {
     "ename": "AttributeError",
     "evalue": "'Car' object has no attribute 'odometer_read'",
     "output_type": "error",
     "traceback": [
      "\u001b[1;31m---------------------------------------------------------------------------\u001b[0m",
      "\u001b[1;31mAttributeError\u001b[0m                            Traceback (most recent call last)",
      "\u001b[1;32m<ipython-input-12-919e1b34e2b2>\u001b[0m in \u001b[0;36m<module>\u001b[1;34m\u001b[0m\n\u001b[1;32m----> 1\u001b[1;33m \u001b[0mnew_car\u001b[0m\u001b[1;33m.\u001b[0m\u001b[0mread_odometer\u001b[0m\u001b[1;33m(\u001b[0m\u001b[1;33m)\u001b[0m\u001b[1;33m\u001b[0m\u001b[1;33m\u001b[0m\u001b[0m\n\u001b[0m",
      "\u001b[1;32m<ipython-input-1-e7ad08242266>\u001b[0m in \u001b[0;36mread_odometer\u001b[1;34m(self)\u001b[0m\n\u001b[0;32m     12\u001b[0m \u001b[1;33m\u001b[0m\u001b[0m\n\u001b[0;32m     13\u001b[0m     \u001b[1;32mdef\u001b[0m \u001b[0mread_odometer\u001b[0m\u001b[1;33m(\u001b[0m\u001b[0mself\u001b[0m\u001b[1;33m)\u001b[0m\u001b[1;33m:\u001b[0m\u001b[1;33m\u001b[0m\u001b[1;33m\u001b[0m\u001b[0m\n\u001b[1;32m---> 14\u001b[1;33m         \u001b[0mprint\u001b[0m\u001b[1;33m(\u001b[0m\u001b[1;34mf\"This car has {self.odometer_read} miles on it.\"\u001b[0m\u001b[1;33m)\u001b[0m\u001b[1;33m\u001b[0m\u001b[1;33m\u001b[0m\u001b[0m\n\u001b[0m\u001b[0;32m     15\u001b[0m \u001b[1;33m\u001b[0m\u001b[0m\n\u001b[0;32m     16\u001b[0m \u001b[1;31m### This Method was added later  ==> Modifying an Attribute's value through a Method\u001b[0m\u001b[1;33m\u001b[0m\u001b[1;33m\u001b[0m\u001b[1;33m\u001b[0m\u001b[0m\n",
      "\u001b[1;31mAttributeError\u001b[0m: 'Car' object has no attribute 'odometer_read'"
     ]
    }
   ],
   "source": [
    "new_car.read_odometer()"
   ]
  },
  {
   "cell_type": "code",
   "execution_count": 16,
   "id": "096b2125",
   "metadata": {},
   "outputs": [
    {
     "name": "stdout",
     "output_type": "stream",
     "text": [
      "2019 Subaru Outback\n"
     ]
    }
   ],
   "source": [
    "print(new_car.get_descriptive_name())"
   ]
  },
  {
   "cell_type": "code",
   "execution_count": 17,
   "id": "772379ca",
   "metadata": {},
   "outputs": [],
   "source": [
    "### Deleting Object\n",
    "del new_car"
   ]
  },
  {
   "cell_type": "code",
   "execution_count": 18,
   "id": "1bb52196",
   "metadata": {},
   "outputs": [
    {
     "ename": "NameError",
     "evalue": "name 'new_car' is not defined",
     "output_type": "error",
     "traceback": [
      "\u001b[1;31m---------------------------------------------------------------------------\u001b[0m",
      "\u001b[1;31mNameError\u001b[0m                                 Traceback (most recent call last)",
      "\u001b[1;32m<ipython-input-18-f93476432972>\u001b[0m in \u001b[0;36m<module>\u001b[1;34m\u001b[0m\n\u001b[1;32m----> 1\u001b[1;33m \u001b[0mprint\u001b[0m\u001b[1;33m(\u001b[0m\u001b[0mnew_car\u001b[0m\u001b[1;33m.\u001b[0m\u001b[0mget_descriptive_name\u001b[0m\u001b[1;33m(\u001b[0m\u001b[1;33m)\u001b[0m\u001b[1;33m)\u001b[0m\u001b[1;33m\u001b[0m\u001b[1;33m\u001b[0m\u001b[0m\n\u001b[0m",
      "\u001b[1;31mNameError\u001b[0m: name 'new_car' is not defined"
     ]
    }
   ],
   "source": [
    "print(new_car.get_descriptive_name())"
   ]
  },
  {
   "cell_type": "markdown",
   "id": "9e2aff1a",
   "metadata": {},
   "source": [
    "## Inheritance\n",
    "\n",
    "You don’t always have to start from scratch when writing a class. If the class\n",
    "you’re writing is a specialized version of another class you wrote, you can\n",
    "use inheritance. When one class inherits from another, it takes on the attributes\n",
    "and methods of the first class. The original class is called the parent\n",
    "class, and the new class is the child class."
   ]
  },
  {
   "cell_type": "code",
   "execution_count": 8,
   "id": "fc7795b6",
   "metadata": {},
   "outputs": [],
   "source": [
    "\"\"\"  Let’s model an electric car. An electric car is just a specific kind of car, so we can base our new ElectricCar class\n",
    "on the Car class we wrote earlier. Then we’ll only have to write code for the attributes and behavior specific to electric\n",
    "cars.   \"\"\"\n",
    "\n",
    "class ElectricCar(Car):\n",
    "    def __init__(self, make, model, year):\n",
    "        super().__init__(make, model, year)   #===> initialize attributes of the parent class.\n",
    "#        self.battery_size = 75                #===> initialize attributes to an electic car.\n",
    "        self.battery = Battery()\n",
    "    \n",
    "#    def describe_battery(self):\n",
    "#        print(f'This car has a {self.battery_size}-kWh battery.')\n",
    "        \n",
    "    def fill_gas_tank(self):\n",
    "        print(f\"This car doesn't need a gas tank.\")"
   ]
  },
  {
   "cell_type": "code",
   "execution_count": 9,
   "id": "00e89d92",
   "metadata": {},
   "outputs": [],
   "source": [
    "car_1 = ElectricCar('tesla','model s',2020)"
   ]
  },
  {
   "cell_type": "code",
   "execution_count": 10,
   "id": "2f15dcdc",
   "metadata": {},
   "outputs": [
    {
     "name": "stdout",
     "output_type": "stream",
     "text": [
      "2020 Tesla Model S\n",
      "This car has a 75-kWh battery.\n"
     ]
    }
   ],
   "source": [
    "print(car_1.get_descriptive_name())\n",
    "car_1.battery.describe_battery()"
   ]
  },
  {
   "cell_type": "code",
   "execution_count": 6,
   "id": "3f95a89a",
   "metadata": {},
   "outputs": [
    {
     "name": "stdout",
     "output_type": "stream",
     "text": [
      "This car holds 15 gallons of gas.\n"
     ]
    }
   ],
   "source": [
    "car_1.fill_gas_tank()"
   ]
  },
  {
   "cell_type": "markdown",
   "id": "45af96bc",
   "metadata": {},
   "source": [
    "**Instances as Attributes** - \n",
    "When modeling something from the real world in code, you may find that\n",
    "you’re adding more and more detail to a class. You’ll find that you have a\n",
    "growing list of attributes and methods and that your files are becoming\n",
    "lengthy. In these situations, you might recognize that part of one class can\n",
    "be written as a separate class. You can break your large class into smaller\n",
    "classes that work together."
   ]
  },
  {
   "cell_type": "code",
   "execution_count": 7,
   "id": "73abf19c",
   "metadata": {},
   "outputs": [],
   "source": [
    "### we can use a \"Battery\" instance as an attribute in the ElectricCar class.\n",
    "\n",
    "class Battery:\n",
    "    \n",
    "    def __init__(self, battery_size=75):\n",
    "        self.battery_size = battery_size\n",
    "        \n",
    "    def describe_battery(self):\n",
    "        print(f\"This car has a {self.battery_size}-kWh battery.\")\n",
    "        \n",
    "    def get_range(self):\n",
    "        if self.battery_size == 75:\n",
    "            range = 260\n",
    "        elif self.battery_size == 100:\n",
    "            range = 315\n",
    "        print(f\"This car can go about {range} miles on a full charge.\")\n",
    "        \n",
    "### Go back to Class ElectricCar and 'ADD' Battery instance."
   ]
  },
  {
   "cell_type": "code",
   "execution_count": 11,
   "id": "27461d46",
   "metadata": {},
   "outputs": [
    {
     "name": "stdout",
     "output_type": "stream",
     "text": [
      "This car has a 75-kWh battery.\n"
     ]
    }
   ],
   "source": [
    "car_1.battery.describe_battery()"
   ]
  },
  {
   "cell_type": "code",
   "execution_count": 12,
   "id": "bd95c988",
   "metadata": {},
   "outputs": [
    {
     "name": "stdout",
     "output_type": "stream",
     "text": [
      "This car can go about 260 miles on a full charge.\n"
     ]
    }
   ],
   "source": [
    "car_1.battery.get_range()"
   ]
  },
  {
   "cell_type": "code",
   "execution_count": null,
   "id": "384032f4",
   "metadata": {},
   "outputs": [],
   "source": []
  }
 ],
 "metadata": {
  "kernelspec": {
   "display_name": "Python 3",
   "language": "python",
   "name": "python3"
  },
  "language_info": {
   "codemirror_mode": {
    "name": "ipython",
    "version": 3
   },
   "file_extension": ".py",
   "mimetype": "text/x-python",
   "name": "python",
   "nbconvert_exporter": "python",
   "pygments_lexer": "ipython3",
   "version": "3.8.8"
  }
 },
 "nbformat": 4,
 "nbformat_minor": 5
}

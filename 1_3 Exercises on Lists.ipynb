{
 "cells": [
  {
   "cell_type": "markdown",
   "id": "8980dbcf",
   "metadata": {},
   "source": [
    "**Chapter 2 Exercises**\n",
    "1. Guest List: If you could invite anyone, living or deceased, to dinner, who would you invite? Make a list that includes at least three people you’d like to invite to dinner. Then use your list to print a message to each person, inviting them to dinner.\n",
    "\n",
    "2. Changing Guest List: You just heard that one of your guests can’t make the dinner, so you need to send out a new set of invitations. You’ll have to think of someone else to invite.\n",
    "* Start with your program from Exercise 3-4. Add a print() call at the end of your program stating the name of the guest who can’t make it.\n",
    "* Modify your list, replacing the name of the guest who can’t make it with the name of the new person you are inviting.\n",
    "* Print a second set of invitation messages, one for each person who is still in your list.\n",
    " \n",
    "3. More Guests: You just found a bigger dinner table, so now more space is available. Think of three more guests to invite to dinner.\n",
    "* Start with your program from Exercise 3-4 or Exercise 3-5. Add a print() call to the end of your program informing people that you found a bigger dinner table.\n",
    "* Use insert() to add one new guest to the beginning of your list.\n",
    "* Use insert() to add one new guest to the middle of your list.\n",
    "* Use append() to add one new guest to the end of your list.\n",
    "* Print a new set of invitation messages, one for each person in your list.\n",
    "    \n",
    "4. Shrinking Guest List: You just found out that your new dinner table won’t arrive in time for the dinner, and you have space for only two guests.\n",
    "* Start with your program from Exercise 3-6. Add a new line that prints a message saying that you can invite only two people for dinner.\n",
    "* Use pop() to remove guests from your list one at a time until only two names remain in your list. Each time you pop a name from your list, print a message to that person letting them know you’re sorry you can’t invite them to dinner.\n",
    "* Print a message to each of the two people still on your list, letting them know they’re still invited.\n",
    "* Use del to remove the last two names from your list, so you have an empty list. Print your list to make sure you actually have an empty list at the end of your program."
   ]
  },
  {
   "cell_type": "code",
   "execution_count": 12,
   "id": "abb9757f",
   "metadata": {},
   "outputs": [
    {
     "name": "stdout",
     "output_type": "stream",
     "text": [
      "Hi Jennifer! You are invited for my dinner Saturday.\n",
      "Hi Tanner! You are invited for my dinner Saturday.\n",
      "Hi Carol! You are invited for my dinner Saturday.\n",
      "Hi Santista! You are invited for my dinner Saturday.\n"
     ]
    }
   ],
   "source": [
    "# 1\n",
    "Guests = ['Jennifer','Tanner','Carol','Santista']\n",
    "print('Hi '+Guests[0]+'! You are invited for my dinner Saturday.')\n",
    "print('Hi '+Guests[1]+'! You are invited for my dinner Saturday.')\n",
    "print('Hi '+Guests[2]+'! You are invited for my dinner Saturday.')\n",
    "print('Hi '+Guests[3]+'! You are invited for my dinner Saturday.')"
   ]
  },
  {
   "cell_type": "code",
   "execution_count": 13,
   "id": "896a717b",
   "metadata": {},
   "outputs": [
    {
     "name": "stdout",
     "output_type": "stream",
     "text": [
      "My friend Santista can not come.\n"
     ]
    }
   ],
   "source": [
    "# 2-1\n",
    "guest_out = Guests.pop(3)\n",
    "print('My friend ' + guest_out+ ' can not come.')"
   ]
  },
  {
   "cell_type": "code",
   "execution_count": 14,
   "id": "381e6d36",
   "metadata": {},
   "outputs": [
    {
     "name": "stdout",
     "output_type": "stream",
     "text": [
      "['Jennifer', 'Tanner', 'Carol']\n",
      "['Jennifer', 'Tanner', 'Carol', 'Jane']\n"
     ]
    }
   ],
   "source": [
    "#2-2\n",
    "print(Guests)\n",
    "Guests.insert(3,'Jane')\n",
    "new_guest_list = Guests\n",
    "print(new_guest_list)"
   ]
  },
  {
   "cell_type": "code",
   "execution_count": 15,
   "id": "8e4cc61e",
   "metadata": {},
   "outputs": [
    {
     "name": "stdout",
     "output_type": "stream",
     "text": [
      "['Omair', 'Jennifer', 'Saulo', 'Tanner', 'Carol', 'Jane', 'Marcos']\n"
     ]
    }
   ],
   "source": [
    "# 3\n",
    "Guests.insert(0,'Omair')\n",
    "Guests.insert(2,'Saulo')\n",
    "Guests.append('Marcos')\n",
    "print(Guests)"
   ]
  },
  {
   "cell_type": "code",
   "execution_count": 16,
   "id": "bf2c3507",
   "metadata": {},
   "outputs": [
    {
     "name": "stdout",
     "output_type": "stream",
     "text": [
      "Hi Marcos! the dinner was canceled\n"
     ]
    }
   ],
   "source": [
    "# 4\n",
    "print('Hi '+Guests.pop(6)+'! the dinner was canceled')"
   ]
  },
  {
   "cell_type": "code",
   "execution_count": 18,
   "id": "880385af",
   "metadata": {},
   "outputs": [
    {
     "name": "stdout",
     "output_type": "stream",
     "text": [
      "['Jennifer', 'Saulo', 'Tanner', 'Carol', 'Jane']\n"
     ]
    }
   ],
   "source": [
    "# 4-1\n",
    "del Guests[0]\n",
    "print(Guests)"
   ]
  },
  {
   "cell_type": "code",
   "execution_count": 19,
   "id": "7d9157c0",
   "metadata": {},
   "outputs": [
    {
     "name": "stdout",
     "output_type": "stream",
     "text": [
      "['Jennifer', 'Tanner', 'Carol', 'Jane']\n"
     ]
    }
   ],
   "source": [
    "# 4-2\n",
    "Guests.remove('Saulo')\n",
    "print(Guests)"
   ]
  },
  {
   "cell_type": "code",
   "execution_count": null,
   "id": "2a2828bc",
   "metadata": {},
   "outputs": [],
   "source": []
  }
 ],
 "metadata": {
  "kernelspec": {
   "display_name": "Python 3",
   "language": "python",
   "name": "python3"
  },
  "language_info": {
   "codemirror_mode": {
    "name": "ipython",
    "version": 3
   },
   "file_extension": ".py",
   "mimetype": "text/x-python",
   "name": "python",
   "nbconvert_exporter": "python",
   "pygments_lexer": "ipython3",
   "version": "3.8.8"
  }
 },
 "nbformat": 4,
 "nbformat_minor": 5
}

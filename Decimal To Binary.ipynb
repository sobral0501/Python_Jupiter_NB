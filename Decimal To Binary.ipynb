{
 "cells": [
  {
   "cell_type": "code",
   "execution_count": 10,
   "id": "4d939d1f",
   "metadata": {},
   "outputs": [
    {
     "name": "stdout",
     "output_type": "stream",
     "text": [
      "Please enter a dot decimal IP Address: 192.168.183\n",
      "Wrong entry. Use format: NNN.NNN.NNN.NNN \n",
      "Please enter a dot decimal IP Address: 192.168.183.10\n",
      "Here is the binary values:  11000000.10101000.10110111.00001010\n"
     ]
    }
   ],
   "source": [
    "### Definition of The Function 'bin_num()'\n",
    "\n",
    "def bin_num():\n",
    "    global comput\n",
    "    binList = []\n",
    "    result_1=\"\"\n",
    "    decList = [128,64,32,16,8,4,2,1]\n",
    "    for i in decList:\n",
    "        comput = (comput-i)\n",
    "        if comput >=0:\n",
    "            binList.append(1)\n",
    "        elif comput < 0:\n",
    "            comput = (comput+i)\n",
    "            binList.append(0)\n",
    "            \n",
    "    result = list(map(str,binList))\n",
    "    \n",
    "    for i in result:\n",
    "        result_1 = result_1+i\n",
    "    return result_1\n",
    "### ---------------------------------------------------###\n",
    "flag = True\n",
    "while flag:\n",
    "    ip_address = input(\"Please enter a dot decimal IP Address: \")\n",
    "    bin_list=[]\n",
    "    bin_list_2=\"\"\n",
    "# splits the user entered IP address on the dot\n",
    "    ListA = ip_address.split(\".\")\n",
    "# change to int the characters of the list\n",
    "    ListA = list(map(int, ListA))\n",
    "    if len(ListA) < 4:\n",
    "        print('Wrong entry. Use format: NNN.NNN.NNN.NNN ')\n",
    "    else: \n",
    "        flag = False\n",
    "    \n",
    "for item in ListA:\n",
    "    comput = item\n",
    "    bin_list.append(bin_num())\n",
    "#------------------------------------\n",
    "\n",
    "for i in bin_list:\n",
    "        bin_list_2 = bin_list_2+i+'.'\n",
    "#------------------------------------\n",
    "    ### Removing the last dot '.' ###\n",
    "    \n",
    "final_bin_list = list(bin_list_2)\n",
    "final_bin_list[35]=''\n",
    "binary_number=''\n",
    "for i in final_bin_list:\n",
    "        binary_number=binary_number+i\n",
    "\n",
    "#-----------------------------------\n",
    "print(\"Here is the binary values: \",binary_number)"
   ]
  },
  {
   "cell_type": "code",
   "execution_count": null,
   "id": "3fe62fce",
   "metadata": {},
   "outputs": [],
   "source": []
  }
 ],
 "metadata": {
  "kernelspec": {
   "display_name": "Python 3",
   "language": "python",
   "name": "python3"
  },
  "language_info": {
   "codemirror_mode": {
    "name": "ipython",
    "version": 3
   },
   "file_extension": ".py",
   "mimetype": "text/x-python",
   "name": "python",
   "nbconvert_exporter": "python",
   "pygments_lexer": "ipython3",
   "version": "3.8.8"
  }
 },
 "nbformat": 4,
 "nbformat_minor": 5
}

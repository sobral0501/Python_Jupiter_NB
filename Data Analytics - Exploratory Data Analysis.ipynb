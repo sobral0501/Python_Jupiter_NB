{
 "cells": [
  {
   "cell_type": "markdown",
   "id": "ce8def10",
   "metadata": {},
   "source": [
    "## Practical Statistics for Data Scientists (Python)\n",
    "###      1. Exploratory Data Analysis"
   ]
  },
  {
   "cell_type": "code",
   "execution_count": 60,
   "id": "9d273d14",
   "metadata": {},
   "outputs": [],
   "source": [
    "import pandas as pd\n",
    "import numpy as np\n",
    "import matplotlib.pylab as plt\n",
    "import wquantiles\n",
    "import csv"
   ]
  },
  {
   "cell_type": "code",
   "execution_count": 15,
   "id": "e982a55b",
   "metadata": {},
   "outputs": [],
   "source": [
    "state = pd.read_csv('c:\\\\Users\\\\12142\\\\My Python Stuff\\\\Statistics with Python\\\\state.csv')"
   ]
  },
  {
   "cell_type": "code",
   "execution_count": 26,
   "id": "70e7b054",
   "metadata": {},
   "outputs": [
    {
     "name": "stdout",
     "output_type": "stream",
     "text": [
      "         State  Population  Murder.Rate Abbreviation\n",
      "0      Alabama     4779736          5.7           AL\n",
      "1       Alaska      710231          5.6           AK\n",
      "2      Arizona     6392017          4.7           AZ\n",
      "3     Arkansas     2915918          5.6           AR\n",
      "4   California    37253956          4.4           CA\n",
      "5     Colorado     5029196          2.8           CO\n",
      "6  Connecticut     3574097          2.4           CT\n",
      "7     Delaware      897934          5.8           DE\n"
     ]
    }
   ],
   "source": [
    "print(state.head(8))"
   ]
  },
  {
   "cell_type": "code",
   "execution_count": 23,
   "id": "e7c75af8",
   "metadata": {},
   "outputs": [
    {
     "data": {
      "text/plain": [
       "6162876.3"
      ]
     },
     "execution_count": 23,
     "metadata": {},
     "output_type": "execute_result"
    }
   ],
   "source": [
    "state['Population'].mean()"
   ]
  },
  {
   "cell_type": "code",
   "execution_count": 24,
   "id": "715689d1",
   "metadata": {},
   "outputs": [
    {
     "data": {
      "text/plain": [
       "4783697.125"
      ]
     },
     "execution_count": 24,
     "metadata": {},
     "output_type": "execute_result"
    }
   ],
   "source": [
    "trim_mean(state['Population'], 0.1)"
   ]
  },
  {
   "cell_type": "code",
   "execution_count": 25,
   "id": "0ebaf93c",
   "metadata": {},
   "outputs": [
    {
     "data": {
      "text/plain": [
       "4436369.5"
      ]
     },
     "execution_count": 25,
     "metadata": {},
     "output_type": "execute_result"
    }
   ],
   "source": [
    "state['Population'].median()"
   ]
  },
  {
   "cell_type": "code",
   "execution_count": 27,
   "id": "a19de3d8",
   "metadata": {},
   "outputs": [
    {
     "data": {
      "text/plain": [
       "4.445833981123393"
      ]
     },
     "execution_count": 27,
     "metadata": {},
     "output_type": "execute_result"
    }
   ],
   "source": [
    "np.average(state['Murder.Rate'], weights=state['Population'])"
   ]
  },
  {
   "cell_type": "code",
   "execution_count": 30,
   "id": "4b5df7c6",
   "metadata": {},
   "outputs": [
    {
     "data": {
      "text/plain": [
       "4.4"
      ]
     },
     "execution_count": 30,
     "metadata": {},
     "output_type": "execute_result"
    }
   ],
   "source": [
    "wquantiles.median(state['Murder.Rate'], weights=state['Population'])"
   ]
  },
  {
   "cell_type": "code",
   "execution_count": 31,
   "id": "ce27fe88",
   "metadata": {},
   "outputs": [
    {
     "name": "stdout",
     "output_type": "stream",
     "text": [
      "        State  Population  Murder.Rate Abbreviation\n",
      "0     Alabama     4779736          5.7           AL\n",
      "1      Alaska      710231          5.6           AK\n",
      "2     Arizona     6392017          4.7           AZ\n",
      "3    Arkansas     2915918          5.6           AR\n",
      "4  California    37253956          4.4           CA\n"
     ]
    }
   ],
   "source": [
    "print(state.head())"
   ]
  },
  {
   "cell_type": "code",
   "execution_count": 34,
   "id": "86b953e1",
   "metadata": {},
   "outputs": [],
   "source": [
    "pop = state['Population']\n",
    "sta = state['State']\n",
    "mrt = state['Murder.Rate']"
   ]
  },
  {
   "cell_type": "code",
   "execution_count": 44,
   "id": "0c36887b",
   "metadata": {},
   "outputs": [],
   "source": [
    "x=[]\n",
    "y=[]\n",
    "z=[]\n",
    "y=list(pop)\n",
    "x=list(sta)\n",
    "z=list(mrt)"
   ]
  },
  {
   "cell_type": "code",
   "execution_count": 45,
   "id": "8c398264",
   "metadata": {},
   "outputs": [
    {
     "data": {
      "image/png": "[encoded data removed]",
      "text/plain": [
       "<Figure size 432x288 with 1 Axes>"
      ]
     },
     "metadata": {
      "needs_background": "light"
     },
     "output_type": "display_data"
    }
   ],
   "source": [
    "### Scatter Plot from CSV data in Python\n",
    "\n",
    "plt.scatter(x,y)\n",
    "plt.ylabel('Population')\n",
    "plt.xlabel('States')\n",
    "plt.title('Population per State')\n",
    "plt.show()"
   ]
  },
  {
   "cell_type": "code",
   "execution_count": 46,
   "id": "5048ee72",
   "metadata": {},
   "outputs": [
    {
     "data": {
      "text/plain": [
       "<BarContainer object of 50 artists>"
      ]
     },
     "execution_count": 46,
     "metadata": {},
     "output_type": "execute_result"
    },
    {
     "data": {
      "image/png": "[encoded data removed]",
      "text/plain": [
       "<Figure size 432x288 with 1 Axes>"
      ]
     },
     "metadata": {
      "needs_background": "light"
     },
     "output_type": "display_data"
    }
   ],
   "source": [
    "##  Bar Plot from CSV data in Python\n",
    "plt.bar(x,y)"
   ]
  },
  {
   "cell_type": "code",
   "execution_count": 58,
   "id": "b5546721",
   "metadata": {},
   "outputs": [
    {
     "name": "stdout",
     "output_type": "stream",
     "text": [
      "State\n",
      "Population\n",
      "Murder.Rate\n",
      "Abbreviation\n"
     ]
    }
   ],
   "source": [
    "for row in state:\n",
    "  print(row)"
   ]
  },
  {
   "cell_type": "code",
   "execution_count": 67,
   "id": "6422f326",
   "metadata": {},
   "outputs": [
    {
     "name": "stdout",
     "output_type": "stream",
     "text": [
      "Total no. of rows: 33469\n",
      "\n",
      "First 3 rows are:\n",
      "\n",
      "pct_carrier_delay  pct_atc_delay  pct_weather_delay  airline\n",
      "\n",
      "\n",
      "8.15322580645161  1.97177419354839  0.762096774193548    American  \n",
      "\n",
      "5.95992366412214  3.70610687022901  1.58587786259542    American  \n",
      "\n",
      "7.15727002967359  2.70623145400593  2.02670623145401    American  \n",
      "\n"
     ]
    }
   ],
   "source": [
    "# importing csv module\n",
    "import csv\n",
    "  \n",
    "# csv file name\n",
    "filename = \"c:\\\\Users\\\\12142\\\\My Python Stuff\\\\Statistics with Python\\\\airline_stats.csv\"\n",
    "  \n",
    "# initializing the titles and rows list\n",
    "fields = []\n",
    "rows = []\n",
    "  \n",
    "# reading csv file\n",
    "with open(filename, 'r') as csvfile:\n",
    "    \n",
    "    # creating a csv reader object\n",
    "    csvreader = csv.reader(csvfile)\n",
    "      \n",
    "    # extracting field names through first row\n",
    "    fields = next(csvreader)\n",
    "  \n",
    "    # extracting each data row one by one\n",
    "    for row in csvreader:\n",
    "        rows.append(row)\n",
    "  \n",
    "    # get total number of rows\n",
    "    print(\"Total no. of rows: %d\"%(csvreader.line_num))\n",
    "\n",
    "# printing the field names\n",
    "#print('Field names are:' + ', '.join(field for field in fields))\n",
    "  \n",
    "#  printing first 3 rows\n",
    "print('\\nFirst 3 rows are:\\n')\n",
    "print('  '.join(field for field in fields))\n",
    "print('\\n')\n",
    "for row in rows[:3]:\n",
    "    # parsing each column of a row\n",
    "    for col in row:\n",
    "        print(\"%10s\"%col, end='  '),\n",
    "    print('\\n')"
   ]
  },
  {
   "cell_type": "code",
   "execution_count": null,
   "id": "b551911f",
   "metadata": {},
   "outputs": [],
   "source": []
  }
 ],
 "metadata": {
  "kernelspec": {
   "display_name": "Python 3",
   "language": "python",
   "name": "python3"
  },
  "language_info": {
   "codemirror_mode": {
    "name": "ipython",
    "version": 3
   },
   "file_extension": ".py",
   "mimetype": "text/x-python",
   "name": "python",
   "nbconvert_exporter": "python",
   "pygments_lexer": "ipython3",
   "version": "3.8.8"
  }
 },
 "nbformat": 4,
 "nbformat_minor": 5
}

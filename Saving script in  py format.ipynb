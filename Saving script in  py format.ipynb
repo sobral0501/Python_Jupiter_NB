{
 "cells": [
  {
   "cell_type": "markdown",
   "id": "b90f8b3b",
   "metadata": {},
   "source": [
    "**Saving .jpynb file to .py  using %%writefile file_name.py**"
   ]
  },
  {
   "cell_type": "code",
   "execution_count": 6,
   "id": "94f2600f",
   "metadata": {},
   "outputs": [
    {
     "name": "stdout",
     "output_type": "stream",
     "text": [
      "Enter radius: 5\n",
      "Area = 78.53981633974483\n",
      "Circumference = 31.41592653589793\n"
     ]
    }
   ],
   "source": [
    "%%writefile main_script.py\n",
    "\n",
    "# [ ] The following program asks the user for a circle radius then display the area and circumference\n",
    "# Modify the program so it only displays the information when executed directly\n",
    "# The program should not display anything if it is imported as a module \n",
    "\n",
    "def main():\n",
    "    import sys\n",
    "    from math import pi\n",
    "\n",
    "    def circle_area(r):\n",
    "        return pi * (r ** 2)\n",
    "\n",
    "    def circle_circumference(r):\n",
    "        return  2 * pi * r\n",
    "\n",
    "    radius = float(input(\"Enter radius: \"))\n",
    "    print(\"Area =\", circle_area(radius))\n",
    "    print(\"Circumference =\", circle_circumference(radius))\n",
    "\n",
    "if __name__ == \"__main__\":\n",
    "    main()"
   ]
  },
  {
   "cell_type": "markdown",
   "id": "25e90453",
   "metadata": {},
   "source": [
    "**Appending new lines of program to file with:  %%writefile -a file_name.py**"
   ]
  },
  {
   "cell_type": "code",
   "execution_count": 7,
   "id": "6310c785",
   "metadata": {},
   "outputs": [
    {
     "name": "stdout",
     "output_type": "stream",
     "text": [
      "Appending to main_script.py\n"
     ]
    }
   ],
   "source": [
    "%%writefile -a main_script.py\n",
    "\n",
    "print('Djair Attacking')\n",
    "Print('One More line of program')"
   ]
  },
  {
   "cell_type": "code",
   "execution_count": null,
   "id": "850dc080",
   "metadata": {},
   "outputs": [],
   "source": []
  }
 ],
 "metadata": {
  "kernelspec": {
   "display_name": "Python 3",
   "language": "python",
   "name": "python3"
  },
  "language_info": {
   "codemirror_mode": {
    "name": "ipython",
    "version": 3
   },
   "file_extension": ".py",
   "mimetype": "text/x-python",
   "name": "python",
   "nbconvert_exporter": "python",
   "pygments_lexer": "ipython3",
   "version": "3.8.8"
  }
 },
 "nbformat": 4,
 "nbformat_minor": 5
}

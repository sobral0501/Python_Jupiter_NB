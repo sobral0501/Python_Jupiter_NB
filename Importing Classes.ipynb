{
 "cells": [
  {
   "cell_type": "markdown",
   "id": "9bed83c4",
   "metadata": {},
   "source": [
    "**Importing Classes**"
   ]
  },
  {
   "cell_type": "code",
   "execution_count": 2,
   "id": "6f8d3868",
   "metadata": {},
   "outputs": [
    {
     "name": "stdout",
     "output_type": "stream",
     "text": [
      "2019 Audi A4\n"
     ]
    }
   ],
   "source": [
    "from car import Car\n",
    "\n",
    "ecar = Car('audi','a4',2019)\n",
    "print(ecar.get_descriptive_name())"
   ]
  },
  {
   "cell_type": "code",
   "execution_count": 3,
   "id": "2a5df962",
   "metadata": {},
   "outputs": [
    {
     "name": "stdout",
     "output_type": "stream",
     "text": [
      "This car has 1200 miles on it.\n"
     ]
    }
   ],
   "source": [
    "ecar.odometer_read = 1200\n",
    "ecar.read_odometer()"
   ]
  },
  {
   "cell_type": "code",
   "execution_count": 4,
   "id": "cf34c8ab",
   "metadata": {},
   "outputs": [
    {
     "name": "stdout",
     "output_type": "stream",
     "text": [
      "2020 Tesla Model S\n",
      "This car has a 75-kWh battery.\n",
      "This car can go about 260 miles on a full charge.\n"
     ]
    }
   ],
   "source": [
    "from car import ElectricCar\n",
    "\n",
    "acar = ElectricCar('tesla','model s',2020)\n",
    "print(acar.get_descriptive_name())\n",
    "acar.battery.describe_battery()\n",
    "acar.battery.get_range()"
   ]
  },
  {
   "cell_type": "code",
   "execution_count": null,
   "id": "3ce4778a",
   "metadata": {},
   "outputs": [],
   "source": []
  }
 ],
 "metadata": {
  "kernelspec": {
   "display_name": "Python 3",
   "language": "python",
   "name": "python3"
  },
  "language_info": {
   "codemirror_mode": {
    "name": "ipython",
    "version": 3
   },
   "file_extension": ".py",
   "mimetype": "text/x-python",
   "name": "python",
   "nbconvert_exporter": "python",
   "pygments_lexer": "ipython3",
   "version": "3.8.8"
  }
 },
 "nbformat": 4,
 "nbformat_minor": 5
}

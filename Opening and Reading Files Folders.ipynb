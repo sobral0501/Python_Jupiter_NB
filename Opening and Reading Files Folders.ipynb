{
 "cells": [
  {
   "cell_type": "code",
   "execution_count": 4,
   "id": "f61db547",
   "metadata": {},
   "outputs": [
    {
     "data": {
      "text/plain": [
       "'C:\\\\Users\\\\12142\\\\My Python Stuff'"
      ]
     },
     "execution_count": 4,
     "metadata": {},
     "output_type": "execute_result"
    }
   ],
   "source": [
    "# show current working directory\n",
    "pwd"
   ]
  },
  {
   "cell_type": "code",
   "execution_count": 5,
   "id": "73603895",
   "metadata": {},
   "outputs": [],
   "source": [
    "f = open('practice.txt', 'w+')\n",
    "f.write('This is a Teste File.')\n",
    "f.write('Created by Djair Sobral')\n",
    "f.close()"
   ]
  },
  {
   "cell_type": "code",
   "execution_count": 6,
   "id": "ae27d4b4",
   "metadata": {},
   "outputs": [],
   "source": [
    "import os"
   ]
  },
  {
   "cell_type": "code",
   "execution_count": 7,
   "id": "173d29c8",
   "metadata": {},
   "outputs": [
    {
     "data": {
      "text/plain": [
       "'C:\\\\Users\\\\12142\\\\My Python Stuff'"
      ]
     },
     "execution_count": 7,
     "metadata": {},
     "output_type": "execute_result"
    }
   ],
   "source": [
    "# Return the current working directory\n",
    "os.getcwd()"
   ]
  },
  {
   "cell_type": "code",
   "execution_count": 8,
   "id": "80e1a475",
   "metadata": {},
   "outputs": [
    {
     "data": {
      "text/plain": [
       "['.ipynb_checkpoints',\n",
       " '1_1 Python LISTS.ipynb',\n",
       " '1_2 Exercise on Lists.ipynb',\n",
       " '1_3 Exercises on Lists.ipynb',\n",
       " '3 User Input and while Loops.ipynb',\n",
       " 'Answer to Func and Math Homework.ipynb',\n",
       " 'BiToDec.ipynb',\n",
       " 'car.ipynb',\n",
       " 'car.py',\n",
       " 'Cartwheeldata.csv',\n",
       " 'city.csv',\n",
       " 'Class and Methods - Part 2.ipynb',\n",
       " 'Class and Modules Exercises.ipynb',\n",
       " 'Class Exercises 8 and 9.ipynb',\n",
       " 'Classes - Importing Classes.ipynb',\n",
       " 'Classes and Methods  - Part 1.ipynb',\n",
       " 'Classes Exercises.ipynb',\n",
       " 'Classes.ipynb',\n",
       " 'Collections Module.ipynb',\n",
       " 'customer.csv',\n",
       " 'DA0101EN-2-Review-Data-Wrangling.ipynb',\n",
       " 'DA0101EN-3-Review-Exploratory-Data-Analysis.ipynb',\n",
       " 'DA0101EN-4-Review-Model-Development.ipynb',\n",
       " 'DA0101EN-5-Review-Model-Evaluation-and-Refinement.ipynb',\n",
       " 'Data Analysis',\n",
       " 'Data Analytics - Exploratory Data Analysis.ipynb',\n",
       " 'Data Management with Pandas.ipynb',\n",
       " 'Data Wrangling or Pre-Processing Data.ipynb',\n",
       " 'database.ini',\n",
       " 'Decimal To Binary.ipynb',\n",
       " 'Decorators.ipynb',\n",
       " 'Exceptions.ipynb',\n",
       " 'Functions Exercises.ipynb',\n",
       " 'Functions.ipynb',\n",
       " 'GENERATORS.ipynb',\n",
       " 'Importing and Exporting Data - DA0101EN-Review-Introduction.ipynb',\n",
       " 'Importing and Exporting Data.ipynb',\n",
       " 'Importing Module or Functions.ipynb',\n",
       " 'Importing Multiple Classes from a Module.ipynb',\n",
       " 'imports-85.data',\n",
       " 'IRIS.csv',\n",
       " 'I_O - Reading and Writing on txt Files.ipynb',\n",
       " 'List Comprehensions.ipynb',\n",
       " 'main_script.py',\n",
       " 'map filter lambda.ipynb',\n",
       " 'module_5_auto.csv',\n",
       " 'MyFunctions.py',\n",
       " 'New_City_file.csv',\n",
       " 'Numpy library.ipynb',\n",
       " 'Opening and Reading Files Folders.ipynb',\n",
       " 'Operators.ipynb',\n",
       " 'practice.txt',\n",
       " 'Project-1.ipynb',\n",
       " 'Python Class',\n",
       " 'Quandl and Pandas.ipynb',\n",
       " 'Reading Tables from SQL Database..ipynb',\n",
       " 'Saving script in  py format.ipynb',\n",
       " 'Some silly Functions.ipynb',\n",
       " 'special Methods for Strings - Class.ipynb',\n",
       " 'Statistics with Python',\n",
       " 'tictactoe.py',\n",
       " 'tips.csv',\n",
       " 'TUPLE.ipynb',\n",
       " 'Untitled.ipynb',\n",
       " 'Untitled1.ipynb',\n",
       " 'Untitled2.ipynb',\n",
       " 'used_cars.csv',\n",
       " 'Variables and Data Types.ipynb',\n",
       " 'vehicles.csv',\n",
       " 'Working with Lists Tuples and Loops.ipynb',\n",
       " 'Working with strings.ipynb',\n",
       " '__pycache__']"
      ]
     },
     "execution_count": 8,
     "metadata": {},
     "output_type": "execute_result"
    }
   ],
   "source": [
    "# List all the content of my current directory\n",
    "os.listdir()"
   ]
  },
  {
   "cell_type": "code",
   "execution_count": 9,
   "id": "ec541c13",
   "metadata": {},
   "outputs": [
    {
     "data": {
      "text/plain": [
       "['12142',\n",
       " 'All Users',\n",
       " 'Default',\n",
       " 'Default User',\n",
       " 'desktop.ini',\n",
       " 'postgres',\n",
       " 'Public']"
      ]
     },
     "execution_count": 9,
     "metadata": {},
     "output_type": "execute_result"
    }
   ],
   "source": [
    "# List the content of a directory\n",
    "os.listdir('c:\\\\Users')"
   ]
  },
  {
   "cell_type": "code",
   "execution_count": 10,
   "id": "00f458ab",
   "metadata": {},
   "outputs": [],
   "source": [
    "import shutil   # shell Utility   === shutil"
   ]
  },
  {
   "cell_type": "code",
   "execution_count": 11,
   "id": "caa66b9a",
   "metadata": {},
   "outputs": [
    {
     "data": {
      "text/plain": [
       "'c:\\\\myfiles\\\\practice.txt'"
      ]
     },
     "execution_count": 11,
     "metadata": {},
     "output_type": "execute_result"
    }
   ],
   "source": [
    "# Move a file to another directory\n",
    "shutil.move('practice.txt','c:\\\\myfiles')"
   ]
  },
  {
   "cell_type": "code",
   "execution_count": 12,
   "id": "a55eb8ce",
   "metadata": {},
   "outputs": [
    {
     "data": {
      "text/plain": [
       "['Alice in Wonderland.txt',\n",
       " 'file_names.txt',\n",
       " 'guest_book.txt',\n",
       " 'practice.txt',\n",
       " 'programming.txt']"
      ]
     },
     "execution_count": 12,
     "metadata": {},
     "output_type": "execute_result"
    }
   ],
   "source": [
    "os.listdir('c:\\\\myfiles')"
   ]
  },
  {
   "cell_type": "code",
   "execution_count": 13,
   "id": "3640562b",
   "metadata": {},
   "outputs": [],
   "source": [
    "import send2trash"
   ]
  },
  {
   "cell_type": "code",
   "execution_count": 14,
   "id": "2eb56fcd",
   "metadata": {},
   "outputs": [
    {
     "data": {
      "text/plain": [
       "'C:\\\\Users\\\\12142\\\\My Python Stuff\\\\practice.txt'"
      ]
     },
     "execution_count": 14,
     "metadata": {},
     "output_type": "execute_result"
    }
   ],
   "source": [
    "# Move file to current directory\n",
    "shutil.move('c:\\\\myfiles\\\\practice.txt', os.getcwd())"
   ]
  },
  {
   "cell_type": "code",
   "execution_count": 15,
   "id": "6c908117",
   "metadata": {},
   "outputs": [],
   "source": [
    "send2trash.send2trash('practice.txt')"
   ]
  }
 ],
 "metadata": {
  "kernelspec": {
   "display_name": "Python 3",
   "language": "python",
   "name": "python3"
  },
  "language_info": {
   "codemirror_mode": {
    "name": "ipython",
    "version": 3
   },
   "file_extension": ".py",
   "mimetype": "text/x-python",
   "name": "python",
   "nbconvert_exporter": "python",
   "pygments_lexer": "ipython3",
   "version": "3.8.8"
  }
 },
 "nbformat": 4,
 "nbformat_minor": 5
}

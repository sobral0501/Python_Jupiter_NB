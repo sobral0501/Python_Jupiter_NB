{
 "cells": [
  {
   "cell_type": "code",
   "execution_count": 1,
   "id": "c3372320",
   "metadata": {},
   "outputs": [],
   "source": [
    "# Built in Functions."
   ]
  },
  {
   "cell_type": "code",
   "execution_count": 2,
   "id": "91d2be05",
   "metadata": {},
   "outputs": [],
   "source": [
    "mylist = [1,2,3]"
   ]
  },
  {
   "cell_type": "code",
   "execution_count": 3,
   "id": "95d77c91",
   "metadata": {},
   "outputs": [
    {
     "name": "stdout",
     "output_type": "stream",
     "text": [
      "0\n",
      "1\n",
      "2\n",
      "3\n",
      "4\n"
     ]
    }
   ],
   "source": [
    "# The Range function.\n",
    "for num in range(5):\n",
    "    print(num)"
   ]
  },
  {
   "cell_type": "code",
   "execution_count": 4,
   "id": "1ab6034c",
   "metadata": {},
   "outputs": [
    {
     "name": "stdout",
     "output_type": "stream",
     "text": [
      "5\n",
      "6\n",
      "7\n",
      "8\n",
      "9\n"
     ]
    }
   ],
   "source": [
    "# starting in 5 until 10-1 = 9.\n",
    "for num in range(5,10):\n",
    "    print(num)"
   ]
  },
  {
   "cell_type": "code",
   "execution_count": 5,
   "id": "7f9157ee",
   "metadata": {},
   "outputs": [
    {
     "name": "stdout",
     "output_type": "stream",
     "text": [
      "2\n",
      "4\n",
      "6\n",
      "8\n"
     ]
    }
   ],
   "source": [
    "# starting in 2 skip by 2 until 10-1 = 9.\n",
    "for num in range(2,10,2):\n",
    "    print(num)"
   ]
  },
  {
   "cell_type": "code",
   "execution_count": 9,
   "id": "2fc8d261",
   "metadata": {},
   "outputs": [
    {
     "name": "stdout",
     "output_type": "stream",
     "text": [
      "[0, 2, 4, 6, 8, 10, 12, 14, 16, 18, 20]\n"
     ]
    }
   ],
   "source": [
    "a = list(range(0,21,2))\n",
    "print(a)"
   ]
  },
  {
   "cell_type": "code",
   "execution_count": 10,
   "id": "6b254db7",
   "metadata": {},
   "outputs": [
    {
     "name": "stdout",
     "output_type": "stream",
     "text": [
      "At index 0 the letter is: a\n",
      "At index 1 the letter is: b\n",
      "At index 2 the letter is: c\n",
      "At index 3 the letter is: d\n",
      "At index 4 the letter is: e\n"
     ]
    }
   ],
   "source": [
    "# Enumerate Function.\n",
    "\n",
    "index_count = 0\n",
    "\n",
    "for letter in 'abcde':\n",
    "    print('At index {} the letter is: {}'.format(index_count, letter))\n",
    "    index_count += 1"
   ]
  },
  {
   "cell_type": "code",
   "execution_count": 12,
   "id": "71e844ef",
   "metadata": {},
   "outputs": [
    {
     "name": "stdout",
     "output_type": "stream",
     "text": [
      "A\n",
      "B\n",
      "C\n",
      "D\n",
      "E\n"
     ]
    }
   ],
   "source": [
    "index_count = 0\n",
    "word = 'ABCDE'\n",
    "\n",
    "for letter in word:\n",
    "    print(word[index_count])\n",
    "    index_count += 1\n"
   ]
  },
  {
   "cell_type": "code",
   "execution_count": 13,
   "id": "4f3e1b86",
   "metadata": {},
   "outputs": [
    {
     "name": "stdout",
     "output_type": "stream",
     "text": [
      "(0, 'A')\n",
      "(1, 'B')\n",
      "(2, 'C')\n",
      "(3, 'D')\n",
      "(4, 'E')\n"
     ]
    }
   ],
   "source": [
    "# Using Enumerate function.\n",
    "word = 'ABCDE'\n",
    "for item in enumerate(word):\n",
    "    print(item)"
   ]
  },
  {
   "cell_type": "code",
   "execution_count": 14,
   "id": "ea2256b3",
   "metadata": {},
   "outputs": [
    {
     "name": "stdout",
     "output_type": "stream",
     "text": [
      "0 : A\n",
      "1 : B\n",
      "2 : C\n",
      "3 : D\n",
      "4 : E\n"
     ]
    }
   ],
   "source": [
    "for index, letter in enumerate(word):\n",
    "    print(str(index)+' : '+letter)"
   ]
  },
  {
   "cell_type": "code",
   "execution_count": 17,
   "id": "3dbe74a5",
   "metadata": {},
   "outputs": [
    {
     "name": "stdout",
     "output_type": "stream",
     "text": [
      "<zip object at 0x0000019EAF181480>\n"
     ]
    }
   ],
   "source": [
    "# The 'Zip' Function.\n",
    "list_1 = [1,2,3]\n",
    "list_2 = ['x','y','z']\n",
    "list_3 = ['A','B','C']\n",
    "\n",
    "list_master = zip(list_1,list_2,list_3)\n",
    "print(list_master)"
   ]
  },
  {
   "cell_type": "code",
   "execution_count": 18,
   "id": "500d4e97",
   "metadata": {},
   "outputs": [
    {
     "name": "stdout",
     "output_type": "stream",
     "text": [
      "(1, 'x', 'A')\n",
      "(2, 'y', 'B')\n",
      "(3, 'z', 'C')\n"
     ]
    }
   ],
   "source": [
    "# To list the items of a zip - iterate the list.\n",
    "for item in list_master:\n",
    "    print(item)"
   ]
  },
  {
   "cell_type": "code",
   "execution_count": 22,
   "id": "7ea085d6",
   "metadata": {},
   "outputs": [
    {
     "name": "stdout",
     "output_type": "stream",
     "text": [
      "(1, 'x', 'A')\n",
      "(2, 'y', 'B')\n",
      "(3, 'z', 'C')\n",
      "(4, 'w', 'D')\n"
     ]
    }
   ],
   "source": [
    "list_1 = [1,2,3,4,5,6]\n",
    "list_2 = ['x','y','z','w']\n",
    "list_3 = ['A','B','C','D','E','F','G','H']\n",
    "\n",
    "list_master = zip(list_1,list_2,list_3)\n",
    "\n",
    "for item in list_master:\n",
    "    print(item)"
   ]
  },
  {
   "cell_type": "code",
   "execution_count": 25,
   "id": "db17e032",
   "metadata": {},
   "outputs": [
    {
     "name": "stdout",
     "output_type": "stream",
     "text": [
      "[(1, 'x', 'A'), (2, 'y', 'B'), (3, 'z', 'C'), (4, 'w', 'D')]\n"
     ]
    }
   ],
   "source": [
    "list_master = zip(list_1,list_2,list_3)\n",
    "lista_horizontal = list(list_master)\n",
    "print(lista_horizontal)"
   ]
  },
  {
   "cell_type": "code",
   "execution_count": 26,
   "id": "28dbfd0b",
   "metadata": {},
   "outputs": [
    {
     "data": {
      "text/plain": [
       "True"
      ]
     },
     "execution_count": 26,
     "metadata": {},
     "output_type": "execute_result"
    }
   ],
   "source": [
    "'a' in 'Djair'"
   ]
  },
  {
   "cell_type": "code",
   "execution_count": 27,
   "id": "01b2a9dc",
   "metadata": {},
   "outputs": [
    {
     "data": {
      "text/plain": [
       "True"
      ]
     },
     "execution_count": 27,
     "metadata": {},
     "output_type": "execute_result"
    }
   ],
   "source": [
    "# 'IN' operator in dictionary\n",
    "'key3' in {'key2':2,'key3':3,'key5':5} "
   ]
  },
  {
   "cell_type": "code",
   "execution_count": 31,
   "id": "72971da3",
   "metadata": {},
   "outputs": [
    {
     "data": {
      "text/plain": [
       "True"
      ]
     },
     "execution_count": 31,
     "metadata": {},
     "output_type": "execute_result"
    }
   ],
   "source": [
    "d = {'key5':1962}\n",
    "1962 in d.values()"
   ]
  },
  {
   "cell_type": "code",
   "execution_count": 34,
   "id": "584bcbb6",
   "metadata": {},
   "outputs": [
    {
     "name": "stdout",
     "output_type": "stream",
     "text": [
      "Minimo :10\n",
      "Maximo :100\n"
     ]
    }
   ],
   "source": [
    "# MIN() and MAX() function.\n",
    "mylist = [10,20,30,40,100]\n",
    "\n",
    "print(f'Minimo :{min(mylist)}')\n",
    "\n",
    "print(f'Maximo :{max(mylist)}')\n"
   ]
  },
  {
   "cell_type": "code",
   "execution_count": 35,
   "id": "db551bdd",
   "metadata": {},
   "outputs": [],
   "source": [
    "# random library\n",
    "from random import shuffle"
   ]
  },
  {
   "cell_type": "code",
   "execution_count": 36,
   "id": "af28676d",
   "metadata": {},
   "outputs": [
    {
     "data": {
      "text/plain": [
       "[10, 9, 8, 7, 5, 3, 4, 1, 6, 2]"
      ]
     },
     "execution_count": 36,
     "metadata": {},
     "output_type": "execute_result"
    }
   ],
   "source": [
    "mylist = [1,2,3,4,5,6,7,8,9,10]\n",
    "shuffle(mylist)\n",
    "mylist"
   ]
  },
  {
   "cell_type": "code",
   "execution_count": 37,
   "id": "c346a50f",
   "metadata": {},
   "outputs": [
    {
     "data": {
      "text/plain": [
       "57"
      ]
     },
     "execution_count": 37,
     "metadata": {},
     "output_type": "execute_result"
    }
   ],
   "source": [
    "from random import randint\n",
    "# return an integer between 0 and 100.\n",
    "randint(0,100)"
   ]
  },
  {
   "cell_type": "code",
   "execution_count": null,
   "id": "2fb9fbd8",
   "metadata": {},
   "outputs": [],
   "source": []
  }
 ],
 "metadata": {
  "kernelspec": {
   "display_name": "Python 3",
   "language": "python",
   "name": "python3"
  },
  "language_info": {
   "codemirror_mode": {
    "name": "ipython",
    "version": 3
   },
   "file_extension": ".py",
   "mimetype": "text/x-python",
   "name": "python",
   "nbconvert_exporter": "python",
   "pygments_lexer": "ipython3",
   "version": "3.8.8"
  }
 },
 "nbformat": 4,
 "nbformat_minor": 5
}
